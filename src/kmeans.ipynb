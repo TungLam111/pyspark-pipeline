{
 "cells": [
  {
   "cell_type": "code",
   "execution_count": 1,
   "id": "c7f015b2",
   "metadata": {},
   "outputs": [],
   "source": [
    "import findspark\n",
    "findspark.init()"
   ]
  },
  {
   "cell_type": "code",
   "execution_count": 2,
   "id": "e6cc5e50",
   "metadata": {},
   "outputs": [],
   "source": [
    "from pyspark import SparkContext, SparkConf"
   ]
  },
  {
   "cell_type": "code",
   "execution_count": 3,
   "id": "02bb1ddd",
   "metadata": {},
   "outputs": [],
   "source": [
    "conf = SparkConf().setMaster(\"yarn\").setAppName(\"Clustering\")"
   ]
  },
  {
   "cell_type": "code",
   "execution_count": 4,
   "id": "ba17d3f6",
   "metadata": {
    "scrolled": false
   },
   "outputs": [
    {
     "name": "stderr",
     "output_type": "stream",
     "text": [
      "Setting default log level to \"WARN\".\n",
      "To adjust logging level use sc.setLogLevel(newLevel). For SparkR, use setLogLevel(newLevel).\n"
     ]
    },
    {
     "data": {
      "text/plain": [
       "[('spark.app.id', 'application_1671345986273_0008'),\n",
       " ('spark.driver.extraJavaOptions',\n",
       "  '-XX:+IgnoreUnrecognizedVMOptions --add-opens=java.base/java.lang=ALL-UNNAMED --add-opens=java.base/java.lang.invoke=ALL-UNNAMED --add-opens=java.base/java.lang.reflect=ALL-UNNAMED --add-opens=java.base/java.io=ALL-UNNAMED --add-opens=java.base/java.net=ALL-UNNAMED --add-opens=java.base/java.nio=ALL-UNNAMED --add-opens=java.base/java.util=ALL-UNNAMED --add-opens=java.base/java.util.concurrent=ALL-UNNAMED --add-opens=java.base/java.util.concurrent.atomic=ALL-UNNAMED --add-opens=java.base/sun.nio.ch=ALL-UNNAMED --add-opens=java.base/sun.nio.cs=ALL-UNNAMED --add-opens=java.base/sun.security.action=ALL-UNNAMED --add-opens=java.base/sun.util.calendar=ALL-UNNAMED --add-opens=java.security.jgss/sun.security.krb5=ALL-UNNAMED'),\n",
       " ('spark.org.apache.hadoop.yarn.server.webproxy.amfilter.AmIpFilter.param.PROXY_HOSTS',\n",
       "  'master'),\n",
       " ('spark.org.apache.hadoop.yarn.server.webproxy.amfilter.AmIpFilter.param.PROXY_URI_BASES',\n",
       "  'http://master:8088/proxy/application_1671345986273_0008'),\n",
       " ('spark.driver.port', '41441'),\n",
       " ('spark.executor.id', 'driver'),\n",
       " ('spark.ui.proxyBase', '/proxy/application_1671345986273_0008'),\n",
       " ('spark.driver.bindAddress', '192.1.1.11'),\n",
       " ('spark.ui.port', '4050'),\n",
       " ('spark.master', 'yarn'),\n",
       " ('spark.driver.appUIAddress', 'http://edge:4050'),\n",
       " ('spark.app.name', 'Clustering'),\n",
       " ('spark.app.submitTime', '1671370066713'),\n",
       " ('spark.rdd.compress', 'True'),\n",
       " ('spark.yarn.jars', ''),\n",
       " ('spark.driver.host', 'edge'),\n",
       " ('spark.executor.extraJavaOptions',\n",
       "  '-XX:+IgnoreUnrecognizedVMOptions --add-opens=java.base/java.lang=ALL-UNNAMED --add-opens=java.base/java.lang.invoke=ALL-UNNAMED --add-opens=java.base/java.lang.reflect=ALL-UNNAMED --add-opens=java.base/java.io=ALL-UNNAMED --add-opens=java.base/java.net=ALL-UNNAMED --add-opens=java.base/java.nio=ALL-UNNAMED --add-opens=java.base/java.util=ALL-UNNAMED --add-opens=java.base/java.util.concurrent=ALL-UNNAMED --add-opens=java.base/java.util.concurrent.atomic=ALL-UNNAMED --add-opens=java.base/sun.nio.ch=ALL-UNNAMED --add-opens=java.base/sun.nio.cs=ALL-UNNAMED --add-opens=java.base/sun.security.action=ALL-UNNAMED --add-opens=java.base/sun.util.calendar=ALL-UNNAMED --add-opens=java.security.jgss/sun.security.krb5=ALL-UNNAMED'),\n",
       " ('spark.serializer.objectStreamReset', '100'),\n",
       " ('spark.executorEnv.PYTHONPATH',\n",
       "  '/usr/local/spark/python:<CPS>{{PWD}}/pyspark.zip<CPS>{{PWD}}/py4j-0.10.9.5-src.zip'),\n",
       " ('spark.submit.pyFiles', ''),\n",
       " ('spark.app.startTime', '1671370067135'),\n",
       " ('spark.yarn.isPython', 'true'),\n",
       " ('spark.submit.deployMode', 'client'),\n",
       " ('spark.ui.filters',\n",
       "  'org.apache.hadoop.yarn.server.webproxy.amfilter.AmIpFilter'),\n",
       " ('spark.ui.showConsoleProgress', 'true')]"
      ]
     },
     "execution_count": 4,
     "metadata": {},
     "output_type": "execute_result"
    }
   ],
   "source": [
    "sc = SparkContext.getOrCreate (conf = conf)\n",
    "sc.getConf().getAll()"
   ]
  },
  {
   "cell_type": "code",
   "execution_count": 5,
   "id": "a8147824",
   "metadata": {},
   "outputs": [],
   "source": [
    "import seaborn as sns\n",
    "import re\n",
    "import csv\n",
    "import math\n",
    "import pandas as pd\n",
    "import matplotlib.pyplot as plt\n",
    "from matplotlib  import cm\n",
    "import numpy as np"
   ]
  },
  {
   "cell_type": "code",
   "execution_count": 6,
   "id": "75791c6f",
   "metadata": {},
   "outputs": [],
   "source": [
    "createType = \"csv_read_chunk\"\n",
    "database = \"final_database\""
   ]
  },
  {
   "cell_type": "markdown",
   "id": "e0310ecc",
   "metadata": {},
   "source": [
    "## 1. Perform data preprocessing steps."
   ]
  },
  {
   "cell_type": "code",
   "execution_count": 7,
   "id": "4a481ff6",
   "metadata": {
    "scrolled": true
   },
   "outputs": [
    {
     "name": "stderr",
     "output_type": "stream",
     "text": [
      "                                                                                \r"
     ]
    }
   ],
   "source": [
    "wholdRDD = None\n",
    "\n",
    "# if createType == \"csv_read_all\":\n",
    "#     data = []\n",
    "#     with open('{}.csv'.format(database), 'r') as file:\n",
    "#         reader = csv.reader(file)\n",
    "#         for row in reader:\n",
    "#             data.append(tuple(row))\n",
    "#     columns = data[0]\n",
    "#     data = data[1:]\n",
    "#     wholeRDD = sc.parallelize(data, 20)\n",
    "\n",
    "if createType == \"csv_read_chunk\":\n",
    "    rdd = sc.textFile(\"hdfs://master:9000/data/{}.csv\".format(database), 20)\n",
    "    wholeRDD = rdd.mapPartitions(lambda x: csv.reader(x))\n",
    "    columns = wholeRDD.first()\n",
    "    wholeRDD = wholeRDD.filter(lambda x: x[0] != 'Country')\n",
    "else:\n",
    "    print(\"Can not read data\")"
   ]
  },
  {
   "cell_type": "code",
   "execution_count": 8,
   "id": "7b18ddd1",
   "metadata": {
    "scrolled": true
   },
   "outputs": [
    {
     "name": "stdout",
     "output_type": "stream",
     "text": [
      "['Country', 'Uri', 'Popularity', 'Title', 'Artist', 'Album/Single', 'Genre', 'Artist_followers', 'Explicit', 'Album', 'Release_date', 'Track_number', 'Tracks_in_album', 'danceability', 'energy', 'key', 'loudness', 'mode', 'speechiness', 'acoustics', 'instrumentalness', 'liveliness', 'valence', 'tempo', 'duration_ms', 'time_signature', 'Genre_new', 'Days_since_release', 'Released_after_2017', 'Explicit_false', 'Explicit_true', 'album', 'compilation', 'single', 'bolero', 'boy band', 'country', 'dance/electronic', 'else', 'funk', 'hip hop', 'house', 'indie', 'jazz', 'k-pop', 'latin', 'metal', 'opm', 'pop', 'r&b/soul', 'rap', 'reggae', 'reggaeton', 'rock', 'trap', 'syuzhet_norm', 'bing_norm', 'afinn_norm', 'nrc_norm', 'syuzhet', 'bing', 'afinn', 'nrc', 'anger', 'anticipation', 'disgust', 'fear', 'joy', 'sadness', 'surprise', 'trust', 'negative', 'positive', 'n_words', 'anger_norm', 'anticipation_norm', 'disgust_norm', 'fear_norm', 'joy_norm', 'sadness_norm', 'surprise_norm', 'trust_norm', 'negative_norm', 'positive_norm', 'anger_norm2', 'anticipation_norm2', 'disgust_norm2', 'fear_norm2', 'joy_norm2', 'sadness_norm2', 'surprise_norm2', 'trust_norm2', 'negative_norm2', 'positive_norm2', 'negative_bog_jr', 'positive_bog_jr', 'Bayes', 'Negative_Bayes', 'Neutral_Bayes', 'Positive_Bayes', 'LDA_Topic', 'Celebrate', 'Desire', 'Explore', 'Fun', 'Hope', 'Love', 'Nostalgia', 'Thug', 'bing_norm_negative', 'bing_norm_neutral', 'bing_norm_positive', 'Argentina', 'Australia', 'Austria', 'Belgium', 'Brazil', 'Canada', 'Chile', 'Colombia', 'Costa Rica', 'Denmark', 'Ecuador', 'Finland', 'France', 'Germany', 'Global', 'Indonesia', 'Ireland', 'Italy', 'Malaysia', 'Mexico', 'Netherlands', 'New Zealand', 'Norway', 'Peru', 'Philippines', 'Poland', 'Portugal', 'Singapore', 'Spain', 'Sweden', 'Switzerland', 'Taiwan', 'Turkey', 'UK', 'USA', 'Popu_max', 'Top10_dummy', 'Top50_dummy', 'Cluster']\n"
     ]
    }
   ],
   "source": [
    "'''\n",
    "Dataset has many columns which is inconvenient to index value. I extract the columns (list of attributes)\n",
    "'''\n",
    "print(columns)"
   ]
  },
  {
   "cell_type": "markdown",
   "id": "5a9b6c55",
   "metadata": {},
   "source": [
    "Firstly, This dataset actually includes a lot of one-hot encoding vectors from category attributes like Country, Explicit, Genre, etc...\n",
    "\n",
    "Secondly, there are many attributes having missing values (syuzhet_norm, syuzhet, bing, etc). It's reasonable to drop these columns"
   ]
  },
  {
   "cell_type": "code",
   "execution_count": 9,
   "id": "f1f7d8a2",
   "metadata": {},
   "outputs": [],
   "source": [
    "wholeRDD = wholeRDD.map(lambda line: line[:55] + line[112:])\n",
    "columns = columns[:55] + columns[112:] "
   ]
  },
  {
   "cell_type": "code",
   "execution_count": 10,
   "id": "41988664",
   "metadata": {},
   "outputs": [],
   "source": [
    "c = { attr : idx  for idx, attr in enumerate(columns) }"
   ]
  },
  {
   "cell_type": "code",
   "execution_count": 11,
   "id": "a7b085cb",
   "metadata": {},
   "outputs": [
    {
     "name": "stdout",
     "output_type": "stream",
     "text": [
      "Number of columns =  94\n"
     ]
    }
   ],
   "source": [
    "print(\"Number of columns = \", len(c))"
   ]
  },
  {
   "cell_type": "code",
   "execution_count": 12,
   "id": "87f9ac37",
   "metadata": {
    "scrolled": true
   },
   "outputs": [
    {
     "data": {
      "text/plain": [
       "{'Country': 0,\n",
       " 'Uri': 1,\n",
       " 'Popularity': 2,\n",
       " 'Title': 3,\n",
       " 'Artist': 4,\n",
       " 'Album/Single': 5,\n",
       " 'Genre': 6,\n",
       " 'Artist_followers': 7,\n",
       " 'Explicit': 8,\n",
       " 'Album': 9,\n",
       " 'Release_date': 10,\n",
       " 'Track_number': 11,\n",
       " 'Tracks_in_album': 12,\n",
       " 'danceability': 13,\n",
       " 'energy': 14,\n",
       " 'key': 15,\n",
       " 'loudness': 16,\n",
       " 'mode': 17,\n",
       " 'speechiness': 18,\n",
       " 'acoustics': 19,\n",
       " 'instrumentalness': 20,\n",
       " 'liveliness': 21,\n",
       " 'valence': 22,\n",
       " 'tempo': 23,\n",
       " 'duration_ms': 24,\n",
       " 'time_signature': 25,\n",
       " 'Genre_new': 26,\n",
       " 'Days_since_release': 27,\n",
       " 'Released_after_2017': 28,\n",
       " 'Explicit_false': 29,\n",
       " 'Explicit_true': 30,\n",
       " 'album': 31,\n",
       " 'compilation': 32,\n",
       " 'single': 33,\n",
       " 'bolero': 34,\n",
       " 'boy band': 35,\n",
       " 'country': 36,\n",
       " 'dance/electronic': 37,\n",
       " 'else': 38,\n",
       " 'funk': 39,\n",
       " 'hip hop': 40,\n",
       " 'house': 41,\n",
       " 'indie': 42,\n",
       " 'jazz': 43,\n",
       " 'k-pop': 44,\n",
       " 'latin': 45,\n",
       " 'metal': 46,\n",
       " 'opm': 47,\n",
       " 'pop': 48,\n",
       " 'r&b/soul': 49,\n",
       " 'rap': 50,\n",
       " 'reggae': 51,\n",
       " 'reggaeton': 52,\n",
       " 'rock': 53,\n",
       " 'trap': 54,\n",
       " 'Argentina': 55,\n",
       " 'Australia': 56,\n",
       " 'Austria': 57,\n",
       " 'Belgium': 58,\n",
       " 'Brazil': 59,\n",
       " 'Canada': 60,\n",
       " 'Chile': 61,\n",
       " 'Colombia': 62,\n",
       " 'Costa Rica': 63,\n",
       " 'Denmark': 64,\n",
       " 'Ecuador': 65,\n",
       " 'Finland': 66,\n",
       " 'France': 67,\n",
       " 'Germany': 68,\n",
       " 'Global': 69,\n",
       " 'Indonesia': 70,\n",
       " 'Ireland': 71,\n",
       " 'Italy': 72,\n",
       " 'Malaysia': 73,\n",
       " 'Mexico': 74,\n",
       " 'Netherlands': 75,\n",
       " 'New Zealand': 76,\n",
       " 'Norway': 77,\n",
       " 'Peru': 78,\n",
       " 'Philippines': 79,\n",
       " 'Poland': 80,\n",
       " 'Portugal': 81,\n",
       " 'Singapore': 82,\n",
       " 'Spain': 83,\n",
       " 'Sweden': 84,\n",
       " 'Switzerland': 85,\n",
       " 'Taiwan': 86,\n",
       " 'Turkey': 87,\n",
       " 'UK': 88,\n",
       " 'USA': 89,\n",
       " 'Popu_max': 90,\n",
       " 'Top10_dummy': 91,\n",
       " 'Top50_dummy': 92,\n",
       " 'Cluster': 93}"
      ]
     },
     "execution_count": 12,
     "metadata": {},
     "output_type": "execute_result"
    }
   ],
   "source": [
    "c"
   ]
  },
  {
   "cell_type": "code",
   "execution_count": 13,
   "id": "eafd8530",
   "metadata": {
    "scrolled": false
   },
   "outputs": [
    {
     "name": "stderr",
     "output_type": "stream",
     "text": [
      "[Stage 1:======================================================>  (19 + 1) / 20]\r"
     ]
    },
    {
     "name": "stdout",
     "output_type": "stream",
     "text": [
      "The number of tracks =  170633\n"
     ]
    },
    {
     "name": "stderr",
     "output_type": "stream",
     "text": [
      "                                                                                \r"
     ]
    }
   ],
   "source": [
    "print(\"The number of tracks = \" , wholeRDD.count())"
   ]
  },
  {
   "cell_type": "code",
   "execution_count": 14,
   "id": "31c35010",
   "metadata": {},
   "outputs": [],
   "source": [
    "'''\n",
    "Columns which's not parsable to numeric value\n",
    "'''\n",
    "string_cols = [ 'Country', 'Uri', 'Title', 'Artist', 'Album/Single', 'Genre', \n",
    "               'Explicit', 'Album', 'Release_date', 'Genre_new', 'Cluster' ]"
   ]
  },
  {
   "cell_type": "code",
   "execution_count": 15,
   "id": "9c182079",
   "metadata": {},
   "outputs": [],
   "source": [
    "'''\n",
    "Columns which's parsable to numeric value\n",
    "'''\n",
    "numeric_cols = [ i for i in columns if i not in string_cols ]"
   ]
  },
  {
   "cell_type": "code",
   "execution_count": 16,
   "id": "ee32c7d0",
   "metadata": {
    "scrolled": true
   },
   "outputs": [
    {
     "name": "stdout",
     "output_type": "stream",
     "text": [
      "String cols :  ['Country', 'Uri', 'Title', 'Artist', 'Album/Single', 'Genre', 'Explicit', 'Album', 'Release_date', 'Genre_new', 'Cluster']\n",
      "\n",
      "\n",
      "Numeric cols :  ['Popularity', 'Artist_followers', 'Track_number', 'Tracks_in_album', 'danceability', 'energy', 'key', 'loudness', 'mode', 'speechiness', 'acoustics', 'instrumentalness', 'liveliness', 'valence', 'tempo', 'duration_ms', 'time_signature', 'Days_since_release', 'Released_after_2017', 'Explicit_false', 'Explicit_true', 'album', 'compilation', 'single', 'bolero', 'boy band', 'country', 'dance/electronic', 'else', 'funk', 'hip hop', 'house', 'indie', 'jazz', 'k-pop', 'latin', 'metal', 'opm', 'pop', 'r&b/soul', 'rap', 'reggae', 'reggaeton', 'rock', 'trap', 'Argentina', 'Australia', 'Austria', 'Belgium', 'Brazil', 'Canada', 'Chile', 'Colombia', 'Costa Rica', 'Denmark', 'Ecuador', 'Finland', 'France', 'Germany', 'Global', 'Indonesia', 'Ireland', 'Italy', 'Malaysia', 'Mexico', 'Netherlands', 'New Zealand', 'Norway', 'Peru', 'Philippines', 'Poland', 'Portugal', 'Singapore', 'Spain', 'Sweden', 'Switzerland', 'Taiwan', 'Turkey', 'UK', 'USA', 'Popu_max', 'Top10_dummy', 'Top50_dummy']\n"
     ]
    }
   ],
   "source": [
    "print(\"String cols : \", string_cols)\n",
    "print(\"\\n\")\n",
    "print(\"Numeric cols : \", numeric_cols)"
   ]
  },
  {
   "cell_type": "code",
   "execution_count": 17,
   "id": "a016ef6b",
   "metadata": {},
   "outputs": [],
   "source": [
    "def add2Tuple(a,b):\n",
    "    return tuple([ a[idx] + b[idx] for idx in range(len(a)) ])\n",
    "\n",
    "def checkIsFloat(number):\n",
    "    try:\n",
    "        float(number)\n",
    "        return True\n",
    "    except:\n",
    "        return False"
   ]
  },
  {
   "cell_type": "code",
   "execution_count": 18,
   "id": "f7e3efca",
   "metadata": {},
   "outputs": [],
   "source": [
    "def checkValidLine(line):\n",
    "    check = True\n",
    "    for col in numeric_cols:\n",
    "        check = check and checkIsFloat(line[c[col]])\n",
    "    \n",
    "    if check == False:\n",
    "        return check\n",
    "    \n",
    "    for col in string_cols:\n",
    "        check = check and line[c[col]] != ''\n",
    "    return check\n",
    "    "
   ]
  },
  {
   "cell_type": "markdown",
   "id": "f75520cc",
   "metadata": {},
   "source": [
    "Our dataset has many numerical columns which potentialy include empty values or invalid values (for example \"abc\" can not convert to number). We will check if a line is valid and apply filter to include valid line"
   ]
  },
  {
   "cell_type": "code",
   "execution_count": 19,
   "id": "89168709",
   "metadata": {},
   "outputs": [],
   "source": [
    "lineRDD = wholeRDD.filter(lambda line: checkValidLine(line))"
   ]
  },
  {
   "cell_type": "code",
   "execution_count": 20,
   "id": "1143ef81",
   "metadata": {
    "scrolled": true
   },
   "outputs": [
    {
     "name": "stderr",
     "output_type": "stream",
     "text": [
      "[Stage 2:======================================================>  (19 + 1) / 20]\r"
     ]
    },
    {
     "name": "stdout",
     "output_type": "stream",
     "text": [
      "The number of pre-processed tracks =  167356\n"
     ]
    },
    {
     "name": "stderr",
     "output_type": "stream",
     "text": [
      "                                                                                \r"
     ]
    }
   ],
   "source": [
    "print(\"The number of pre-processed tracks = \" , lineRDD.count())"
   ]
  },
  {
   "cell_type": "code",
   "execution_count": 21,
   "id": "f3915390",
   "metadata": {},
   "outputs": [],
   "source": [
    "def processNumeric(line):\n",
    "    _line = list(line)\n",
    "    for col in numeric_cols:\n",
    "        _line[c[col]] = float(_line[c[col]])\n",
    "    return tuple(_line)"
   ]
  },
  {
   "cell_type": "code",
   "execution_count": 22,
   "id": "7456c85f",
   "metadata": {
    "scrolled": true
   },
   "outputs": [
    {
     "data": {
      "text/plain": [
       "('Global',\n",
       " 'https://open.spotify.com/track/6FyRXC8tJUh863JCkyWqtk',\n",
       " 31833.95,\n",
       " 'adan y eva',\n",
       " 'Paulo Londra',\n",
       " 'single',\n",
       " 'argentine hip hop',\n",
       " 11427104.0,\n",
       " 'False',\n",
       " 'Adan y Eva',\n",
       " '2018-11-05',\n",
       " 1.0,\n",
       " 1.0,\n",
       " 0.767,\n",
       " 0.7090000000000001,\n",
       " 1.0,\n",
       " -4.47,\n",
       " 1.0,\n",
       " 0.336,\n",
       " 0.32299999999999995,\n",
       " 0.0,\n",
       " 0.0676,\n",
       " 0.72,\n",
       " 171.993,\n",
       " 258639.0,\n",
       " 4.0,\n",
       " 'hip hop',\n",
       " 740.0,\n",
       " 1.0,\n",
       " 1.0,\n",
       " 0.0,\n",
       " 0.0,\n",
       " 0.0,\n",
       " 1.0,\n",
       " 0.0,\n",
       " 0.0,\n",
       " 0.0,\n",
       " 0.0,\n",
       " 0.0,\n",
       " 0.0,\n",
       " 1.0,\n",
       " 0.0,\n",
       " 0.0,\n",
       " 0.0,\n",
       " 0.0,\n",
       " 0.0,\n",
       " 0.0,\n",
       " 0.0,\n",
       " 0.0,\n",
       " 0.0,\n",
       " 0.0,\n",
       " 0.0,\n",
       " 0.0,\n",
       " 0.0,\n",
       " 0.0,\n",
       " 0.0,\n",
       " 0.0,\n",
       " 0.0,\n",
       " 0.0,\n",
       " 0.0,\n",
       " 0.0,\n",
       " 0.0,\n",
       " 0.0,\n",
       " 0.0,\n",
       " 0.0,\n",
       " 0.0,\n",
       " 0.0,\n",
       " 0.0,\n",
       " 0.0,\n",
       " 1.0,\n",
       " 0.0,\n",
       " 0.0,\n",
       " 0.0,\n",
       " 0.0,\n",
       " 0.0,\n",
       " 0.0,\n",
       " 0.0,\n",
       " 0.0,\n",
       " 0.0,\n",
       " 0.0,\n",
       " 0.0,\n",
       " 0.0,\n",
       " 0.0,\n",
       " 0.0,\n",
       " 0.0,\n",
       " 0.0,\n",
       " 0.0,\n",
       " 0.0,\n",
       " 0.0,\n",
       " 0.0,\n",
       " 10.0,\n",
       " 1.0,\n",
       " 1.0,\n",
       " 'global')"
      ]
     },
     "execution_count": 22,
     "metadata": {},
     "output_type": "execute_result"
    }
   ],
   "source": [
    "processNumeric(lineRDD.take(1)[0])"
   ]
  },
  {
   "cell_type": "code",
   "execution_count": 23,
   "id": "9b85e2c0",
   "metadata": {},
   "outputs": [],
   "source": [
    "'''\n",
    "- Process numerical values\n",
    "'''\n",
    "lineRDD = lineRDD.map(lambda line: processNumeric(line))"
   ]
  },
  {
   "cell_type": "code",
   "execution_count": 24,
   "id": "d4630347",
   "metadata": {},
   "outputs": [
    {
     "name": "stderr",
     "output_type": "stream",
     "text": [
      "                                                                                \r"
     ]
    },
    {
     "data": {
      "text/plain": [
       "167356"
      ]
     },
     "execution_count": 24,
     "metadata": {},
     "output_type": "execute_result"
    }
   ],
   "source": [
    "lineRDD.count()"
   ]
  },
  {
   "cell_type": "markdown",
   "id": "f795fad3",
   "metadata": {},
   "source": [
    "## 2. Find out the number of unique songs in the dataset.\n",
    "\n",
    "For convenience in data processing, I create a sub-RDD from wholeRDD which contains the first 11 columns. The rest is only\n",
    "used for building clustering model\n",
    "\n",
    "A song is unique by its artist and title. We map rdd to ((title, artist), 1) and reduce by key, then count numbers of instances\n"
   ]
  },
  {
   "cell_type": "code",
   "execution_count": 25,
   "id": "ef36d954",
   "metadata": {
    "scrolled": true
   },
   "outputs": [
    {
     "name": "stderr",
     "output_type": "stream",
     "text": [
      "[Stage 6:=======================================>                 (14 + 2) / 20]\r"
     ]
    },
    {
     "name": "stdout",
     "output_type": "stream",
     "text": [
      "Number of unique songs in the dataset =  54905\n"
     ]
    },
    {
     "name": "stderr",
     "output_type": "stream",
     "text": [
      "                                                                                \r"
     ]
    }
   ],
   "source": [
    "print(\"Number of unique songs in the dataset = \", lineRDD.map(lambda line: ((line[3], line[4]) , 1)).reduceByKey(lambda a,b : a + b).count())"
   ]
  },
  {
   "cell_type": "markdown",
   "id": "868cf788",
   "metadata": {},
   "source": [
    "## 3. Plot a bar chart to visualize top 10 popular artists for all countries.\n",
    "\n",
    "Popularity in rdd has datatype as string, we need to convert to numerical type."
   ]
  },
  {
   "cell_type": "markdown",
   "id": "5f43843d",
   "metadata": {},
   "source": [
    "Map to (Artist, Popularity) and perform reduce method. Then we need to sort rdd in descending order, and take top 10 values"
   ]
  },
  {
   "cell_type": "code",
   "execution_count": 26,
   "id": "0a1a6ed1",
   "metadata": {
    "scrolled": false
   },
   "outputs": [
    {
     "name": "stderr",
     "output_type": "stream",
     "text": [
      "[Stage 12:==================================================>     (18 + 2) / 20]\r"
     ]
    },
    {
     "name": "stdout",
     "output_type": "stream",
     "text": [
      "[('Ed Sheeran', 14425282.900000004), ('Billie Eilish', 8643470.450000005), ('Dua Lipa', 8149820.700000004), ('Drake', 8149430.5), ('Ariana Grande', 8124747.349999999), ('Post Malone', 7895982.400000006), ('XXXTENTACION', 6250533.65), ('Lewis Capaldi', 5155235.250000002), ('The Weeknd', 5143012.25), ('Imagine Dragons', 5009539.549999999)]\n"
     ]
    },
    {
     "name": "stderr",
     "output_type": "stream",
     "text": [
      "                                                                                \r"
     ]
    }
   ],
   "source": [
    "top10Artist = lineRDD.map(lambda line: (line[4], float(line[2]))).reduceByKey(lambda a, b: a + b).sortBy(lambda x: x[1], ascending = False).take(10)\n",
    "print(top10Artist)"
   ]
  },
  {
   "cell_type": "code",
   "execution_count": 27,
   "id": "73ae5012",
   "metadata": {},
   "outputs": [
    {
     "data": {
      "image/png": "[encoded data removed]",
      "text/plain": [
       "<Figure size 640x480 with 1 Axes>"
      ]
     },
     "metadata": {},
     "output_type": "display_data"
    }
   ],
   "source": [
    "plotTop10 = {}\n",
    "plotTop10['Artist'] = [item[0] for item in top10Artist]\n",
    "plotTop10['Count'] = [item[1] for item in top10Artist]\n",
    "\n",
    "sns.barplot(data=plotTop10, y='Artist', x='Count').set_title('Most popular artists (by popularity) for all countries');"
   ]
  },
  {
   "cell_type": "markdown",
   "id": "1158895d",
   "metadata": {},
   "source": [
    "## 4. Show the most popular song (based on its popularity) for each decade.\n",
    "\n",
    "First, we need to group lineRDD by (decade, title, artist) with values popularity. Decade is extracted from year in Release_date. Apply reduceByKey on new rdd with the lambda function to get max (compare current line with previous one)"
   ]
  },
  {
   "cell_type": "code",
   "execution_count": 28,
   "id": "4ca1dc5d",
   "metadata": {},
   "outputs": [],
   "source": [
    "from datetime import datetime\n",
    "def get_decade(datetime_str):\n",
    "    datetime_object = datetime_str.split(\"-\")\n",
    "    year = int(datetime_object[0])\n",
    "    return year - year % 10"
   ]
  },
  {
   "cell_type": "code",
   "execution_count": 29,
   "id": "9425bec4",
   "metadata": {},
   "outputs": [],
   "source": [
    "A = lineRDD.map(lambda line: ((get_decade(line[10]), line[3], line[4]), float(line[2])))"
   ]
  },
  {
   "cell_type": "code",
   "execution_count": 30,
   "id": "15ac48d1",
   "metadata": {},
   "outputs": [
    {
     "data": {
      "text/plain": [
       "[((2010, 'adan y eva', 'Paulo Londra'), 31833.95),\n",
       " ((2010, 'adan y eva', 'Paulo Londra'), 8.0),\n",
       " ((2010, 'adan y eva', 'Paulo Londra'), 76924.4),\n",
       " ((2010, 'adan y eva', 'Paulo Londra'), 849.6000000000001),\n",
       " ((2010, 'adan y eva', 'Paulo Londra'), 20739.1),\n",
       " ((2010, 'adan y eva', 'Paulo Londra'), 60264.19999999997),\n",
       " ((2010, 'adan y eva', 'Paulo Londra'), 60131.15000000014),\n",
       " ((2010, 'adan y eva', 'Paulo Londra'), 64081.30000000009),\n",
       " ((2010, 'adan y eva', 'Paulo Londra'), 208.0),\n",
       " ((2010, 'adan y eva', 'Paulo Londra'), 75636.9)]"
      ]
     },
     "execution_count": 30,
     "metadata": {},
     "output_type": "execute_result"
    }
   ],
   "source": [
    "A.take(10)"
   ]
  },
  {
   "cell_type": "code",
   "execution_count": 31,
   "id": "1c255e67",
   "metadata": {},
   "outputs": [],
   "source": [
    "unique_group = A.reduceByKey(lambda a,b : a + b)"
   ]
  },
  {
   "cell_type": "code",
   "execution_count": 32,
   "id": "d0e84f4e",
   "metadata": {
    "scrolled": true
   },
   "outputs": [
    {
     "name": "stderr",
     "output_type": "stream",
     "text": [
      "                                                                                \r"
     ]
    },
    {
     "data": {
      "text/plain": [
       "[((2010, 'betrayed', 'Lil Xan'), 162585.80000000005),\n",
       " ((2010, 'flash pose', 'Pabllo Vittar - Charli XCX'), 2875.3000000000015),\n",
       " ((2010,\n",
       "   'white christmas - spotify singles - holiday, recorded at air studios, london',\n",
       "   'George Ezra'),\n",
       "  7946.3499999999985),\n",
       " ((2020, 'yikes', 'Nicki Minaj'), 3220.3)]"
      ]
     },
     "execution_count": 32,
     "metadata": {},
     "output_type": "execute_result"
    }
   ],
   "source": [
    "unique_group.take(4)"
   ]
  },
  {
   "cell_type": "code",
   "execution_count": 33,
   "id": "1861fe0c",
   "metadata": {
    "scrolled": false
   },
   "outputs": [
    {
     "name": "stderr",
     "output_type": "stream",
     "text": [
      "                                                                                \r"
     ]
    },
    {
     "data": {
      "text/plain": [
       "[(2020, 'blinding lights', 'The Weeknd', 1894466.8000000003),\n",
       " (1980, 'last christmas', 'Wham!', 552997.2499999999),\n",
       " (2000, 'the scientist', 'Coldplay', 454409.69999999995),\n",
       " (1960,\n",
       "  'its the most wonderful time of the year',\n",
       "  'Andy Williams',\n",
       "  188815.39999999997),\n",
       " (1940,\n",
       "  'white christmas',\n",
       "  'Bing Crosby - Ken Darby Singers - John Scott Trotter & His Orchestra',\n",
       "  127754.15),\n",
       " (1920, 'when you wish upon a star', 'Cliff Edwards', 22.4),\n",
       " (1900, 'roll out the barrel', 'The Beverley Sisters', 109.65),\n",
       " (2010, 'shape of you', 'Ed Sheeran', 5732932.350000004),\n",
       " (1970, 'bohemian rhapsody - remastered 2011', 'Queen', 763373.6500000001),\n",
       " (1990, 'all i want for christmas is you', 'Mariah Carey', 788281.7999999998),\n",
       " (1950, 'jingle bell rock', 'Bobby Helms', 98426.19999999997),\n",
       " (1930,\n",
       "  'moonlight serenade - 2005 remastered version',\n",
       "  'Glenn Miller',\n",
       "  101.15)]"
      ]
     },
     "execution_count": 33,
     "metadata": {},
     "output_type": "execute_result"
    }
   ],
   "source": [
    "max_by_group = unique_group.map(lambda x: (x[0][0], x)).reduceByKey(lambda x1, x2: max(x1, x2, key=lambda x: x[-1]))\n",
    "max_by_group.map(lambda x: (x[1][0][0], x[1][0][1], x[1][0][2], x[1][1])).collect()"
   ]
  },
  {
   "cell_type": "markdown",
   "id": "a6a2e12d",
   "metadata": {},
   "source": [
    "## 5. Visualize the changing of music over the decades.\n"
   ]
  },
  {
   "cell_type": "code",
   "execution_count": 34,
   "id": "42c99edb",
   "metadata": {},
   "outputs": [],
   "source": [
    "change_rdd = lineRDD.map(lambda line: (get_decade(line[10]), (float(line[c['danceability']]), float(line[c['energy']]), float(line[c['instrumentalness']]),\n",
    "                                        float(line[c['valence']]), float(line[c['liveliness']]), float(line[c['acoustics']]),float(line[c['speechiness']]), 1)))"
   ]
  },
  {
   "cell_type": "code",
   "execution_count": 35,
   "id": "f9ae30e7",
   "metadata": {},
   "outputs": [],
   "source": [
    "change_music_summary = change_rdd.reduceByKey(lambda a,b: add2Tuple(a,b))"
   ]
  },
  {
   "cell_type": "code",
   "execution_count": 36,
   "id": "ecb09def",
   "metadata": {},
   "outputs": [
    {
     "name": "stderr",
     "output_type": "stream",
     "text": [
      "                                                                                \r"
     ]
    }
   ],
   "source": [
    "change_music_summary_list = change_music_summary.map(lambda x: (x[0], (x[1][0]/x[1][7],x[1][1]/x[1][7],x[1][2]/x[1][7],x[1][3]/x[1][7],\n",
    "                                                                      x[1][4]/x[1][7],x[1][5]/x[1][7],x[1][6]/x[1][7]))).collect()"
   ]
  },
  {
   "cell_type": "code",
   "execution_count": 37,
   "id": "73f490e2",
   "metadata": {
    "scrolled": true
   },
   "outputs": [
    {
     "data": {
      "text/plain": [
       "[(2020,\n",
       "  (0.6956963899031595,\n",
       "   0.6399753103667248,\n",
       "   0.014767369088109224,\n",
       "   0.4982401555802501,\n",
       "   0.17735656135894606,\n",
       "   0.23159966248229874,\n",
       "   0.14394171455786633)),\n",
       " (2000,\n",
       "  (0.58753543876567,\n",
       "   0.6753296552555457,\n",
       "   0.019118004467213127,\n",
       "   0.5118616441658632,\n",
       "   0.19906661041465767,\n",
       "   0.264569643370299,\n",
       "   0.07104640790742524)),\n",
       " (1980,\n",
       "  (0.6217126640926645,\n",
       "   0.6232270270270271,\n",
       "   0.02694345149034749,\n",
       "   0.6683579922779925,\n",
       "   0.17900239382239375,\n",
       "   0.28490186640926635,\n",
       "   0.05110687258687259)),\n",
       " (1940,\n",
       "  (0.3727567567567568,\n",
       "   0.18967567567567567,\n",
       "   0.17292231891891885,\n",
       "   0.394527027027027,\n",
       "   0.2624054054054054,\n",
       "   0.7170540540540539,\n",
       "   0.047789189189189195)),\n",
       " (1960,\n",
       "  (0.567344,\n",
       "   0.4882298,\n",
       "   0.0040413368000000015,\n",
       "   0.7228804000000002,\n",
       "   0.16513939999999996,\n",
       "   0.49359361999999996,\n",
       "   0.04647979999999999)),\n",
       " (1920, (0.227, 0.446, 0.00912, 0.119, 0.322, 0.851, 0.032)),\n",
       " (1900,\n",
       "  (0.5489999999999999,\n",
       "   0.324,\n",
       "   1.13e-06,\n",
       "   0.589,\n",
       "   0.48700000000000004,\n",
       "   0.755,\n",
       "   0.0653)),\n",
       " (2010,\n",
       "  (0.6684635848863165,\n",
       "   0.6454125187107176,\n",
       "   0.014259409824525436,\n",
       "   0.4840486194686076,\n",
       "   0.17496176783728576,\n",
       "   0.23769478095134805,\n",
       "   0.12445519680754558)),\n",
       " (1990,\n",
       "  (0.560154887218045,\n",
       "   0.6103105764411026,\n",
       "   0.015741247197994985,\n",
       "   0.539734135338346,\n",
       "   0.18710556390977434,\n",
       "   0.276260862075188,\n",
       "   0.05581929824561402)),\n",
       " (1970,\n",
       "  (0.5546872093023254,\n",
       "   0.5731802325581399,\n",
       "   0.023234110000000006,\n",
       "   0.5884036046511628,\n",
       "   0.20826162790697686,\n",
       "   0.3298826976744185,\n",
       "   0.058843372093023275)),\n",
       " (1950,\n",
       "  (0.5316417112299466,\n",
       "   0.33890588235294106,\n",
       "   0.004221342513368985,\n",
       "   0.7160588235294115,\n",
       "   0.1369283422459893,\n",
       "   0.8360320855614973,\n",
       "   0.04317967914438501)),\n",
       " (1930,\n",
       "  (0.228,\n",
       "   0.263,\n",
       "   0.317,\n",
       "   0.22399999999999998,\n",
       "   0.10300000000000001,\n",
       "   0.8959999999999999,\n",
       "   0.0275))]"
      ]
     },
     "execution_count": 37,
     "metadata": {},
     "output_type": "execute_result"
    }
   ],
   "source": [
    "change_music_summary_list"
   ]
  },
  {
   "cell_type": "code",
   "execution_count": 38,
   "id": "b30ec2b7",
   "metadata": {
    "scrolled": true
   },
   "outputs": [],
   "source": [
    "music_features = {\"Year\" : [], \"Characteristic\" : [], \"Val\": []}\n",
    "characteristics = ['danceability', 'energy', 'instrumentalness', 'valence', 'liveliness', 'acoustics', 'speechiness']\n",
    "for year_music in change_music_summary_list:\n",
    "    (year, list_mean) = year_music\n",
    "    for idx, val in enumerate(list_mean):\n",
    "        music_features[\"Year\"].append(year)\n",
    "        music_features[\"Characteristic\"].append(characteristics[idx])\n",
    "        music_features[\"Val\"].append(val)"
   ]
  },
  {
   "cell_type": "code",
   "execution_count": 39,
   "id": "25fcaa3d",
   "metadata": {},
   "outputs": [],
   "source": [
    "df = pd.DataFrame(music_features, columns = [\"Year\", \"Characteristic\", \"Val\"])"
   ]
  },
  {
   "cell_type": "code",
   "execution_count": 40,
   "id": "e6fc0775",
   "metadata": {},
   "outputs": [
    {
     "data": {
      "text/html": [
       "<div>\n",
       "<style scoped>\n",
       "    .dataframe tbody tr th:only-of-type {\n",
       "        vertical-align: middle;\n",
       "    }\n",
       "\n",
       "    .dataframe tbody tr th {\n",
       "        vertical-align: top;\n",
       "    }\n",
       "\n",
       "    .dataframe thead th {\n",
       "        text-align: right;\n",
       "    }\n",
       "</style>\n",
       "<table border=\"1\" class=\"dataframe\">\n",
       "  <thead>\n",
       "    <tr style=\"text-align: right;\">\n",
       "      <th></th>\n",
       "      <th>Year</th>\n",
       "      <th>Characteristic</th>\n",
       "      <th>Val</th>\n",
       "    </tr>\n",
       "  </thead>\n",
       "  <tbody>\n",
       "    <tr>\n",
       "      <th>0</th>\n",
       "      <td>2020</td>\n",
       "      <td>danceability</td>\n",
       "      <td>0.695696</td>\n",
       "    </tr>\n",
       "    <tr>\n",
       "      <th>1</th>\n",
       "      <td>2020</td>\n",
       "      <td>energy</td>\n",
       "      <td>0.639975</td>\n",
       "    </tr>\n",
       "    <tr>\n",
       "      <th>2</th>\n",
       "      <td>2020</td>\n",
       "      <td>instrumentalness</td>\n",
       "      <td>0.014767</td>\n",
       "    </tr>\n",
       "    <tr>\n",
       "      <th>3</th>\n",
       "      <td>2020</td>\n",
       "      <td>valence</td>\n",
       "      <td>0.498240</td>\n",
       "    </tr>\n",
       "    <tr>\n",
       "      <th>4</th>\n",
       "      <td>2020</td>\n",
       "      <td>liveliness</td>\n",
       "      <td>0.177357</td>\n",
       "    </tr>\n",
       "    <tr>\n",
       "      <th>...</th>\n",
       "      <td>...</td>\n",
       "      <td>...</td>\n",
       "      <td>...</td>\n",
       "    </tr>\n",
       "    <tr>\n",
       "      <th>79</th>\n",
       "      <td>1930</td>\n",
       "      <td>instrumentalness</td>\n",
       "      <td>0.317000</td>\n",
       "    </tr>\n",
       "    <tr>\n",
       "      <th>80</th>\n",
       "      <td>1930</td>\n",
       "      <td>valence</td>\n",
       "      <td>0.224000</td>\n",
       "    </tr>\n",
       "    <tr>\n",
       "      <th>81</th>\n",
       "      <td>1930</td>\n",
       "      <td>liveliness</td>\n",
       "      <td>0.103000</td>\n",
       "    </tr>\n",
       "    <tr>\n",
       "      <th>82</th>\n",
       "      <td>1930</td>\n",
       "      <td>acoustics</td>\n",
       "      <td>0.896000</td>\n",
       "    </tr>\n",
       "    <tr>\n",
       "      <th>83</th>\n",
       "      <td>1930</td>\n",
       "      <td>speechiness</td>\n",
       "      <td>0.027500</td>\n",
       "    </tr>\n",
       "  </tbody>\n",
       "</table>\n",
       "<p>84 rows × 3 columns</p>\n",
       "</div>"
      ],
      "text/plain": [
       "    Year    Characteristic       Val\n",
       "0   2020      danceability  0.695696\n",
       "1   2020            energy  0.639975\n",
       "2   2020  instrumentalness  0.014767\n",
       "3   2020           valence  0.498240\n",
       "4   2020        liveliness  0.177357\n",
       "..   ...               ...       ...\n",
       "79  1930  instrumentalness  0.317000\n",
       "80  1930           valence  0.224000\n",
       "81  1930        liveliness  0.103000\n",
       "82  1930         acoustics  0.896000\n",
       "83  1930       speechiness  0.027500\n",
       "\n",
       "[84 rows x 3 columns]"
      ]
     },
     "execution_count": 40,
     "metadata": {},
     "output_type": "execute_result"
    }
   ],
   "source": [
    "df"
   ]
  },
  {
   "cell_type": "code",
   "execution_count": 41,
   "id": "6fcd5cce",
   "metadata": {},
   "outputs": [
    {
     "data": {
      "text/plain": [
       "Text(0.5, 1.0, 'Song Characteristics Over the Decades')"
      ]
     },
     "execution_count": 41,
     "metadata": {},
     "output_type": "execute_result"
    },
    {
     "data": {
      "image/png": "[encoded data removed]",
      "text/plain": [
       "<Figure size 640x480 with 1 Axes>"
      ]
     },
     "metadata": {},
     "output_type": "display_data"
    }
   ],
   "source": [
    "sns.lineplot(data=df, x=\"Year\", y=\"Val\", hue=\"Characteristic\").set_title('Song Characteristics Over the Decades')"
   ]
  },
  {
   "cell_type": "markdown",
   "id": "689d64e4",
   "metadata": {},
   "source": [
    "## 6. You are about to build a song recommendation system.\n"
   ]
  },
  {
   "cell_type": "code",
   "execution_count": 42,
   "id": "da2bad82",
   "metadata": {},
   "outputs": [],
   "source": [
    "'''\n",
    "As in lab assignment, we only filter metal and hip-hop.\n",
    "'''\n",
    "cluster_RDD = lineRDD.filter(lambda line: line[c[\"Genre_new\"]] == 'metal' or line[c[\"Genre_new\"]] == 'hip hop')"
   ]
  },
  {
   "cell_type": "code",
   "execution_count": 43,
   "id": "b08b47bc",
   "metadata": {
    "scrolled": true
   },
   "outputs": [
    {
     "name": "stderr",
     "output_type": "stream",
     "text": [
      "[Stage 22:=====================================================>  (19 + 1) / 20]\r"
     ]
    },
    {
     "name": "stdout",
     "output_type": "stream",
     "text": [
      "Number of tracks has genre hip hop or metal =  37940\n"
     ]
    },
    {
     "name": "stderr",
     "output_type": "stream",
     "text": [
      "                                                                                \r"
     ]
    }
   ],
   "source": [
    "print(\"Number of tracks has genre hip hop or metal = \", cluster_RDD.count())"
   ]
  },
  {
   "cell_type": "markdown",
   "id": "4a863c9b",
   "metadata": {},
   "source": [
    "Now it's time to encode lineRDD so clustering can work on it. All values need to be encoded into numerical form:\n",
    "- Categorical data (Country, Genre, Explicit, etc..) will be transformed to number by label encoders (0,1,2,3,...)"
   ]
  },
  {
   "cell_type": "code",
   "execution_count": 44,
   "id": "39c0c9f1",
   "metadata": {},
   "outputs": [],
   "source": [
    "'''\n",
    "- Process categorical values\n",
    "'''\n",
    "categorical_cols = ['Country',\n",
    " 'Album/Single',\n",
    " 'Genre',\n",
    " 'Explicit',\n",
    " 'Genre_new',\n",
    " 'Cluster']"
   ]
  },
  {
   "cell_type": "code",
   "execution_count": 45,
   "id": "752d8e23",
   "metadata": {},
   "outputs": [
    {
     "name": "stderr",
     "output_type": "stream",
     "text": [
      "                                                                                \r"
     ]
    }
   ],
   "source": [
    "_map = {}\n",
    "for col in categorical_cols:\n",
    "    _list = cluster_RDD.map(lambda line: (line[c[col]], 1)).reduceByKey(lambda a,b: a+b).keys().collect()\n",
    "    _map[col] = _list"
   ]
  },
  {
   "cell_type": "code",
   "execution_count": 46,
   "id": "8d191e65",
   "metadata": {
    "scrolled": true
   },
   "outputs": [],
   "source": [
    "for key in _map :\n",
    "    _labels_map = { val : idx  for idx, val in enumerate(_map[key])  }\n",
    "    _map[key] = _labels_map"
   ]
  },
  {
   "cell_type": "code",
   "execution_count": 47,
   "id": "2f023b1c",
   "metadata": {
    "scrolled": true
   },
   "outputs": [
    {
     "data": {
      "text/plain": [
       "{'Country': {'Belgium': 0,\n",
       "  'Denmark': 1,\n",
       "  'Finland': 2,\n",
       "  'Poland': 3,\n",
       "  'Global': 4,\n",
       "  'Ecuador': 5,\n",
       "  'Peru': 6,\n",
       "  'Portugal': 7,\n",
       "  'Austria': 8,\n",
       "  'Taiwan': 9,\n",
       "  'Colombia': 10,\n",
       "  'Indonesia': 11,\n",
       "  'USA': 12,\n",
       "  'Switzerland': 13,\n",
       "  'Canada': 14,\n",
       "  'Germany': 15,\n",
       "  'New Zealand': 16,\n",
       "  'Australia': 17,\n",
       "  'Singapore': 18,\n",
       "  'Turkey': 19,\n",
       "  'Chile': 20,\n",
       "  'UK': 21,\n",
       "  'Costa Rica': 22,\n",
       "  'Argentina': 23,\n",
       "  'Sweden': 24,\n",
       "  'France': 25,\n",
       "  'Philippines': 26,\n",
       "  'Brazil': 27,\n",
       "  'Malaysia': 28,\n",
       "  'Netherlands': 29,\n",
       "  'Norway': 30,\n",
       "  'Mexico': 31,\n",
       "  'Spain': 32,\n",
       "  'Ireland': 33,\n",
       "  'Italy': 34},\n",
       " 'Album/Single': {'compilation': 0, 'single': 1, 'album': 2},\n",
       " 'Genre': {'manchester hip hop': 0,\n",
       "  'metal': 1,\n",
       "  'taiwan hip hop': 2,\n",
       "  'serbian hip hop': 3,\n",
       "  'conscious hip hop': 4,\n",
       "  'turkish hip hop': 5,\n",
       "  'spanish hip hop': 6,\n",
       "  'finnish death metal': 7,\n",
       "  'southern hip hop': 8,\n",
       "  'singaporean hip hop': 9,\n",
       "  'alternative metal': 10,\n",
       "  'indonesian hip hop': 11,\n",
       "  'argentine heavy metal': 12,\n",
       "  'hip hop quebecois': 13,\n",
       "  'estonian hip hop': 14,\n",
       "  'russian hip hop': 15,\n",
       "  'pinoy hip hop': 16,\n",
       "  'arabic hip hop': 17,\n",
       "  'bronx hip hop': 18,\n",
       "  'stoner metal': 19,\n",
       "  'malaysian hip hop': 20,\n",
       "  'miami hip hop': 21,\n",
       "  'ohio hip hop': 22,\n",
       "  'baltimore hip hop': 23,\n",
       "  'bc underground hip hop': 24,\n",
       "  'deep german hip hop': 25,\n",
       "  'belgian hip hop': 26,\n",
       "  'atl hip hop': 27,\n",
       "  'glam metal': 28,\n",
       "  'venezuelan hip hop': 29,\n",
       "  'finnish hip hop': 30,\n",
       "  'irish hip hop': 31,\n",
       "  'hungarian metal': 32,\n",
       "  'east coast hip hop': 33,\n",
       "  'polish metal': 34,\n",
       "  'hawaiian hip hop': 35,\n",
       "  'french hip hop': 36,\n",
       "  'australian hip hop': 37,\n",
       "  'boston hip hop': 38,\n",
       "  'greek hip hop': 39,\n",
       "  'finnish metal': 40,\n",
       "  'desi hip hop': 41,\n",
       "  'australian underground hip hop': 42,\n",
       "  'dutch hip hop': 43,\n",
       "  'argentine hip hop': 44,\n",
       "  'cologne hip hop': 45,\n",
       "  'brazilian hip hop': 46,\n",
       "  'dutch metal': 47,\n",
       "  'albanian hip hop': 48,\n",
       "  'luxembourgian hip hop': 49,\n",
       "  'latin hip hop': 50,\n",
       "  'arkansas hip hop': 51,\n",
       "  'hip hop': 52,\n",
       "  'kentucky hip hop': 53,\n",
       "  'uk hip hop': 54,\n",
       "  'colombian hip hop': 55,\n",
       "  'australian metalcore': 56,\n",
       "  'canadian hip hop': 57,\n",
       "  'deep underground hip hop': 58,\n",
       "  'birmingham hip hop': 59,\n",
       "  'mexican hip hop': 60,\n",
       "  'detroit hip hop': 61,\n",
       "  'balkan hip hop': 62,\n",
       "  'finnish heavy metal': 63,\n",
       "  'gothic symphonic metal': 64,\n",
       "  'hip hop tuga': 65,\n",
       "  'gothenburg hip hop': 66,\n",
       "  'hong kong hip hop': 67,\n",
       "  'melodic metalcore': 68,\n",
       "  'north carolina hip hop': 69,\n",
       "  'chinese hip hop': 70,\n",
       "  'folk black metal': 71,\n",
       "  'german hip hop': 72,\n",
       "  'memphis hip hop': 73,\n",
       "  'austrian hip hop': 74,\n",
       "  'polish hip hop': 75,\n",
       "  'portland hip hop': 76,\n",
       "  'danish hip hop': 77,\n",
       "  'italian hip hop': 78,\n",
       "  'uk alternative hip hop': 79,\n",
       "  'comic metal': 80,\n",
       "  'cyber metal': 81,\n",
       "  'oriental metal': 82,\n",
       "  'alternative hip hop': 83,\n",
       "  'swedish hip hop': 84,\n",
       "  'asian american hip hop': 85,\n",
       "  'norwegian hip hop': 86,\n",
       "  'nz hip hop': 87},\n",
       " 'Explicit': {'False': 0, 'True': 1},\n",
       " 'Genre_new': {'metal': 0, 'hip hop': 1},\n",
       " 'Cluster': {'southern europe and portuguese heritage': 0,\n",
       "  'spanish speaking': 1,\n",
       "  'english speaking and nordic': 2,\n",
       "  'global': 3}}"
      ]
     },
     "execution_count": 47,
     "metadata": {},
     "output_type": "execute_result"
    }
   ],
   "source": [
    "_map"
   ]
  },
  {
   "cell_type": "code",
   "execution_count": 48,
   "id": "ff3a1895",
   "metadata": {},
   "outputs": [],
   "source": [
    "'''\n",
    "Label encoding dataset on categories 'Country', 'Album/Single', 'Genre', 'Explicit', 'Genre_new', 'Cluster'\n",
    "'''\n",
    "def processCategory(line):\n",
    "    _line = list(line)\n",
    "    for col in _map:\n",
    "        idx_line = c[col]\n",
    "        _line[idx_line] = _map[col][_line[idx_line]]\n",
    "    return tuple(_line)\n",
    "\n",
    "cluster_RDD = cluster_RDD.map(lambda line: processCategory(line))"
   ]
  },
  {
   "cell_type": "code",
   "execution_count": 49,
   "id": "d96ff8c8",
   "metadata": {},
   "outputs": [],
   "source": [
    "'''\n",
    "We need to remove inessential cols for building clustering: Release_date, Title, Artist,... They now are in string format.\n",
    "The rest is in numerical format\n",
    "'''\n",
    "def get_vector_line(x):\n",
    "    return tuple([val for val in list(x) if not isinstance(val, str)])\n",
    "\n",
    "cluster_vector_RDD = cluster_RDD.map(lambda x: (x[1], get_vector_line(x)))"
   ]
  },
  {
   "cell_type": "code",
   "execution_count": 50,
   "id": "43a75d36",
   "metadata": {
    "scrolled": false
   },
   "outputs": [
    {
     "name": "stderr",
     "output_type": "stream",
     "text": [
      "[Stage 35:==================================================>     (18 + 2) / 20]\r"
     ]
    },
    {
     "name": "stdout",
     "output_type": "stream",
     "text": [
      "Number of training size for clustering =  37940\n"
     ]
    },
    {
     "name": "stderr",
     "output_type": "stream",
     "text": [
      "                                                                                \r"
     ]
    }
   ],
   "source": [
    "print(\"Number of training size for clustering = \", cluster_vector_RDD.count())"
   ]
  },
  {
   "cell_type": "code",
   "execution_count": 51,
   "id": "2319372d",
   "metadata": {
    "scrolled": true
   },
   "outputs": [
    {
     "name": "stdout",
     "output_type": "stream",
     "text": [
      "Size of feature vector =  89\n"
     ]
    }
   ],
   "source": [
    "print(\"Size of feature vector = \", len(cluster_vector_RDD.take(1)[0][1]))"
   ]
  },
  {
   "cell_type": "markdown",
   "id": "2a4d3976",
   "metadata": {},
   "source": [
    "In this clustering model, we use danceability and enery because they might tell something about how different the groups are."
   ]
  },
  {
   "cell_type": "code",
   "execution_count": 52,
   "id": "0061436e",
   "metadata": {},
   "outputs": [],
   "source": [
    "popu_genre_rdd = cluster_vector_RDD.map(lambda line: (line[0], (line[1][8], line[1][9]))) # danceability, energy"
   ]
  },
  {
   "cell_type": "code",
   "execution_count": 53,
   "id": "fa016e93",
   "metadata": {
    "scrolled": true
   },
   "outputs": [
    {
     "name": "stderr",
     "output_type": "stream",
     "text": [
      "                                                                                \r"
     ]
    },
    {
     "data": {
      "text/plain": [
       "[('https://open.spotify.com/track/6FyRXC8tJUh863JCkyWqtk',\n",
       "  (0.767, 0.7090000000000001)),\n",
       " ('https://open.spotify.com/track/6FyRXC8tJUh863JCkyWqtk',\n",
       "  (0.767, 0.7090000000000001))]"
      ]
     },
     "execution_count": 53,
     "metadata": {},
     "output_type": "execute_result"
    }
   ],
   "source": [
    "popu_genre_rdd.take(2)"
   ]
  },
  {
   "cell_type": "code",
   "execution_count": 54,
   "id": "b7c8dcaa",
   "metadata": {},
   "outputs": [
    {
     "name": "stderr",
     "output_type": "stream",
     "text": [
      "[Stage 39:==================================================>     (18 + 2) / 20]\r"
     ]
    },
    {
     "name": "stdout",
     "output_type": "stream",
     "text": [
      "(0.98, 0.998)\n",
      "(0.0628, 0.012)\n"
     ]
    },
    {
     "name": "stderr",
     "output_type": "stream",
     "text": [
      "                                                                                \r"
     ]
    }
   ],
   "source": [
    "def get_max_rdd(rdd):\n",
    "    return rdd.map(lambda x: x[1]).reduce(lambda a, b: (max(a[0], b[0]), max(a[1],b[1])))\n",
    "\n",
    "def get_min_rdd(rdd):\n",
    "    return rdd.map(lambda x: x[1]).reduce(lambda a, b: (min(a[0], b[0]), min(a[1],b[1])))\n",
    "\n",
    "max_of_cols = get_max_rdd(popu_genre_rdd)\n",
    "min_of_cols = get_min_rdd(popu_genre_rdd)\n",
    "print(max_of_cols)\n",
    "print(min_of_cols)"
   ]
  },
  {
   "cell_type": "code",
   "execution_count": 55,
   "id": "e1a32857",
   "metadata": {},
   "outputs": [],
   "source": [
    "'''\n",
    "It's vital to scale data in a range. We scale it to [0, 1]\n",
    "'''\n",
    "def min_max_scaler(line):\n",
    "    return tuple([(line[0]-min_of_cols[0])/(max_of_cols[0]-min_of_cols[0]), (line[1]-min_of_cols[1])/(max_of_cols[1]-min_of_cols[1])])\n",
    "\n",
    "popu_genre_rdd = popu_genre_rdd.map(lambda line: (line[0], min_max_scaler(line[1])))"
   ]
  },
  {
   "cell_type": "code",
   "execution_count": 56,
   "id": "6e96d95c",
   "metadata": {
    "scrolled": true
   },
   "outputs": [
    {
     "data": {
      "text/plain": [
       "[('https://open.spotify.com/track/6FyRXC8tJUh863JCkyWqtk',\n",
       "  (0.76777147841256, 0.706896551724138)),\n",
       " ('https://open.spotify.com/track/6FyRXC8tJUh863JCkyWqtk',\n",
       "  (0.76777147841256, 0.706896551724138))]"
      ]
     },
     "execution_count": 56,
     "metadata": {},
     "output_type": "execute_result"
    }
   ],
   "source": [
    "popu_genre_rdd.take(2)"
   ]
  },
  {
   "cell_type": "code",
   "execution_count": 57,
   "id": "b728d4d3",
   "metadata": {
    "scrolled": true
   },
   "outputs": [
    {
     "name": "stderr",
     "output_type": "stream",
     "text": [
      "                                                                                \r"
     ]
    }
   ],
   "source": [
    "'''\n",
    "We choose number of clusters = 2\n",
    "We use takeSample() function to generate initial centroids\n",
    "'''\n",
    "num_of_clusters = 2\n",
    "k_cluster = popu_genre_rdd.takeSample(False, num_of_clusters)"
   ]
  },
  {
   "cell_type": "code",
   "execution_count": 58,
   "id": "099a0a68",
   "metadata": {
    "scrolled": true
   },
   "outputs": [
    {
     "name": "stdout",
     "output_type": "stream",
     "text": [
      "[(0, (0.8702573048408199, 0.5618661257606491)), (1, (0.8440907108591366, 0.5821501014198782))]\n"
     ]
    }
   ],
   "source": [
    "k_cluster = [(idx, x[1]) for idx, x in enumerate(k_cluster)]\n",
    "print(k_cluster) # (label, vector)"
   ]
  },
  {
   "cell_type": "code",
   "execution_count": 59,
   "id": "72d2e342",
   "metadata": {
    "scrolled": true
   },
   "outputs": [
    {
     "name": "stdout",
     "output_type": "stream",
     "text": [
      "[(-1, ('https://open.spotify.com/track/6FyRXC8tJUh863JCkyWqtk', (0.76777147841256, 0.706896551724138), True)), (-1, ('https://open.spotify.com/track/6FyRXC8tJUh863JCkyWqtk', (0.76777147841256, 0.706896551724138), True))]\n"
     ]
    }
   ],
   "source": [
    "# Add updatable label after each line of rdd\n",
    "'''\n",
    "In order to make it easy for updating centroid using reduceByKey, we use labels as key for each group.\n",
    "Keys are updated until clusters are stabe\n",
    "'''\n",
    "default_label = -1\n",
    "default_check = True\n",
    "train_popu_genre_rdd = popu_genre_rdd.map(lambda line: (default_label, (line[0], line[1], default_check)))\n",
    "print(train_popu_genre_rdd.take(2))"
   ]
  },
  {
   "cell_type": "code",
   "execution_count": 60,
   "id": "1f1b2903",
   "metadata": {},
   "outputs": [],
   "source": [
    "'''\n",
    "Function to compute cosine similarity\n",
    "'''\n",
    "def cosine_similarity(vec1, vec2):\n",
    "    if len(vec1) != len(vec2):\n",
    "        return\n",
    "    \n",
    "    sumxx, sumxy, sumyy = 0, 0, 0\n",
    "    for i in range(len(vec1)):\n",
    "        x = vec1[i]; y = vec2[i]\n",
    "        sumxx += x * x\n",
    "        sumyy += y * y\n",
    "        sumxy += x * y\n",
    "    return sumxy / math.sqrt(sumxx * sumyy)"
   ]
  },
  {
   "cell_type": "code",
   "execution_count": 61,
   "id": "32005846",
   "metadata": {},
   "outputs": [],
   "source": [
    "# calculate cosine similarity of each line with 3 centroids\n",
    "'''\n",
    "line's format : (-1, ('https://open.spotify.com/track/1wLQwg0mloy3yXjL0jPE0N', (60.8, 6), True))\n",
    "cluster's format : [(0, (9648.05, 11)), (1, (7040.1, 2)), (2, (839.5, 48))]\n",
    "'''\n",
    "k_update_cluster = k_cluster\n",
    "\n",
    "def find_cluster_for_line(line):\n",
    "    cosine_measure_list = [cosine_similarity(line[1][1], cluster[1]) for cluster in k_update_cluster]\n",
    "    min_cosine = cosine_measure_list[0]\n",
    "    min_idx = 0\n",
    "    for idx, val in enumerate(cosine_measure_list):\n",
    "        if val < min_cosine:\n",
    "            min_cosine = val\n",
    "            min_idx = idx\n",
    "            \n",
    "    return (min_idx, (line[1][0], line[1][1], min_idx != line[0]))"
   ]
  },
  {
   "cell_type": "code",
   "execution_count": 62,
   "id": "094e0c4a",
   "metadata": {},
   "outputs": [
    {
     "data": {
      "text/plain": [
       "[(0, (0.8702573048408199, 0.5618661257606491)),\n",
       " (1, (0.8440907108591366, 0.5821501014198782))]"
      ]
     },
     "execution_count": 62,
     "metadata": {},
     "output_type": "execute_result"
    }
   ],
   "source": [
    "k_update_cluster"
   ]
  },
  {
   "cell_type": "code",
   "execution_count": 63,
   "id": "4573b5af",
   "metadata": {},
   "outputs": [],
   "source": [
    "def calculate_sum_and_count(vec1, vec2):\n",
    "    '''\n",
    "    vec1: (vector1, 1)\n",
    "    vec2: (vector2, 1)\n",
    "    '''\n",
    "    sum_point = add2Tuple(vec1[0], vec2[0])\n",
    "    count_point = vec1[1] + vec2[1]\n",
    "    return tuple([sum_point, count_point])\n",
    "\n",
    "def avg_points(sum_point, count_point):\n",
    "    return tuple([ float(i/count_point) for i in sum_point ])\n"
   ]
  },
  {
   "cell_type": "code",
   "execution_count": 64,
   "id": "bf249f09",
   "metadata": {},
   "outputs": [],
   "source": [
    "def update_centroids(candidates):\n",
    "    candidate_label = {val[0]: val[1] for val in candidates}\n",
    "    for i in range(len(k_update_cluster)):\n",
    "        k_update_cluster[i] = list(k_update_cluster[i])\n",
    "        if k_update_cluster[i][0] in candidate_label:\n",
    "            k_update_cluster[i][1] = candidate_label[k_update_cluster[i][0]] \n",
    "        \n",
    "        k_update_cluster[i] = k_update_cluster[i]"
   ]
  },
  {
   "cell_type": "code",
   "execution_count": 65,
   "id": "0669f7b6",
   "metadata": {
    "scrolled": false
   },
   "outputs": [
    {
     "name": "stderr",
     "output_type": "stream",
     "text": [
      "                                                                                \r"
     ]
    }
   ],
   "source": [
    "is_stop = False\n",
    "updated_popu_genre_rdd = train_popu_genre_rdd\n",
    "\n",
    "while True:\n",
    "    updated_popu_genre_rdd = updated_popu_genre_rdd.map(lambda line: find_cluster_for_line(line))    \n",
    "    is_stop = updated_popu_genre_rdd.filter(lambda line: line[1][2] == True).isEmpty() is True\n",
    "    \n",
    "    if is_stop == True:\n",
    "        break\n",
    "    else:\n",
    "        # update centroids by find average points\n",
    "        temp_centroids = updated_popu_genre_rdd.map(lambda line: (line[0], (line[1][1], 1))).reduceByKey(lambda a,b : calculate_sum_and_count(a,b) ).collect()\n",
    "        temp_centroids = [(p[0], avg_points(p[1][0], p[1][1])) for p in temp_centroids]        \n",
    "        update_centroids(temp_centroids)"
   ]
  },
  {
   "cell_type": "code",
   "execution_count": 66,
   "id": "c9884318",
   "metadata": {
    "scrolled": false
   },
   "outputs": [
    {
     "data": {
      "text/plain": [
       "[[0, (0.6863010173233001, 0.6948864844923297)],\n",
       " [1, (0.8234034345105834, 0.45193381369188496)]]"
      ]
     },
     "execution_count": 66,
     "metadata": {},
     "output_type": "execute_result"
    }
   ],
   "source": [
    "k_update_cluster"
   ]
  },
  {
   "cell_type": "code",
   "execution_count": 67,
   "id": "034db76b",
   "metadata": {
    "scrolled": true
   },
   "outputs": [
    {
     "name": "stderr",
     "output_type": "stream",
     "text": [
      "                                                                                \r"
     ]
    }
   ],
   "source": [
    "cluster_0 = updated_popu_genre_rdd.filter(lambda x: x[0] == 0).collect()\n",
    "cluster_1 = updated_popu_genre_rdd.filter(lambda x: x[0] == 1).collect()"
   ]
  },
  {
   "cell_type": "markdown",
   "id": "6d16d8cc",
   "metadata": {},
   "source": [
    "## 7. Visualize the results you get from the clustering tasks\n"
   ]
  },
  {
   "cell_type": "code",
   "execution_count": 68,
   "id": "2e6c437c",
   "metadata": {},
   "outputs": [],
   "source": [
    "x = []\n",
    "y = []\n",
    "label = []\n",
    "for cluster in [cluster_0, cluster_1]:\n",
    "    for item in cluster:\n",
    "        label.append(item[0])\n",
    "        x.append(item[1][1][0])\n",
    "        y.append(item[1][1][1])"
   ]
  },
  {
   "cell_type": "code",
   "execution_count": 69,
   "id": "7398738d",
   "metadata": {},
   "outputs": [],
   "source": [
    "centroid_x = []\n",
    "centroid_y = []\n",
    "for p in k_update_cluster:\n",
    "    centroid_x.append(p[1][0])\n",
    "    centroid_y.append(p[1][1])"
   ]
  },
  {
   "cell_type": "code",
   "execution_count": 70,
   "id": "0fc501e1",
   "metadata": {},
   "outputs": [
    {
     "data": {
      "image/png": "[encoded data removed]",
      "text/plain": [
       "<Figure size 600x600 with 1 Axes>"
      ]
     },
     "metadata": {},
     "output_type": "display_data"
    }
   ],
   "source": [
    "fig = plt.figure(figsize=(6,6))\n",
    "ax = fig.add_subplot(111)\n",
    "ax.set_title(\"Clustering\",fontsize=14)\n",
    "ax.set_xlabel(\"X\",fontsize=12)\n",
    "ax.set_ylabel(\"Y\",fontsize=12)\n",
    "ax.grid(True,linestyle='-',color='0.75')\n",
    "\n",
    "ax.scatter(x, y ,s=40,c=label, marker = 'o', cmap = cm.jet )\n",
    "ax.scatter(centroid_x,centroid_y,s=60, marker = 'x', cmap = cm.jet )\n",
    "\n",
    "plt.show()"
   ]
  },
  {
   "cell_type": "code",
   "execution_count": null,
   "id": "d25d64e4",
   "metadata": {},
   "outputs": [],
   "source": []
  }
 ],
 "metadata": {
  "kernelspec": {
   "display_name": "Python 3 (ipykernel)",
   "language": "python",
   "name": "python3"
  },
  "language_info": {
   "codemirror_mode": {
    "name": "ipython",
    "version": 3
   },
   "file_extension": ".py",
   "mimetype": "text/x-python",
   "name": "python",
   "nbconvert_exporter": "python",
   "pygments_lexer": "ipython3",
   "version": "3.7.15"
  }
 },
 "nbformat": 4,
 "nbformat_minor": 5
}
