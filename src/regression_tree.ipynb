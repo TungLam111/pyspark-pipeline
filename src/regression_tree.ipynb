{
 "cells": [
  {
   "cell_type": "code",
   "execution_count": 1,
   "id": "f18c57c5",
   "metadata": {},
   "outputs": [],
   "source": [
    "import findspark\n",
    "findspark.init()"
   ]
  },
  {
   "cell_type": "code",
   "execution_count": 2,
   "id": "6c0fdae5",
   "metadata": {},
   "outputs": [],
   "source": [
    "from pyspark import SparkContext, SparkConf"
   ]
  },
  {
   "cell_type": "code",
   "execution_count": 3,
   "id": "1e5f9342",
   "metadata": {},
   "outputs": [],
   "source": [
    "conf = SparkConf().setMaster(\"yarn\").setAppName(\"Regression\")"
   ]
  },
  {
   "cell_type": "code",
   "execution_count": 4,
   "id": "f6ac7fba",
   "metadata": {},
   "outputs": [
    {
     "name": "stderr",
     "output_type": "stream",
     "text": [
      "Setting default log level to \"WARN\".\n",
      "To adjust logging level use sc.setLogLevel(newLevel). For SparkR, use setLogLevel(newLevel).\n"
     ]
    },
    {
     "data": {
      "text/plain": [
       "[('spark.driver.extraJavaOptions',\n",
       "  '-XX:+IgnoreUnrecognizedVMOptions --add-opens=java.base/java.lang=ALL-UNNAMED --add-opens=java.base/java.lang.invoke=ALL-UNNAMED --add-opens=java.base/java.lang.reflect=ALL-UNNAMED --add-opens=java.base/java.io=ALL-UNNAMED --add-opens=java.base/java.net=ALL-UNNAMED --add-opens=java.base/java.nio=ALL-UNNAMED --add-opens=java.base/java.util=ALL-UNNAMED --add-opens=java.base/java.util.concurrent=ALL-UNNAMED --add-opens=java.base/java.util.concurrent.atomic=ALL-UNNAMED --add-opens=java.base/sun.nio.ch=ALL-UNNAMED --add-opens=java.base/sun.nio.cs=ALL-UNNAMED --add-opens=java.base/sun.security.action=ALL-UNNAMED --add-opens=java.base/sun.util.calendar=ALL-UNNAMED --add-opens=java.security.jgss/sun.security.krb5=ALL-UNNAMED'),\n",
       " ('spark.org.apache.hadoop.yarn.server.webproxy.amfilter.AmIpFilter.param.PROXY_HOSTS',\n",
       "  'master'),\n",
       " ('spark.app.startTime', '1672130857733'),\n",
       " ('spark.org.apache.hadoop.yarn.server.webproxy.amfilter.AmIpFilter.param.PROXY_URI_BASES',\n",
       "  'http://master:8088/proxy/application_1672126847562_0002'),\n",
       " ('spark.executor.id', 'driver'),\n",
       " ('spark.app.id', 'application_1672126847562_0002'),\n",
       " ('spark.app.name', 'Regression'),\n",
       " ('spark.ui.proxyBase', '/proxy/application_1672126847562_0002'),\n",
       " ('spark.driver.port', '34051'),\n",
       " ('spark.driver.bindAddress', '192.1.1.11'),\n",
       " ('spark.app.submitTime', '1672130857371'),\n",
       " ('spark.ui.port', '4050'),\n",
       " ('spark.master', 'yarn'),\n",
       " ('spark.driver.appUIAddress', 'http://edge:4050'),\n",
       " ('spark.rdd.compress', 'True'),\n",
       " ('spark.yarn.jars', ''),\n",
       " ('spark.driver.host', 'edge'),\n",
       " ('spark.executor.extraJavaOptions',\n",
       "  '-XX:+IgnoreUnrecognizedVMOptions --add-opens=java.base/java.lang=ALL-UNNAMED --add-opens=java.base/java.lang.invoke=ALL-UNNAMED --add-opens=java.base/java.lang.reflect=ALL-UNNAMED --add-opens=java.base/java.io=ALL-UNNAMED --add-opens=java.base/java.net=ALL-UNNAMED --add-opens=java.base/java.nio=ALL-UNNAMED --add-opens=java.base/java.util=ALL-UNNAMED --add-opens=java.base/java.util.concurrent=ALL-UNNAMED --add-opens=java.base/java.util.concurrent.atomic=ALL-UNNAMED --add-opens=java.base/sun.nio.ch=ALL-UNNAMED --add-opens=java.base/sun.nio.cs=ALL-UNNAMED --add-opens=java.base/sun.security.action=ALL-UNNAMED --add-opens=java.base/sun.util.calendar=ALL-UNNAMED --add-opens=java.security.jgss/sun.security.krb5=ALL-UNNAMED'),\n",
       " ('spark.serializer.objectStreamReset', '100'),\n",
       " ('spark.executorEnv.PYTHONPATH',\n",
       "  '/usr/local/spark/python:<CPS>{{PWD}}/pyspark.zip<CPS>{{PWD}}/py4j-0.10.9.5-src.zip'),\n",
       " ('spark.submit.pyFiles', ''),\n",
       " ('spark.yarn.isPython', 'true'),\n",
       " ('spark.submit.deployMode', 'client'),\n",
       " ('spark.ui.filters',\n",
       "  'org.apache.hadoop.yarn.server.webproxy.amfilter.AmIpFilter'),\n",
       " ('spark.ui.showConsoleProgress', 'true')]"
      ]
     },
     "execution_count": 4,
     "metadata": {},
     "output_type": "execute_result"
    }
   ],
   "source": [
    "sc = SparkContext.getOrCreate (conf = conf)\n",
    "sc.getConf().getAll()"
   ]
  },
  {
   "cell_type": "code",
   "execution_count": 5,
   "id": "a8cdcc61",
   "metadata": {},
   "outputs": [],
   "source": [
    "import seaborn as sns\n",
    "import re\n",
    "import csv\n",
    "import math\n",
    "import pandas as pd\n",
    "import matplotlib.pyplot as plt\n",
    "from matplotlib  import cm\n",
    "import numpy as np"
   ]
  },
  {
   "cell_type": "code",
   "execution_count": 6,
   "id": "e6e83056",
   "metadata": {},
   "outputs": [],
   "source": [
    "createType = \"csv_read_all\"\n",
    "database = \"train\"\n",
    "num_of_partition = 5"
   ]
  },
  {
   "cell_type": "markdown",
   "id": "f1a101b1",
   "metadata": {},
   "source": [
    "## 1 Read data from csv"
   ]
  },
  {
   "cell_type": "code",
   "execution_count": 7,
   "id": "dfb689a3",
   "metadata": {},
   "outputs": [],
   "source": [
    "def read_input(dataset_name, p):\n",
    "    rdd = None\n",
    "    if createType == \"csv_read_all\":\n",
    "        data = []\n",
    "        with open('{}.csv'.format(dataset_name), 'r') as file:\n",
    "            reader = csv.reader(file)\n",
    "            for row in reader:\n",
    "                data.append(tuple(row))\n",
    "        cls = data[0]\n",
    "        data = data[1:]\n",
    "        rdd = sc.parallelize(data, num_of_partition)\n",
    "        rdd = rdd.filter(lambda x: x[0] != 'Id')\n",
    "\n",
    "    elif createType == \"csv_read_chunk\":\n",
    "        rdd = sc.textFile(\"hdfs://master:9000/data/{}.csv\".format(database), num_of_partition)\n",
    "        rdd = rdd.mapPartitions(lambda x: csv.reader(x))\n",
    "        cls = rdd.first()\n",
    "        rdd = rdd.filter(lambda x: x[0] != 'Id')\n",
    "    else:\n",
    "        print(\"Can not read data\")\n",
    "    \n",
    "    return rdd, cls"
   ]
  },
  {
   "cell_type": "code",
   "execution_count": 8,
   "id": "dd679bd5",
   "metadata": {},
   "outputs": [],
   "source": [
    "wholeRDD, columns = read_input(database, num_of_partition)"
   ]
  },
  {
   "cell_type": "code",
   "execution_count": 9,
   "id": "9357674c",
   "metadata": {
    "scrolled": true
   },
   "outputs": [
    {
     "name": "stdout",
     "output_type": "stream",
     "text": [
      "('Id', 'MSSubClass', 'MSZoning', 'LotFrontage', 'LotArea', 'Street', 'Alley', 'LotShape', 'LandContour', 'Utilities', 'LotConfig', 'LandSlope', 'Neighborhood', 'Condition1', 'Condition2', 'BldgType', 'HouseStyle', 'OverallQual', 'OverallCond', 'YearBuilt', 'YearRemodAdd', 'RoofStyle', 'RoofMatl', 'Exterior1st', 'Exterior2nd', 'MasVnrType', 'MasVnrArea', 'ExterQual', 'ExterCond', 'Foundation', 'BsmtQual', 'BsmtCond', 'BsmtExposure', 'BsmtFinType1', 'BsmtFinSF1', 'BsmtFinType2', 'BsmtFinSF2', 'BsmtUnfSF', 'TotalBsmtSF', 'Heating', 'HeatingQC', 'CentralAir', 'Electrical', '1stFlrSF', '2ndFlrSF', 'LowQualFinSF', 'GrLivArea', 'BsmtFullBath', 'BsmtHalfBath', 'FullBath', 'HalfBath', 'BedroomAbvGr', 'KitchenAbvGr', 'KitchenQual', 'TotRmsAbvGrd', 'Functional', 'Fireplaces', 'FireplaceQu', 'GarageType', 'GarageYrBlt', 'GarageFinish', 'GarageCars', 'GarageArea', 'GarageQual', 'GarageCond', 'PavedDrive', 'WoodDeckSF', 'OpenPorchSF', 'EnclosedPorch', '3SsnPorch', 'ScreenPorch', 'PoolArea', 'PoolQC', 'Fence', 'MiscFeature', 'MiscVal', 'MoSold', 'YrSold', 'SaleType', 'SaleCondition', 'SalePrice')\n"
     ]
    }
   ],
   "source": [
    "print(columns)"
   ]
  },
  {
   "cell_type": "code",
   "execution_count": 10,
   "id": "c9dcfb0b",
   "metadata": {
    "scrolled": true
   },
   "outputs": [
    {
     "name": "stdout",
     "output_type": "stream",
     "text": [
      "Number of columns =  81\n"
     ]
    }
   ],
   "source": [
    "c = { attr : idx  for idx, attr in enumerate(columns) }\n",
    "print(\"Number of columns = \", len(c))"
   ]
  },
  {
   "cell_type": "code",
   "execution_count": 11,
   "id": "88ca5e58",
   "metadata": {},
   "outputs": [],
   "source": [
    "continous_cols = ['LotFrontage', 'LotArea', 'YearBuilt', 'YearRemodAdd', 'MasVnrArea', \n",
    "                  'BsmtFinSF1', 'BsmtFinSF2', 'BsmtUnfSF',\n",
    "                 'TotalBsmtSF', '1stFlrSF', '2ndFlrSF', 'LowQualFinSF', \n",
    "                  'GrLivArea', 'BsmtFullBath', 'BsmtHalfBath',\n",
    "                 'FullBath', 'HalfBath', 'TotRmsAbvGrd',\n",
    "                  'Fireplaces', 'GarageYrBlt', 'GarageCars', 'GarageArea',\n",
    "                  'WoodDeckSF','OpenPorchSF', 'EnclosedPorch', '3SsnPorch', 'ScreenPorch',\n",
    "                  'PoolArea', 'MiscVal', 'MoSold', 'YrSold'\n",
    "                 ]"
   ]
  },
  {
   "cell_type": "code",
   "execution_count": 12,
   "id": "f430699d",
   "metadata": {
    "scrolled": true
   },
   "outputs": [
    {
     "name": "stdout",
     "output_type": "stream",
     "text": [
      "['Id', 'MSSubClass', 'MSZoning', 'Street', 'Alley', 'LotShape', 'LandContour', 'Utilities', 'LotConfig', 'LandSlope', 'Neighborhood', 'Condition1', 'Condition2', 'BldgType', 'HouseStyle', 'OverallQual', 'OverallCond', 'RoofStyle', 'RoofMatl', 'Exterior1st', 'Exterior2nd', 'MasVnrType', 'ExterQual', 'ExterCond', 'Foundation', 'BsmtQual', 'BsmtCond', 'BsmtExposure', 'BsmtFinType1', 'BsmtFinType2', 'Heating', 'HeatingQC', 'CentralAir', 'Electrical', 'BedroomAbvGr', 'KitchenAbvGr', 'KitchenQual', 'Functional', 'FireplaceQu', 'GarageType', 'GarageFinish', 'GarageQual', 'GarageCond', 'PavedDrive', 'PoolQC', 'Fence', 'MiscFeature', 'SaleType', 'SaleCondition', 'SalePrice']\n"
     ]
    }
   ],
   "source": [
    "category_cols = [ i for i in columns if i not in continous_cols ]\n",
    "print(category_cols)"
   ]
  },
  {
   "cell_type": "code",
   "execution_count": 13,
   "id": "835548ce",
   "metadata": {
    "scrolled": true
   },
   "outputs": [
    {
     "name": "stderr",
     "output_type": "stream",
     "text": [
      "[Stage 0:===============================================>           (4 + 1) / 5]\r"
     ]
    },
    {
     "name": "stdout",
     "output_type": "stream",
     "text": [
      "Data size =  1259\n"
     ]
    },
    {
     "name": "stderr",
     "output_type": "stream",
     "text": [
      "                                                                                \r"
     ]
    }
   ],
   "source": [
    "print(\"Data size = \", wholeRDD.count())"
   ]
  },
  {
   "cell_type": "code",
   "execution_count": 14,
   "id": "ac903193",
   "metadata": {
    "scrolled": false
   },
   "outputs": [
    {
     "name": "stdout",
     "output_type": "stream",
     "text": [
      "Number of lines have empty =  0\n"
     ]
    }
   ],
   "source": [
    "'''\n",
    "Check lines that have empty values. It seems that there are no empty values in data.\n",
    "'''\n",
    "print(\"Number of lines have empty = \", wholeRDD.filter(lambda line: not all(line)).count())"
   ]
  },
  {
   "cell_type": "markdown",
   "id": "2b3c898b",
   "metadata": {},
   "source": [
    "## 2.1 Process: replace NA"
   ]
  },
  {
   "cell_type": "code",
   "execution_count": 15,
   "id": "e42ec277",
   "metadata": {},
   "outputs": [],
   "source": [
    "def replaceNA_normalize(line):\n",
    "    new_line = list(line)\n",
    "    for col in continous_cols:\n",
    "        if new_line[c[col]] == 'NA':\n",
    "            new_line[c[col]] = '-1'\n",
    "        \n",
    "        new_line[c[col]] = int(new_line[c[col]])\n",
    "            \n",
    "    return tuple(new_line)"
   ]
  },
  {
   "cell_type": "code",
   "execution_count": 16,
   "id": "d45c9e2e",
   "metadata": {},
   "outputs": [],
   "source": [
    "'''\n",
    "Replace all 'NA' values to '-1'. It's needed because some continuous columns might contain 'NA', which causes difficult\n",
    "for calculation.\n",
    "'''\n",
    "wholeRDD = wholeRDD.map(lambda line: replaceNA_normalize(line))"
   ]
  },
  {
   "cell_type": "code",
   "execution_count": 17,
   "id": "ee5da0b7",
   "metadata": {},
   "outputs": [],
   "source": [
    "def find_median(listt):\n",
    "    length = len(listt)\n",
    "    \n",
    "    if length % 2 == 0 :\n",
    "        return float(1/2 * (listt[int(length/2-1)] + listt[int(length/2-1) + 1]))\n",
    "    return float(listt[int((length-1)/2)])"
   ]
  },
  {
   "cell_type": "code",
   "execution_count": 18,
   "id": "57528d27",
   "metadata": {
    "scrolled": true
   },
   "outputs": [
    {
     "name": "stdout",
     "output_type": "stream",
     "text": [
      "LotFrontage\n",
      "Median =  70.0\n",
      "LotArea\n",
      "Median =  9452.0\n",
      "YearBuilt\n",
      "Median =  1973.0\n",
      "YearRemodAdd\n",
      "Median =  1993.0\n"
     ]
    },
    {
     "name": "stderr",
     "output_type": "stream",
     "text": [
      "                                                                                \r"
     ]
    },
    {
     "name": "stdout",
     "output_type": "stream",
     "text": [
      "MasVnrArea\n",
      "Median =  0.0\n",
      "BsmtFinSF1\n",
      "Median =  385.0\n",
      "BsmtFinSF2\n",
      "Median =  0.0\n"
     ]
    },
    {
     "name": "stderr",
     "output_type": "stream",
     "text": [
      "                                                                                \r"
     ]
    },
    {
     "name": "stdout",
     "output_type": "stream",
     "text": [
      "BsmtUnfSF\n",
      "Median =  470.0\n",
      "TotalBsmtSF\n",
      "Median =  996.0\n",
      "1stFlrSF\n",
      "Median =  1086.0\n",
      "2ndFlrSF\n",
      "Median =  0.0\n"
     ]
    },
    {
     "name": "stderr",
     "output_type": "stream",
     "text": [
      "                                                                                \r"
     ]
    },
    {
     "name": "stdout",
     "output_type": "stream",
     "text": [
      "LowQualFinSF\n",
      "Median =  0.0\n",
      "GrLivArea\n",
      "Median =  1456.0\n",
      "BsmtFullBath\n",
      "Median =  0.0\n",
      "BsmtHalfBath\n",
      "Median =  0.0\n",
      "FullBath\n",
      "Median =  2.0\n",
      "HalfBath\n",
      "Median =  0.0\n",
      "TotRmsAbvGrd\n",
      "Median =  6.0\n",
      "Fireplaces\n",
      "Median =  1.0\n",
      "GarageYrBlt\n",
      "Median =  1980.0\n",
      "GarageCars\n",
      "Median =  2.0\n",
      "GarageArea\n",
      "Median =  477.0\n",
      "WoodDeckSF\n",
      "Median =  0.0\n",
      "OpenPorchSF\n",
      "Median =  24.0\n",
      "EnclosedPorch\n",
      "Median =  0.0\n",
      "3SsnPorch\n",
      "Median =  0.0\n",
      "ScreenPorch\n",
      "Median =  0.0\n",
      "PoolArea\n",
      "Median =  0.0\n",
      "MiscVal\n",
      "Median =  0.0\n",
      "MoSold\n",
      "Median =  6.0\n",
      "YrSold\n",
      "Median =  2008.0\n"
     ]
    }
   ],
   "source": [
    "corpus_replace = {}\n",
    "\n",
    "for col in continous_cols:\n",
    "    list_values = wholeRDD.filter(lambda line: line[c[col]] != -1).map(lambda line: line[c[col]]).collect()\n",
    "    median_col = find_median(sorted(list_values))\n",
    "    print(col)\n",
    "    print(\"Median = \", median_col)\n",
    "    corpus_replace[col] = median_col"
   ]
  },
  {
   "cell_type": "markdown",
   "id": "57d7ccf9",
   "metadata": {},
   "source": [
    "## 2.2 Process: Label encode"
   ]
  },
  {
   "cell_type": "code",
   "execution_count": 19,
   "id": "02d0046a",
   "metadata": {},
   "outputs": [],
   "source": [
    "def label_encode(line):\n",
    "    new_line = list(line)\n",
    "    for col in continous_cols:\n",
    "        if new_line[c[col]] != -1:     # -1 is NA, I want to keep this values instead \n",
    "            \n",
    "            if new_line[c[col]] > corpus_replace[col]:\n",
    "                new_line[c[col]] = 2 # High\n",
    "\n",
    "            else:\n",
    "                new_line[c[col]] = 1 # Low\n",
    "\n",
    "    return tuple(new_line)"
   ]
  },
  {
   "cell_type": "code",
   "execution_count": 20,
   "id": "ff0b7910",
   "metadata": {},
   "outputs": [],
   "source": [
    "wholeRDD = wholeRDD.map(lambda line: label_encode(line))"
   ]
  },
  {
   "cell_type": "markdown",
   "id": "b1a03020",
   "metadata": {},
   "source": [
    "## 3. Build model"
   ]
  },
  {
   "cell_type": "code",
   "execution_count": 21,
   "id": "ffbfc72e",
   "metadata": {},
   "outputs": [],
   "source": [
    "'''\n",
    "The last columns (predictions also need to be converted to numerics)\n",
    "'''\n",
    "def process_sale_price(line):\n",
    "    new_line = list(line)\n",
    "    new_line[c['SalePrice']] = float(new_line[c['SalePrice']])\n",
    "    return tuple(new_line)\n",
    "\n",
    "wholeRDD = wholeRDD.map(lambda line: process_sale_price(line))"
   ]
  },
  {
   "cell_type": "code",
   "execution_count": 22,
   "id": "2aa1490b",
   "metadata": {},
   "outputs": [
    {
     "data": {
      "text/plain": [
       "228061319.0"
      ]
     },
     "execution_count": 22,
     "metadata": {},
     "output_type": "execute_result"
    }
   ],
   "source": [
    "wholeRDD.map(lambda x: x[c['SalePrice']]).reduce(lambda a,b : a + b)"
   ]
  },
  {
   "cell_type": "code",
   "execution_count": 23,
   "id": "d40a40b3",
   "metadata": {},
   "outputs": [],
   "source": [
    "def find_count_sum_mean_std(rdd, conditions, column):\n",
    "        \n",
    "    # For all \n",
    "    if column == None:\n",
    "        sum_count = rdd\n",
    "        if conditions != None:\n",
    "            sum_count = sum_count.filter(conditions)  \n",
    "            \n",
    "        sum_count = sum_count.map(lambda x: (x[c['SalePrice']], 1)).reduce(lambda a,b: (a[0] + b[0], a[1] + b[1]))\n",
    "        sum_all = sum_count[0]\n",
    "        count = sum_count[1]\n",
    "        mean = sum_all / count\n",
    "        \n",
    "        variance = rdd\n",
    "        if conditions != None:\n",
    "            variance = variance.filter(conditions)\n",
    "            \n",
    "        variance = variance.map(lambda x: (x[c['SalePrice']] - mean) * (x[c['SalePrice']] - mean) / count).reduce(lambda a,b : a + b)\n",
    "     \n",
    "        std = math.sqrt(variance)\n",
    "\n",
    "        return sum_all, count, mean, std\n",
    "\n",
    "    else:\n",
    "        sum_count = rdd\n",
    "        # For each column, column must be not None\n",
    "        if conditions != None:\n",
    "            sum_count = sum_count.filter(conditions)\n",
    "            \n",
    "        sum_count = sum_count.map(lambda x: ( x[c[column]],(x[c['SalePrice']], 1))).reduceByKey(lambda a,b: (a[0] + b[0], a[1] + b[1]))\n",
    "        # (attribute_name, (sum_of_attribute, count_of_attribute))\n",
    "        \n",
    "        sum_count_mean = sum_count.map(lambda x: (x[0], (x[1][0], x[1][1], x[1][0] / x[1][1])))\n",
    "        #(name, (sum, count, mean))\n",
    "        \n",
    "        \n",
    "        variance = rdd\n",
    "        if conditions != None:\n",
    "            variance = variance.filter(conditions)\n",
    "            \n",
    "        variance = variance.map(lambda line: (line[c[column]], line[c['SalePrice']])).join(sum_count_mean)\n",
    "        # (attribute_name, (price, (sum, count, mean)))\n",
    "        \n",
    "        variance = variance.map(lambda x: (x[0], (x[1][0]-x[1][1][2])*(x[1][0]-x[1][1][2])/x[1][1][1])).reduceByKey(lambda a,b : a+b )\n",
    "        # (attribute_name, variance)\n",
    "        \n",
    "        result = variance.join(sum_count_mean).map(lambda x: (x[0], x[1][1][0], x[1][1][1], x[1][1][2], math.sqrt(x[1][0]))).collect()\n",
    "        \n",
    "        return result\n",
    "        "
   ]
  },
  {
   "cell_type": "code",
   "execution_count": 24,
   "id": "d94ac586",
   "metadata": {},
   "outputs": [],
   "source": [
    "# test_rdd = sc.parallelize([(1, 'Sunny', 'Hot', 'High', 'Weak', 25),\n",
    "#                            (2, 'Sunny', 'Hot', 'High', 'Strong', 30),\n",
    "#                            (3, 'Overcast', 'Hot', 'High', 'Weak', 46),\n",
    "#                            (4, 'Rain', 'Mild', 'High', 'Weak', 45),\n",
    "#                            (5, 'Rain', 'Cool', 'Normal', 'Weak', 52),\n",
    "#                            (6, 'Rain', 'Cool', 'Normal', 'Strong', 23),\n",
    "#                            (7, 'Overcast', 'Cool', 'Normal', 'Strong', 43),\n",
    "#                            (8, 'Sunny','Mild','High','Weak',35),\n",
    "#                            (9, 'Sunny','Cool','Normal','Weak',38),\n",
    "#                            (10, 'Rain','Mild','Normal','Weak',46),\n",
    "#                            (11, 'Sunny','Mild','Normal','Strong',48),\n",
    "#                            (12, 'Overcast','Mild','High','Strong',52),\n",
    "#                            (13, 'Overcast','Hot','Normal','Weak',44),\n",
    "#                            (14, 'Rain','Mild','High','Strong',30),\n",
    "#                           ])\n",
    "# c = {'Id': 0, 'Outlook': 1, 'Temp': 2, 'Humidity': 3, 'Wind': 4, 'SalePrice': 5}\n",
    "# columns = ['Id', 'Outlook', 'Temp', 'Humidity', 'Wind', 'SalePrice']\n",
    "# excluded_cols = ['Id','SalePrice']"
   ]
  },
  {
   "cell_type": "code",
   "execution_count": 25,
   "id": "c5ddb29f",
   "metadata": {},
   "outputs": [],
   "source": [
    "excluded_cols = ['Id', 'SalePrice']\n",
    "valid_node_to_expand = [i for i in columns if i not in excluded_cols]"
   ]
  },
  {
   "cell_type": "code",
   "execution_count": 26,
   "id": "ef5b9a6d",
   "metadata": {},
   "outputs": [],
   "source": [
    "class Node:\n",
    "    def __init__(self, col_name, col_infor, _node_to_expand = None, parent = None, parent_attribute = None):\n",
    "        self.name = col_name\n",
    "        self.infor = col_infor\n",
    "        self.parent = parent\n",
    "        self.parent_attribute = parent_attribute\n",
    "        \n",
    "        self.node_to_expand = []\n",
    "        if _node_to_expand != None:\n",
    "            self.node_to_expand = _node_to_expand\n",
    "        \n",
    "        \n",
    "    def printt(self):\n",
    "        print(\"name node = \", self.name , \"\\n\")\n",
    "        print(\"node infor \\n\")\n",
    "    \n",
    "        for v in self.infor:\n",
    "            v.printt()\n",
    "        \n",
    "        print(\"expand nodes = \", self.node_to_expand)\n",
    "        print(\"parent = \", self.parent)\n",
    "        print(\"parent attribute = \", self.parent_attribute)\n",
    "        \n",
    "class Attribute:\n",
    "    def __init__(self, node_name, attr):\n",
    "        self.node = node_name\n",
    "        self.name = attr[0]\n",
    "        self.sum = attr[1]\n",
    "        self.count = attr[2]\n",
    "        self.mean = attr[3]\n",
    "        self.std = attr[4]\n",
    "    \n",
    "    def printt(self):\n",
    "        \n",
    "        print(\"attr node = \",self.node)\n",
    "        print(\"attr name = \",self.name)\n",
    "        print(\"attr sum = \", self.sum)\n",
    "        print(\"attr count = \",self.count)\n",
    "        print(\"attr mean = \", self.mean)\n",
    "        print(\"attr std = \", self.std)\n",
    "        print(\"\\n\")"
   ]
  },
  {
   "cell_type": "code",
   "execution_count": 27,
   "id": "1a98d9f4",
   "metadata": {
    "scrolled": true
   },
   "outputs": [
    {
     "data": {
      "text/plain": [
       "79"
      ]
     },
     "execution_count": 27,
     "metadata": {},
     "output_type": "execute_result"
    }
   ],
   "source": [
    "len(valid_node_to_expand)"
   ]
  },
  {
   "cell_type": "code",
   "execution_count": 28,
   "id": "d3a12e61",
   "metadata": {
    "scrolled": false
   },
   "outputs": [
    {
     "name": "stdout",
     "output_type": "stream",
     "text": [
      "(228061319.0, 1259, 181144.81254964258, 80556.01333981183)\n"
     ]
    }
   ],
   "source": [
    "print(find_count_sum_mean_std(wholeRDD, None, None))"
   ]
  },
  {
   "cell_type": "code",
   "execution_count": 29,
   "id": "92d4ebf4",
   "metadata": {
    "scrolled": false
   },
   "outputs": [],
   "source": [
    "'''\n",
    "For short, I only use 3 columns + column ID and column SalePrice to make regression\n",
    "'''\n",
    "valid_node_to_expand = ['MSZoning', 'LotFrontage', 'LotArea', 'Street', 'LotShape']"
   ]
  },
  {
   "cell_type": "code",
   "execution_count": 30,
   "id": "94e99a5c",
   "metadata": {
    "scrolled": true
   },
   "outputs": [
    {
     "name": "stderr",
     "output_type": "stream",
     "text": [
      "                                                                                \r"
     ]
    }
   ],
   "source": [
    "'''\n",
    "Data now is ready for model. \n",
    "'''\n",
    "checkpoint = {}\n",
    "max_reduced_std = -math.inf\n",
    "candidate_root = None\n",
    "# Find root node first\n",
    "\n",
    "sum_total, count_total, mean_total, std_total = find_count_sum_mean_std(wholeRDD, None, None)\n",
    "\n",
    "for col in valid_node_to_expand:\n",
    "    if col not in excluded_cols:\n",
    "        # [(name, summ_col, count_col, mean_col, std_col)]\n",
    "        result = find_count_sum_mean_std(wholeRDD, None, col)\n",
    "        \n",
    "        weighted_std = 0\n",
    "        for value in result:\n",
    "            weighted_std = weighted_std + value[2] / count_total * value[4]\n",
    "        reduced_std = std_total - weighted_std\n",
    "        if reduced_std > max_reduced_std:\n",
    "            max_reduced_std = reduced_std\n",
    "            result = [Attribute(col, value) for value in result]\n",
    "            \n",
    "            _expand_node = valid_node_to_expand.copy()\n",
    "            _expand_node.remove(col)\n",
    "            \n",
    "            candidate_root = Node(col, result, _expand_node, None, None)\n",
    "            \n",
    "# after run through all columns, find root by selecting max reduced_std, save information of root node to dictionary\n",
    "checkpoint['layer_{}'.format(0)] = [candidate_root]"
   ]
  },
  {
   "cell_type": "code",
   "execution_count": 31,
   "id": "c2cd994a",
   "metadata": {
    "scrolled": true
   },
   "outputs": [
    {
     "name": "stdout",
     "output_type": "stream",
     "text": [
      "name node =  LotArea \n",
      "\n",
      "node infor \n",
      "\n",
      "attr node =  LotArea\n",
      "attr name =  1\n",
      "attr sum =  95333195.0\n",
      "attr count =  630\n",
      "attr mean =  151322.53174603175\n",
      "attr std =  52916.51059289869\n",
      "\n",
      "\n",
      "attr node =  LotArea\n",
      "attr name =  2\n",
      "attr sum =  132728124.0\n",
      "attr count =  629\n",
      "attr mean =  211014.50556438792\n",
      "attr std =  91658.43981920595\n",
      "\n",
      "\n",
      "expand nodes =  ['MSZoning', 'LotFrontage', 'Street', 'LotShape']\n",
      "parent =  None\n",
      "parent attribute =  None\n"
     ]
    }
   ],
   "source": [
    "for node in checkpoint['layer_0']:\n",
    "    node.printt()"
   ]
  },
  {
   "cell_type": "code",
   "execution_count": 32,
   "id": "287db724",
   "metadata": {
    "scrolled": true
   },
   "outputs": [
    {
     "data": {
      "text/plain": [
       "['MSZoning', 'LotFrontage', 'LotArea', 'Street', 'LotShape']"
      ]
     },
     "execution_count": 32,
     "metadata": {},
     "output_type": "execute_result"
    }
   ],
   "source": [
    "valid_node_to_expand"
   ]
  },
  {
   "cell_type": "code",
   "execution_count": 33,
   "id": "7a82b59f",
   "metadata": {},
   "outputs": [],
   "source": [
    "def find_weighted_std(result, count_total):\n",
    "    weighted_std = 0\n",
    "    \n",
    "    for value in result:\n",
    "        weighted_std = weighted_std + value[2] / count_total * value[4]\n",
    "    \n",
    "    return weighted_std"
   ]
  },
  {
   "cell_type": "code",
   "execution_count": 34,
   "id": "aa55b515",
   "metadata": {
    "scrolled": true
   },
   "outputs": [
    {
     "name": "stdout",
     "output_type": "stream",
     "text": [
      "Constructing for layer 1\n"
     ]
    },
    {
     "name": "stderr",
     "output_type": "stream",
     "text": [
      "                                                                                \r"
     ]
    },
    {
     "name": "stdout",
     "output_type": "stream",
     "text": [
      "\n",
      "\n",
      "\n",
      "\n",
      "Constructing for layer 2\n"
     ]
    },
    {
     "name": "stderr",
     "output_type": "stream",
     "text": [
      "                                                                                \r"
     ]
    },
    {
     "name": "stdout",
     "output_type": "stream",
     "text": [
      "Stop expanding tree\n",
      "69697.14285714286\n"
     ]
    },
    {
     "name": "stderr",
     "output_type": "stream",
     "text": [
      "                                                                                \r"
     ]
    },
    {
     "name": "stdout",
     "output_type": "stream",
     "text": [
      "\n",
      "\n",
      "\n",
      "\n",
      "Constructing for layer 3\n"
     ]
    },
    {
     "name": "stderr",
     "output_type": "stream",
     "text": [
      "                                                                                \r"
     ]
    },
    {
     "name": "stdout",
     "output_type": "stream",
     "text": [
      "Stop expanding tree\n",
      "292500.0\n",
      "Stop expanding tree\n",
      "73000.0\n"
     ]
    },
    {
     "name": "stderr",
     "output_type": "stream",
     "text": [
      "                                                                                \r"
     ]
    },
    {
     "name": "stdout",
     "output_type": "stream",
     "text": [
      "Stop expanding tree\n",
      "159434.0\n"
     ]
    },
    {
     "name": "stderr",
     "output_type": "stream",
     "text": [
      "                                                                                \r"
     ]
    },
    {
     "name": "stdout",
     "output_type": "stream",
     "text": [
      "Stop expanding tree\n",
      "142500.0\n"
     ]
    },
    {
     "name": "stderr",
     "output_type": "stream",
     "text": [
      "                                                                                \r"
     ]
    },
    {
     "name": "stdout",
     "output_type": "stream",
     "text": [
      "Stop expanding tree\n",
      "184550.0\n"
     ]
    },
    {
     "name": "stderr",
     "output_type": "stream",
     "text": [
      "                                                                                \r"
     ]
    },
    {
     "name": "stdout",
     "output_type": "stream",
     "text": [
      "Stop expanding tree\n",
      "170000.0\n"
     ]
    },
    {
     "name": "stderr",
     "output_type": "stream",
     "text": [
      "                                                                                \r"
     ]
    },
    {
     "name": "stdout",
     "output_type": "stream",
     "text": [
      "Stop expanding tree\n",
      "218062.5\n",
      "Stop expanding tree\n",
      "302908.3333333333\n"
     ]
    },
    {
     "name": "stderr",
     "output_type": "stream",
     "text": [
      "[Stage 357:============================================>          (12 + 1) / 15]\r"
     ]
    },
    {
     "name": "stdout",
     "output_type": "stream",
     "text": [
      "Stop expanding tree\n",
      "135666.66666666666\n",
      "Stop expanding tree\n",
      "184550.0\n",
      "\n",
      "\n",
      "\n",
      "\n",
      "Constructing for layer 4\n"
     ]
    },
    {
     "name": "stderr",
     "output_type": "stream",
     "text": [
      "                                                                                \r"
     ]
    },
    {
     "name": "stdout",
     "output_type": "stream",
     "text": [
      "Stop expanding tree\n",
      "170000.0\n"
     ]
    },
    {
     "name": "stderr",
     "output_type": "stream",
     "text": [
      "                                                                                \r"
     ]
    },
    {
     "name": "stdout",
     "output_type": "stream",
     "text": [
      "Stop expanding tree\n",
      "218062.5\n",
      "Stop expanding tree\n",
      "302908.3333333333\n"
     ]
    },
    {
     "name": "stderr",
     "output_type": "stream",
     "text": [
      "                                                                                \r"
     ]
    },
    {
     "name": "stdout",
     "output_type": "stream",
     "text": [
      "Stop expanding tree\n",
      "163500.0\n"
     ]
    },
    {
     "name": "stderr",
     "output_type": "stream",
     "text": [
      "                                                                                \r"
     ]
    },
    {
     "name": "stdout",
     "output_type": "stream",
     "text": [
      "Stop expanding tree\n",
      "170000.0\n"
     ]
    },
    {
     "name": "stderr",
     "output_type": "stream",
     "text": [
      "                                                                                \r"
     ]
    },
    {
     "name": "stdout",
     "output_type": "stream",
     "text": [
      "Stop expanding tree\n",
      "218062.5\n",
      "Stop expanding tree\n",
      "302908.3333333333\n"
     ]
    },
    {
     "name": "stderr",
     "output_type": "stream",
     "text": [
      "                                                                                \r"
     ]
    },
    {
     "name": "stdout",
     "output_type": "stream",
     "text": [
      "Stop expanding tree\n",
      "292500.0\n",
      "Stop expanding tree\n",
      "159434.0\n",
      "Stop expanding tree\n",
      "188933.33333333334\n"
     ]
    },
    {
     "name": "stderr",
     "output_type": "stream",
     "text": [
      "                                                                                \r"
     ]
    },
    {
     "name": "stdout",
     "output_type": "stream",
     "text": [
      "Stop expanding tree\n",
      "73985.0\n"
     ]
    },
    {
     "name": "stderr",
     "output_type": "stream",
     "text": [
      "                                                                                \r"
     ]
    },
    {
     "name": "stdout",
     "output_type": "stream",
     "text": [
      "Stop expanding tree\n",
      "85000.0\n",
      "Stop expanding tree\n",
      "142500.0\n",
      "Stop expanding tree\n",
      "232063.5\n"
     ]
    },
    {
     "name": "stderr",
     "output_type": "stream",
     "text": [
      "                                                                                \r"
     ]
    },
    {
     "name": "stdout",
     "output_type": "stream",
     "text": [
      "Stop expanding tree\n",
      "73985.0\n"
     ]
    },
    {
     "name": "stderr",
     "output_type": "stream",
     "text": [
      "                                                                                \r"
     ]
    },
    {
     "name": "stdout",
     "output_type": "stream",
     "text": [
      "Stop expanding tree\n",
      "85000.0\n",
      "Stop expanding tree\n",
      "142500.0\n",
      "Stop expanding tree\n",
      "232063.5\n"
     ]
    },
    {
     "name": "stderr",
     "output_type": "stream",
     "text": [
      "                                                                                \r"
     ]
    },
    {
     "name": "stdout",
     "output_type": "stream",
     "text": [
      "Stop expanding tree\n",
      "267845.0\n"
     ]
    },
    {
     "name": "stderr",
     "output_type": "stream",
     "text": [
      "                                                                                \r"
     ]
    },
    {
     "name": "stdout",
     "output_type": "stream",
     "text": [
      "Stop expanding tree\n",
      "292500.0\n",
      "Stop expanding tree\n",
      "73000.0\n"
     ]
    },
    {
     "name": "stderr",
     "output_type": "stream",
     "text": [
      "[Stage 557:===============================================>       (13 + 1) / 15]\r"
     ]
    },
    {
     "name": "stdout",
     "output_type": "stream",
     "text": [
      "\n",
      "\n",
      "\n",
      "\n",
      "Constructing for layer 5\n",
      "Stop expanding tree\n",
      "110000.0\n",
      "Stop expanding tree\n",
      "110548.25\n",
      "Stop expanding tree\n",
      "228950.0\n",
      "Stop expanding tree\n",
      "110548.25\n",
      "Stop expanding tree\n",
      "228950.0\n",
      "Stop expanding tree\n",
      "110000.0\n",
      "Stop expanding tree\n",
      "110548.25\n",
      "Stop expanding tree\n",
      "228950.0\n",
      "Stop expanding tree\n",
      "121346.5\n",
      "Stop expanding tree\n",
      "103166.66666666667\n",
      "Stop expanding tree\n",
      "228950.0\n",
      "Stop expanding tree\n",
      "121346.5\n",
      "Stop expanding tree\n",
      "103166.66666666667\n",
      "Stop expanding tree\n",
      "228950.0\n",
      "Stop expanding tree\n",
      "121346.5\n",
      "Stop expanding tree\n",
      "103166.66666666667\n",
      "Stop expanding tree\n",
      "228950.0\n",
      "Stop expanding tree\n",
      "110000.0\n",
      "Stop expanding tree\n",
      "110548.25\n",
      "Stop expanding tree\n",
      "228950.0\n",
      "Stop expanding tree\n",
      "110548.25\n",
      "Stop expanding tree\n",
      "228950.0\n",
      "Stop expanding tree\n",
      "178050.0\n",
      "Stop expanding tree\n",
      "178050.0\n",
      "Stop expanding tree\n",
      "110000.0\n",
      "Stop expanding tree\n",
      "178050.0\n",
      "Stop expanding tree\n",
      "110000.0\n",
      "Stop expanding tree\n",
      "178050.0\n",
      "Stop expanding tree\n",
      "110000.0\n",
      "Stop expanding tree\n",
      "178050.0\n",
      "Stop expanding tree\n",
      "110000.0\n",
      "Stop expanding tree\n",
      "110000.0\n",
      "Stop expanding tree\n",
      "110548.25\n",
      "Stop expanding tree\n",
      "228950.0\n",
      "Stop expanding tree\n",
      "110548.25\n",
      "Stop expanding tree\n",
      "228950.0\n"
     ]
    },
    {
     "name": "stderr",
     "output_type": "stream",
     "text": [
      "                                                                                \r"
     ]
    }
   ],
   "source": [
    "current_to_expand = 0\n",
    "stop_condition = 10\n",
    "\n",
    "while True:\n",
    "    \n",
    "    print(\"Constructing for layer {}\".format(current_to_expand + 1))\n",
    "    \n",
    "    checkpoint['layer_{}'.format(current_to_expand + 1)] = [] # List of nodes in constructing layer\n",
    "    # Iterate through each nodes in layers\n",
    "    for idx, node in enumerate(checkpoint['layer_{}'.format(current_to_expand)]):\n",
    "        node_name = node.name\n",
    "        node_attributes = node.infor\n",
    "        node_to_expandd = node.node_to_expand\n",
    "        \n",
    "        # Iterate through each attributes of a node\n",
    "        for attr in node_attributes:\n",
    "            \n",
    "            col_name = attr.node\n",
    "            \n",
    "            assert col_name == node_name, \"Attributes must match with parent\"\n",
    "            \n",
    "            _name, sum_total, count_total, mean_total, std_total = attr.name, attr.sum, attr.count, attr.mean, attr.std\n",
    "            \n",
    "            candidate_node = None\n",
    "            max_reduced_std = -math.inf\n",
    "            \n",
    "            if attr.count > stop_condition:\n",
    "                for _node in node_to_expandd:\n",
    "                    result = find_count_sum_mean_std(wholeRDD, lambda line: line[c[col_name]] == _name, _node)\n",
    "                          \n",
    "                    reduced_std = std_total - find_weighted_std(result, count_total)\n",
    "                    \n",
    "                    if reduced_std > max_reduced_std:\n",
    "                        max_reduced_std = reduced_std\n",
    "                        result = [Attribute(_node, value) for value in result]\n",
    "\n",
    "                        _expand_node = node_to_expandd.copy()\n",
    "                        _expand_node.remove(_node)\n",
    "\n",
    "                        candidate_node = Node(_node, result, _expand_node, node_name + \"_\" + str(idx), _name)\n",
    "                \n",
    "                if candidate_node != None:\n",
    "                    checkpoint['layer_{}'.format(current_to_expand + 1)].append(candidate_node)\n",
    "            else:\n",
    "                print(\"Stop expanding tree\")\n",
    "                print(mean_total)\n",
    "    \n",
    "#     for v in checkpoint['layer_{}'.format(current_to_expand + 1)]:\n",
    "#         v.printt()\n",
    "#         print(\"\\n\")\n",
    "    \n",
    "    if len(checkpoint['layer_{}'.format(current_to_expand + 1)]) == 0:\n",
    "        break\n",
    "        \n",
    "    current_to_expand = current_to_expand + 1\n",
    "    \n",
    "    print(\"\\n\")\n",
    "    print(\"\\n\")"
   ]
  },
  {
   "cell_type": "code",
   "execution_count": 35,
   "id": "6ed753db",
   "metadata": {
    "scrolled": true
   },
   "outputs": [
    {
     "name": "stdout",
     "output_type": "stream",
     "text": [
      "attr node =  LotArea\n",
      "attr name =  1\n",
      "attr sum =  95333195.0\n",
      "attr count =  630\n",
      "attr mean =  151322.53174603175\n",
      "attr std =  52916.51059289869\n",
      "\n",
      "\n",
      "attr node =  LotArea\n",
      "attr name =  2\n",
      "attr sum =  132728124.0\n",
      "attr count =  629\n",
      "attr mean =  211014.50556438792\n",
      "attr std =  91658.43981920595\n",
      "\n",
      "\n"
     ]
    }
   ],
   "source": [
    "for info in checkpoint['layer_0'][0].infor:\n",
    "    info.printt()"
   ]
  },
  {
   "cell_type": "code",
   "execution_count": 36,
   "id": "f33ad059",
   "metadata": {},
   "outputs": [],
   "source": [
    "def make_condition(line, path):\n",
    "    cond = True\n",
    "    for i in range(len(path)):\n",
    "        if i % 2 == 0:\n",
    "            cond = cond and line[c[path[i].name]] == path[i+1].name\n",
    "    return cond"
   ]
  },
  {
   "cell_type": "code",
   "execution_count": 37,
   "id": "bf8bc7de",
   "metadata": {},
   "outputs": [],
   "source": [
    "def predict(model, item):\n",
    "    current_layer = 0\n",
    "    node_to_expand = None\n",
    "    index_of_parent = None\n",
    "    attribute_to_expand = None\n",
    "    path = []\n",
    "    condition = None\n",
    "    \n",
    "    while True:\n",
    "        layer_name = 'layer_{}'.format(current_layer)\n",
    "        \n",
    "        node_list = model[layer_name]\n",
    "        \n",
    "        \n",
    "        if current_layer == 0 :\n",
    "            assert len(node_list) == 1, \"Root is only one\"\n",
    "            \n",
    "            node_to_expand = node_list[0]\n",
    "            index_of_parent = 0\n",
    "            \n",
    "            assert node_to_expand.parent_attribute == None , \"Not root !!!!!!!!!!\"\n",
    "            assert node_to_expand.parent == None, \"Not root !!!!!!!!\"\n",
    "\n",
    "        else:\n",
    "            \n",
    "            assert node_to_expand != None, \"Parent node must be not None !!!!!!!!!\"\n",
    "            assert attribute_to_expand != None, \"Attribute node must be not None !!!!!!!!\"\n",
    "            name = node_to_expand.name\n",
    "            node_to_expand = None\n",
    "            for idx, node in enumerate(node_list):\n",
    "                # Check match parent node and respective attribute\n",
    "                if node.parent == name + \"_\" + str(index_of_parent) and attribute_to_expand.name == node.parent_attribute:\n",
    "                    \n",
    "                    # Assign new node to expand\n",
    "                    node_to_expand = node    \n",
    "                    index_of_parent = idx\n",
    "                    break\n",
    "        \n",
    "        if node_to_expand == None:\n",
    "            break\n",
    "            \n",
    "        # Find attribute to expand\n",
    "        name = node_to_expand.name\n",
    "        attribute_list = node_to_expand.infor   \n",
    "        check_value = item[c[name]]\n",
    "        attribute_to_expand = None\n",
    "        \n",
    "        for attr in attribute_list:\n",
    "            if attr.name == check_value:\n",
    "                attribute_to_expand = attr\n",
    "                break          \n",
    "        \n",
    "        path.append(node_to_expand)\n",
    "        \n",
    "        if attribute_to_expand != None:\n",
    "            path.append(attribute_to_expand)\n",
    "        \n",
    "        current_layer = current_layer + 1\n",
    "        \n",
    "    # Based on path to make prediction\n",
    "    return path"
   ]
  },
  {
   "cell_type": "code",
   "execution_count": 38,
   "id": "5f22fd4f",
   "metadata": {},
   "outputs": [],
   "source": [
    "def make_prediction(rdd, path):\n",
    "    \n",
    "    result = rdd.filter(lambda line: make_condition(line, path)).map(lambda x: (x[c['SalePrice']], 1))\n",
    "    \n",
    "    try:\n",
    "        result = result.reduce(lambda a,b : (a[0] + b[0], a[1] + b[1]))\n",
    "    except:\n",
    "        result = rdd.map(lambda x: (x[c['SalePrice']], 1)).reduce(lambda a,b : (a[0] + b[0], a[1] + b[1]))\n",
    "        \n",
    "    return result[0] / result[1]"
   ]
  },
  {
   "cell_type": "code",
   "execution_count": 39,
   "id": "993b61f9",
   "metadata": {},
   "outputs": [],
   "source": [
    "testRDD, _ = read_input(\"test\", 2)"
   ]
  },
  {
   "cell_type": "code",
   "execution_count": 40,
   "id": "a322bb51",
   "metadata": {
    "scrolled": true
   },
   "outputs": [
    {
     "name": "stdout",
     "output_type": "stream",
     "text": [
      "Number of columns in test dataset =  80\n"
     ]
    }
   ],
   "source": [
    "print(\"Number of columns in test dataset = \", len(testRDD.take(1)[0]))"
   ]
  },
  {
   "cell_type": "code",
   "execution_count": 41,
   "id": "9c29ff3d",
   "metadata": {},
   "outputs": [],
   "source": [
    "testRDD = testRDD.map(lambda line: label_encode(replaceNA_normalize(line)))\n",
    "test_items = testRDD.collect()"
   ]
  },
  {
   "cell_type": "code",
   "execution_count": 42,
   "id": "2f70db96",
   "metadata": {
    "scrolled": false
   },
   "outputs": [
    {
     "name": "stdout",
     "output_type": "stream",
     "text": [
      "1260 136057.125\n",
      "1261 163500.0\n",
      "1262 213527.23383084577\n",
      "1263 208577.27272727274\n",
      "1264 136057.125\n",
      "1265 112642.85714285714\n",
      "1266 175111.65\n",
      "1267 202989.5\n",
      "1268 261423.55371900825\n",
      "1269 184523.4301075269\n",
      "1270 213527.23383084577\n",
      "1271 208577.27272727274\n",
      "1272 162101.27659574468\n",
      "1273 184523.4301075269\n",
      "1274 261423.55371900825\n",
      "1275 152311.39705882352\n",
      "1276 213527.23383084577\n",
      "1277 184523.4301075269\n",
      "1278 184523.4301075269\n",
      "1279 213527.23383084577\n",
      "1280 69697.14285714286\n",
      "1281 216175.17307692306\n",
      "1282 170587.75925925927\n",
      "1283 170587.75925925927\n",
      "1284 165200.34426229508\n",
      "1285 136057.125\n",
      "1286 112157.20338983051\n",
      "1287 208577.27272727274\n",
      "1288 184523.4301075269\n",
      "1289 170587.75925925927\n",
      "1290 261423.55371900825\n",
      "1291 184523.4301075269\n",
      "1292 112157.20338983051\n",
      "1293 112157.20338983051\n",
      "1294 213527.23383084577\n",
      "1295 152311.39705882352\n",
      "1296 152311.39705882352\n",
      "1297 165200.34426229508\n",
      "1298 112157.20338983051\n",
      "1299 302908.3333333333\n",
      "1300 165200.34426229508\n",
      "1301 184523.4301075269\n",
      "1302 162101.27659574468\n",
      "1303 213527.23383084577\n",
      "1304 165200.34426229508\n",
      "1305 112157.20338983051\n",
      "1306 261423.55371900825\n",
      "1307 170587.75925925927\n",
      "1308 152311.39705882352\n",
      "1309 175500.0\n",
      "1310 179152.9411764706\n",
      "1311 213527.23383084577\n",
      "1312 152311.39705882352\n",
      "1313 184523.4301075269\n",
      "1314 261423.55371900825\n",
      "1315 152311.39705882352\n",
      "1316 213527.23383084577\n",
      "1317 216175.17307692306\n",
      "1318 175111.65\n",
      "1319 214954.54545454544\n",
      "1320 213527.23383084577\n",
      "1321 152311.39705882352\n",
      "1322 162101.27659574468\n",
      "1323 261423.55371900825\n",
      "1324 152311.39705882352\n",
      "1325 213527.23383084577\n",
      "1326 112157.20338983051\n",
      "1327 112642.85714285714\n",
      "1328 152311.39705882352\n",
      "1329 134361.11111111112\n",
      "1330 170587.75925925927\n",
      "1331 213527.23383084577\n",
      "1332 216175.17307692306\n",
      "1333 152311.39705882352\n",
      "1334 112157.20338983051\n",
      "1335 112157.20338983051\n",
      "1336 213527.23383084577\n",
      "1337 165622.55555555556\n",
      "1338 181144.81254964258\n",
      "1339 261423.55371900825\n",
      "1340 261423.55371900825\n",
      "1341 152311.39705882352\n",
      "1342 136057.125\n",
      "1343 179152.9411764706\n",
      "1344 152311.39705882352\n",
      "1345 261423.55371900825\n",
      "1346 112157.20338983051\n",
      "1347 214954.54545454544\n",
      "1348 261423.55371900825\n",
      "1349 163500.0\n",
      "1350 112157.20338983051\n",
      "1351 213527.23383084577\n",
      "1352 170587.75925925927\n",
      "1353 112157.20338983051\n",
      "1354 216175.17307692306\n",
      "1355 184523.4301075269\n",
      "1356 261423.55371900825\n",
      "1357 208577.27272727274\n",
      "1358 184523.4301075269\n",
      "1359 184550.0\n",
      "1360 213527.23383084577\n",
      "1361 136057.125\n",
      "1362 261423.55371900825\n",
      "1363 184523.4301075269\n",
      "1364 165622.55555555556\n",
      "1365 175111.65\n",
      "1366 184550.0\n",
      "1367 170587.75925925927\n",
      "1368 112157.20338983051\n",
      "1369 137176.0\n",
      "1370 291673.85714285716\n",
      "1371 165200.34426229508\n",
      "1372 213527.23383084577\n",
      "1373 213527.23383084577\n",
      "1374 208577.27272727274\n",
      "1375 247947.22222222222\n",
      "1376 261423.55371900825\n",
      "1377 152311.39705882352\n",
      "1378 136057.125\n",
      "1379 112157.20338983051\n",
      "1380 213527.23383084577\n",
      "1381 152311.39705882352\n",
      "1382 184523.4301075269\n",
      "1383 112157.20338983051\n",
      "1384 208577.27272727274\n",
      "1385 152311.39705882352\n",
      "1386 112157.20338983051\n",
      "1387 261423.55371900825\n",
      "1388 112157.20338983051\n",
      "1389 216175.17307692306\n",
      "1390 112157.20338983051\n",
      "1391 152311.39705882352\n",
      "1392 152311.39705882352\n",
      "1393 152311.39705882352\n",
      "1394 134361.11111111112\n",
      "1395 152311.39705882352\n",
      "1396 261423.55371900825\n",
      "1397 184523.4301075269\n",
      "1398 112157.20338983051\n",
      "1399 152311.39705882352\n",
      "1400 152311.39705882352\n",
      "1401 112157.20338983051\n",
      "1402 170587.75925925927\n",
      "1403 152311.39705882352\n",
      "1404 216175.17307692306\n",
      "1405 136057.125\n",
      "1406 157487.5\n",
      "1407 152311.39705882352\n",
      "1408 162101.27659574468\n",
      "1409 112157.20338983051\n",
      "1410 216175.17307692306\n",
      "1411 213527.23383084577\n",
      "1412 213527.23383084577\n",
      "1413 152311.39705882352\n",
      "1414 261423.55371900825\n",
      "1415 136057.125\n",
      "1416 152311.39705882352\n",
      "1417 134361.11111111112\n",
      "1418 184523.4301075269\n",
      "1419 165200.34426229508\n",
      "1420 184523.4301075269\n",
      "1421 213527.23383084577\n",
      "1422 152311.39705882352\n",
      "1423 112157.20338983051\n",
      "1424 184523.4301075269\n",
      "1425 208577.27272727274\n",
      "1426 261423.55371900825\n",
      "1427 261423.55371900825\n",
      "1428 136057.125\n",
      "1429 112157.20338983051\n",
      "1430 184523.4301075269\n",
      "1431 267000.0\n",
      "1432 162101.27659574468\n",
      "1433 136057.125\n",
      "1434 261423.55371900825\n",
      "1435 213527.23383084577\n",
      "1436 165200.34426229508\n",
      "1437 152311.39705882352\n",
      "1438 213527.23383084577\n",
      "1439 134466.66666666666\n",
      "1440 213527.23383084577\n",
      "1441 261423.55371900825\n",
      "1442 137176.0\n",
      "1443 247947.22222222222\n",
      "1444 179152.9411764706\n",
      "1445 152311.39705882352\n",
      "1446 152311.39705882352\n",
      "1447 184523.4301075269\n",
      "1448 213527.23383084577\n",
      "1449 136057.125\n",
      "1450 112157.20338983051\n",
      "1451 152311.39705882352\n",
      "1452 165200.34426229508\n",
      "1453 112157.20338983051\n",
      "1454 213527.23383084577\n",
      "1455 175111.65\n",
      "1456 152311.39705882352\n",
      "1457 213527.23383084577\n",
      "1458 152311.39705882352\n",
      "1459 136057.125\n",
      "1460 213527.23383084577\n"
     ]
    }
   ],
   "source": [
    "for idx, test_item in enumerate(test_items):\n",
    "    _path = predict(checkpoint, test_item)\n",
    "    print(test_item[c['Id']], make_prediction(wholeRDD, _path))"
   ]
  },
  {
   "cell_type": "code",
   "execution_count": null,
   "id": "151ba5f4",
   "metadata": {},
   "outputs": [],
   "source": []
  }
 ],
 "metadata": {
  "kernelspec": {
   "display_name": "Python 3 (ipykernel)",
   "language": "python",
   "name": "python3"
  },
  "language_info": {
   "codemirror_mode": {
    "name": "ipython",
    "version": 3
   },
   "file_extension": ".py",
   "mimetype": "text/x-python",
   "name": "python",
   "nbconvert_exporter": "python",
   "pygments_lexer": "ipython3",
   "version": "3.7.15"
  }
 },
 "nbformat": 4,
 "nbformat_minor": 5
}
