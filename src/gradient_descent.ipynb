{
 "cells": [
  {
   "cell_type": "code",
   "execution_count": 1,
   "id": "edfffcfd",
   "metadata": {},
   "outputs": [],
   "source": [
    "import findspark\n",
    "findspark.init()"
   ]
  },
  {
   "cell_type": "code",
   "execution_count": 2,
   "id": "e8fbcf49",
   "metadata": {},
   "outputs": [],
   "source": [
    "from pyspark import SparkContext, SparkConf"
   ]
  },
  {
   "cell_type": "code",
   "execution_count": 3,
   "id": "f5031f70",
   "metadata": {},
   "outputs": [],
   "source": [
    "conf = SparkConf().setMaster(\"yarn\").setAppName(\"SGD\")"
   ]
  },
  {
   "cell_type": "code",
   "execution_count": 4,
   "id": "65996f8b",
   "metadata": {},
   "outputs": [
    {
     "name": "stderr",
     "output_type": "stream",
     "text": [
      "Setting default log level to \"WARN\".\n",
      "To adjust logging level use sc.setLogLevel(newLevel). For SparkR, use setLogLevel(newLevel).\n"
     ]
    },
    {
     "name": "stdout",
     "output_type": "stream",
     "text": [
      "23/01/02 07:16:54 WARN DataStreamer: Exception in createBlockOutputStream blk_1073742188_1367\n",
      "java.io.IOException: Got error, status=ERROR, status message , ack with firstBadLink as 192.1.1.20:9866\n",
      "\tat org.apache.hadoop.hdfs.protocol.datatransfer.DataTransferProtoUtil.checkBlockOpStatus(DataTransferProtoUtil.java:128)\n",
      "\tat org.apache.hadoop.hdfs.protocol.datatransfer.DataTransferProtoUtil.checkBlockOpStatus(DataTransferProtoUtil.java:104)\n",
      "\tat org.apache.hadoop.hdfs.DataStreamer.createBlockOutputStream(DataStreamer.java:1827)\n",
      "\tat org.apache.hadoop.hdfs.DataStreamer.nextBlockOutputStream(DataStreamer.java:1728)\n",
      "\tat org.apache.hadoop.hdfs.DataStreamer.run(DataStreamer.java:713)\n",
      "23/01/02 07:16:54 WARN DataStreamer: Abandoning BP-1190023728-192.1.1.10-1671092909957:blk_1073742188_1367\n",
      "23/01/02 07:16:54 WARN DataStreamer: Excluding datanode DatanodeInfoWithStorage[192.1.1.20:9866,DS-2ea39210-7e6c-47f0-b0f8-4cabbce6fcd4,DISK]\n",
      "23/01/02 07:16:55 WARN DataStreamer: Slow waitForAckedSeqno took 66973ms (threshold=30000ms). File being written: /user/vagrant/.sparkStaging/application_1672643310779_0002/pyspark.zip, block: BP-1190023728-192.1.1.10-1671092909957:blk_1073742189_1368, Write pipeline datanodes: [DatanodeInfoWithStorage[192.1.1.30:9866,DS-ba3d1826-aced-470b-9b25-e07d17e9a564,DISK]].\n"
     ]
    },
    {
     "data": {
      "text/plain": [
       "[('spark.driver.extraJavaOptions',\n",
       "  '-XX:+IgnoreUnrecognizedVMOptions --add-opens=java.base/java.lang=ALL-UNNAMED --add-opens=java.base/java.lang.invoke=ALL-UNNAMED --add-opens=java.base/java.lang.reflect=ALL-UNNAMED --add-opens=java.base/java.io=ALL-UNNAMED --add-opens=java.base/java.net=ALL-UNNAMED --add-opens=java.base/java.nio=ALL-UNNAMED --add-opens=java.base/java.util=ALL-UNNAMED --add-opens=java.base/java.util.concurrent=ALL-UNNAMED --add-opens=java.base/java.util.concurrent.atomic=ALL-UNNAMED --add-opens=java.base/sun.nio.ch=ALL-UNNAMED --add-opens=java.base/sun.nio.cs=ALL-UNNAMED --add-opens=java.base/sun.security.action=ALL-UNNAMED --add-opens=java.base/sun.util.calendar=ALL-UNNAMED --add-opens=java.security.jgss/sun.security.krb5=ALL-UNNAMED'),\n",
       " ('spark.app.startTime', '1672643727503'),\n",
       " ('spark.org.apache.hadoop.yarn.server.webproxy.amfilter.AmIpFilter.param.PROXY_URI_BASES',\n",
       "  'http://master:8088/proxy/application_1672643310779_0002'),\n",
       " ('spark.app.submitTime', '1672643726650'),\n",
       " ('spark.org.apache.hadoop.yarn.server.webproxy.amfilter.AmIpFilter.param.PROXY_HOSTS',\n",
       "  'master'),\n",
       " ('spark.app.id', 'application_1672643310779_0002'),\n",
       " ('spark.executor.id', 'driver'),\n",
       " ('spark.ui.proxyBase', '/proxy/application_1672643310779_0002'),\n",
       " ('spark.app.name', 'SGD'),\n",
       " ('spark.driver.bindAddress', '192.1.1.11'),\n",
       " ('spark.ui.port', '4050'),\n",
       " ('spark.master', 'yarn'),\n",
       " ('spark.driver.appUIAddress', 'http://edge:4050'),\n",
       " ('spark.rdd.compress', 'True'),\n",
       " ('spark.yarn.jars', ''),\n",
       " ('spark.driver.host', 'edge'),\n",
       " ('spark.executor.extraJavaOptions',\n",
       "  '-XX:+IgnoreUnrecognizedVMOptions --add-opens=java.base/java.lang=ALL-UNNAMED --add-opens=java.base/java.lang.invoke=ALL-UNNAMED --add-opens=java.base/java.lang.reflect=ALL-UNNAMED --add-opens=java.base/java.io=ALL-UNNAMED --add-opens=java.base/java.net=ALL-UNNAMED --add-opens=java.base/java.nio=ALL-UNNAMED --add-opens=java.base/java.util=ALL-UNNAMED --add-opens=java.base/java.util.concurrent=ALL-UNNAMED --add-opens=java.base/java.util.concurrent.atomic=ALL-UNNAMED --add-opens=java.base/sun.nio.ch=ALL-UNNAMED --add-opens=java.base/sun.nio.cs=ALL-UNNAMED --add-opens=java.base/sun.security.action=ALL-UNNAMED --add-opens=java.base/sun.util.calendar=ALL-UNNAMED --add-opens=java.security.jgss/sun.security.krb5=ALL-UNNAMED'),\n",
       " ('spark.serializer.objectStreamReset', '100'),\n",
       " ('spark.executorEnv.PYTHONPATH',\n",
       "  '/usr/local/spark/python:<CPS>{{PWD}}/pyspark.zip<CPS>{{PWD}}/py4j-0.10.9.5-src.zip'),\n",
       " ('spark.submit.pyFiles', ''),\n",
       " ('spark.yarn.isPython', 'true'),\n",
       " ('spark.submit.deployMode', 'client'),\n",
       " ('spark.ui.filters',\n",
       "  'org.apache.hadoop.yarn.server.webproxy.amfilter.AmIpFilter'),\n",
       " ('spark.ui.showConsoleProgress', 'true'),\n",
       " ('spark.driver.port', '36131')]"
      ]
     },
     "execution_count": 4,
     "metadata": {},
     "output_type": "execute_result"
    }
   ],
   "source": [
    "sc = SparkContext.getOrCreate (conf = conf)\n",
    "sc.getConf().getAll()"
   ]
  },
  {
   "cell_type": "code",
   "execution_count": 5,
   "id": "740e1c86",
   "metadata": {},
   "outputs": [],
   "source": [
    "import seaborn as sns\n",
    "import re\n",
    "import csv\n",
    "import math\n",
    "import pandas as pd\n",
    "import matplotlib.pyplot as plt\n",
    "from matplotlib  import cm\n",
    "import numpy as np"
   ]
  },
  {
   "cell_type": "code",
   "execution_count": 6,
   "id": "ba50e0bc",
   "metadata": {},
   "outputs": [],
   "source": [
    "createType = \"csv_read_chunk\"\n",
    "database = \"Windsor_Housing_large\"\n",
    "num_of_partition = 2"
   ]
  },
  {
   "cell_type": "code",
   "execution_count": 7,
   "id": "86cccb75",
   "metadata": {},
   "outputs": [],
   "source": [
    "def read_csvv(dataset_name):\n",
    "    df = pd.read_csv(\"{}.csv\".format(dataset_name))\n",
    "    return df"
   ]
  },
  {
   "cell_type": "code",
   "execution_count": 8,
   "id": "aca0388c",
   "metadata": {},
   "outputs": [],
   "source": [
    "df_origin = read_csvv(database)"
   ]
  },
  {
   "cell_type": "code",
   "execution_count": 9,
   "id": "a41e58f0",
   "metadata": {
    "scrolled": true
   },
   "outputs": [
    {
     "data": {
      "text/html": [
       "<div>\n",
       "<style scoped>\n",
       "    .dataframe tbody tr th:only-of-type {\n",
       "        vertical-align: middle;\n",
       "    }\n",
       "\n",
       "    .dataframe tbody tr th {\n",
       "        vertical-align: top;\n",
       "    }\n",
       "\n",
       "    .dataframe thead th {\n",
       "        text-align: right;\n",
       "    }\n",
       "</style>\n",
       "<table border=\"1\" class=\"dataframe\">\n",
       "  <thead>\n",
       "    <tr style=\"text-align: right;\">\n",
       "      <th></th>\n",
       "      <th>Unnamed: 0</th>\n",
       "      <th>price</th>\n",
       "      <th>lotsize</th>\n",
       "      <th>bedrooms</th>\n",
       "      <th>bathrms</th>\n",
       "      <th>stories</th>\n",
       "      <th>driveway</th>\n",
       "      <th>recroom</th>\n",
       "      <th>fullbase</th>\n",
       "      <th>gashw</th>\n",
       "      <th>airco</th>\n",
       "      <th>garagepl</th>\n",
       "      <th>prefarea</th>\n",
       "    </tr>\n",
       "  </thead>\n",
       "  <tbody>\n",
       "    <tr>\n",
       "      <th>0</th>\n",
       "      <td>0</td>\n",
       "      <td>42000.0</td>\n",
       "      <td>5850</td>\n",
       "      <td>3</td>\n",
       "      <td>1</td>\n",
       "      <td>2</td>\n",
       "      <td>yes</td>\n",
       "      <td>no</td>\n",
       "      <td>yes</td>\n",
       "      <td>no</td>\n",
       "      <td>no</td>\n",
       "      <td>1</td>\n",
       "      <td>no</td>\n",
       "    </tr>\n",
       "    <tr>\n",
       "      <th>1</th>\n",
       "      <td>1</td>\n",
       "      <td>38500.0</td>\n",
       "      <td>4000</td>\n",
       "      <td>2</td>\n",
       "      <td>1</td>\n",
       "      <td>1</td>\n",
       "      <td>yes</td>\n",
       "      <td>no</td>\n",
       "      <td>no</td>\n",
       "      <td>no</td>\n",
       "      <td>no</td>\n",
       "      <td>0</td>\n",
       "      <td>no</td>\n",
       "    </tr>\n",
       "    <tr>\n",
       "      <th>2</th>\n",
       "      <td>2</td>\n",
       "      <td>49500.0</td>\n",
       "      <td>3060</td>\n",
       "      <td>3</td>\n",
       "      <td>1</td>\n",
       "      <td>1</td>\n",
       "      <td>yes</td>\n",
       "      <td>no</td>\n",
       "      <td>no</td>\n",
       "      <td>no</td>\n",
       "      <td>no</td>\n",
       "      <td>0</td>\n",
       "      <td>no</td>\n",
       "    </tr>\n",
       "    <tr>\n",
       "      <th>3</th>\n",
       "      <td>3</td>\n",
       "      <td>60500.0</td>\n",
       "      <td>6650</td>\n",
       "      <td>3</td>\n",
       "      <td>1</td>\n",
       "      <td>2</td>\n",
       "      <td>yes</td>\n",
       "      <td>yes</td>\n",
       "      <td>no</td>\n",
       "      <td>no</td>\n",
       "      <td>no</td>\n",
       "      <td>0</td>\n",
       "      <td>no</td>\n",
       "    </tr>\n",
       "    <tr>\n",
       "      <th>4</th>\n",
       "      <td>4</td>\n",
       "      <td>61000.0</td>\n",
       "      <td>6360</td>\n",
       "      <td>2</td>\n",
       "      <td>1</td>\n",
       "      <td>1</td>\n",
       "      <td>yes</td>\n",
       "      <td>no</td>\n",
       "      <td>no</td>\n",
       "      <td>no</td>\n",
       "      <td>no</td>\n",
       "      <td>0</td>\n",
       "      <td>no</td>\n",
       "    </tr>\n",
       "    <tr>\n",
       "      <th>...</th>\n",
       "      <td>...</td>\n",
       "      <td>...</td>\n",
       "      <td>...</td>\n",
       "      <td>...</td>\n",
       "      <td>...</td>\n",
       "      <td>...</td>\n",
       "      <td>...</td>\n",
       "      <td>...</td>\n",
       "      <td>...</td>\n",
       "      <td>...</td>\n",
       "      <td>...</td>\n",
       "      <td>...</td>\n",
       "      <td>...</td>\n",
       "    </tr>\n",
       "    <tr>\n",
       "      <th>2541</th>\n",
       "      <td>2541</td>\n",
       "      <td>254000.0</td>\n",
       "      <td>15516</td>\n",
       "      <td>4</td>\n",
       "      <td>3</td>\n",
       "      <td>2</td>\n",
       "      <td>yes</td>\n",
       "      <td>no</td>\n",
       "      <td>no</td>\n",
       "      <td>no</td>\n",
       "      <td>yes</td>\n",
       "      <td>0</td>\n",
       "      <td>no</td>\n",
       "    </tr>\n",
       "    <tr>\n",
       "      <th>2542</th>\n",
       "      <td>2542</td>\n",
       "      <td>210200.0</td>\n",
       "      <td>21116</td>\n",
       "      <td>4</td>\n",
       "      <td>3</td>\n",
       "      <td>1</td>\n",
       "      <td>yes</td>\n",
       "      <td>no</td>\n",
       "      <td>no</td>\n",
       "      <td>no</td>\n",
       "      <td>no</td>\n",
       "      <td>0</td>\n",
       "      <td>no</td>\n",
       "    </tr>\n",
       "    <tr>\n",
       "      <th>2543</th>\n",
       "      <td>2543</td>\n",
       "      <td>478100.0</td>\n",
       "      <td>22814</td>\n",
       "      <td>5</td>\n",
       "      <td>1</td>\n",
       "      <td>2</td>\n",
       "      <td>yes</td>\n",
       "      <td>no</td>\n",
       "      <td>no</td>\n",
       "      <td>no</td>\n",
       "      <td>no</td>\n",
       "      <td>2</td>\n",
       "      <td>no</td>\n",
       "    </tr>\n",
       "    <tr>\n",
       "      <th>2544</th>\n",
       "      <td>2544</td>\n",
       "      <td>1988100.0</td>\n",
       "      <td>62908</td>\n",
       "      <td>8</td>\n",
       "      <td>6</td>\n",
       "      <td>2</td>\n",
       "      <td>yes</td>\n",
       "      <td>yes</td>\n",
       "      <td>yes</td>\n",
       "      <td>yes</td>\n",
       "      <td>no</td>\n",
       "      <td>2</td>\n",
       "      <td>no</td>\n",
       "    </tr>\n",
       "    <tr>\n",
       "      <th>2545</th>\n",
       "      <td>2545</td>\n",
       "      <td>446000.0</td>\n",
       "      <td>69227</td>\n",
       "      <td>1</td>\n",
       "      <td>1</td>\n",
       "      <td>2</td>\n",
       "      <td>no</td>\n",
       "      <td>no</td>\n",
       "      <td>no</td>\n",
       "      <td>no</td>\n",
       "      <td>no</td>\n",
       "      <td>1</td>\n",
       "      <td>no</td>\n",
       "    </tr>\n",
       "  </tbody>\n",
       "</table>\n",
       "<p>2546 rows × 13 columns</p>\n",
       "</div>"
      ],
      "text/plain": [
       "      Unnamed: 0      price  lotsize  bedrooms  bathrms  stories driveway  \\\n",
       "0              0    42000.0     5850         3        1        2      yes   \n",
       "1              1    38500.0     4000         2        1        1      yes   \n",
       "2              2    49500.0     3060         3        1        1      yes   \n",
       "3              3    60500.0     6650         3        1        2      yes   \n",
       "4              4    61000.0     6360         2        1        1      yes   \n",
       "...          ...        ...      ...       ...      ...      ...      ...   \n",
       "2541        2541   254000.0    15516         4        3        2      yes   \n",
       "2542        2542   210200.0    21116         4        3        1      yes   \n",
       "2543        2543   478100.0    22814         5        1        2      yes   \n",
       "2544        2544  1988100.0    62908         8        6        2      yes   \n",
       "2545        2545   446000.0    69227         1        1        2       no   \n",
       "\n",
       "     recroom fullbase gashw airco  garagepl prefarea  \n",
       "0         no      yes    no    no         1       no  \n",
       "1         no       no    no    no         0       no  \n",
       "2         no       no    no    no         0       no  \n",
       "3        yes       no    no    no         0       no  \n",
       "4         no       no    no    no         0       no  \n",
       "...      ...      ...   ...   ...       ...      ...  \n",
       "2541      no       no    no   yes         0       no  \n",
       "2542      no       no    no    no         0       no  \n",
       "2543      no       no    no    no         2       no  \n",
       "2544     yes      yes   yes    no         2       no  \n",
       "2545      no       no    no    no         1       no  \n",
       "\n",
       "[2546 rows x 13 columns]"
      ]
     },
     "execution_count": 9,
     "metadata": {},
     "output_type": "execute_result"
    }
   ],
   "source": [
    "df_origin"
   ]
  },
  {
   "cell_type": "code",
   "execution_count": 10,
   "id": "dede90c5",
   "metadata": {},
   "outputs": [],
   "source": [
    "df = df_origin.copy()"
   ]
  },
  {
   "cell_type": "code",
   "execution_count": 11,
   "id": "59069e07",
   "metadata": {},
   "outputs": [],
   "source": [
    "from sklearn.model_selection import train_test_split\n",
    "\n",
    "df, test_df = train_test_split(df, test_size=0.3)"
   ]
  },
  {
   "cell_type": "code",
   "execution_count": 12,
   "id": "5a08c220",
   "metadata": {},
   "outputs": [],
   "source": [
    "from sklearn.preprocessing import StandardScaler\n",
    "\n",
    "featureScaler = StandardScaler()\n",
    "df[['lotsize']] = featureScaler.fit_transform(df[['lotsize']])\n",
    "\n",
    "priceScaler = StandardScaler()\n",
    "df[['price']] = priceScaler.fit_transform(df[['price']])\n"
   ]
  },
  {
   "cell_type": "code",
   "execution_count": 13,
   "id": "06112396",
   "metadata": {},
   "outputs": [
    {
     "data": {
      "text/html": [
       "<div>\n",
       "<style scoped>\n",
       "    .dataframe tbody tr th:only-of-type {\n",
       "        vertical-align: middle;\n",
       "    }\n",
       "\n",
       "    .dataframe tbody tr th {\n",
       "        vertical-align: top;\n",
       "    }\n",
       "\n",
       "    .dataframe thead th {\n",
       "        text-align: right;\n",
       "    }\n",
       "</style>\n",
       "<table border=\"1\" class=\"dataframe\">\n",
       "  <thead>\n",
       "    <tr style=\"text-align: right;\">\n",
       "      <th></th>\n",
       "      <th>Unnamed: 0</th>\n",
       "      <th>price</th>\n",
       "      <th>lotsize</th>\n",
       "      <th>bedrooms</th>\n",
       "      <th>bathrms</th>\n",
       "      <th>stories</th>\n",
       "      <th>driveway</th>\n",
       "      <th>recroom</th>\n",
       "      <th>fullbase</th>\n",
       "      <th>gashw</th>\n",
       "      <th>airco</th>\n",
       "      <th>garagepl</th>\n",
       "      <th>prefarea</th>\n",
       "    </tr>\n",
       "  </thead>\n",
       "  <tbody>\n",
       "    <tr>\n",
       "      <th>855</th>\n",
       "      <td>855</td>\n",
       "      <td>-0.558410</td>\n",
       "      <td>-0.868905</td>\n",
       "      <td>5</td>\n",
       "      <td>2</td>\n",
       "      <td>3</td>\n",
       "      <td>yes</td>\n",
       "      <td>no</td>\n",
       "      <td>no</td>\n",
       "      <td>no</td>\n",
       "      <td>yes</td>\n",
       "      <td>0</td>\n",
       "      <td>yes</td>\n",
       "    </tr>\n",
       "    <tr>\n",
       "      <th>1788</th>\n",
       "      <td>1788</td>\n",
       "      <td>-0.077950</td>\n",
       "      <td>0.037293</td>\n",
       "      <td>5</td>\n",
       "      <td>1</td>\n",
       "      <td>2</td>\n",
       "      <td>yes</td>\n",
       "      <td>no</td>\n",
       "      <td>no</td>\n",
       "      <td>no</td>\n",
       "      <td>no</td>\n",
       "      <td>1</td>\n",
       "      <td>no</td>\n",
       "    </tr>\n",
       "    <tr>\n",
       "      <th>153</th>\n",
       "      <td>153</td>\n",
       "      <td>-1.001249</td>\n",
       "      <td>-1.222585</td>\n",
       "      <td>3</td>\n",
       "      <td>1</td>\n",
       "      <td>2</td>\n",
       "      <td>no</td>\n",
       "      <td>no</td>\n",
       "      <td>no</td>\n",
       "      <td>no</td>\n",
       "      <td>no</td>\n",
       "      <td>1</td>\n",
       "      <td>no</td>\n",
       "    </tr>\n",
       "    <tr>\n",
       "      <th>1010</th>\n",
       "      <td>1010</td>\n",
       "      <td>-0.295970</td>\n",
       "      <td>-0.206795</td>\n",
       "      <td>2</td>\n",
       "      <td>2</td>\n",
       "      <td>2</td>\n",
       "      <td>yes</td>\n",
       "      <td>no</td>\n",
       "      <td>no</td>\n",
       "      <td>no</td>\n",
       "      <td>yes</td>\n",
       "      <td>1</td>\n",
       "      <td>no</td>\n",
       "    </tr>\n",
       "    <tr>\n",
       "      <th>2225</th>\n",
       "      <td>2225</td>\n",
       "      <td>0.310045</td>\n",
       "      <td>-0.251496</td>\n",
       "      <td>5</td>\n",
       "      <td>1</td>\n",
       "      <td>4</td>\n",
       "      <td>yes</td>\n",
       "      <td>yes</td>\n",
       "      <td>no</td>\n",
       "      <td>no</td>\n",
       "      <td>yes</td>\n",
       "      <td>2</td>\n",
       "      <td>no</td>\n",
       "    </tr>\n",
       "    <tr>\n",
       "      <th>...</th>\n",
       "      <td>...</td>\n",
       "      <td>...</td>\n",
       "      <td>...</td>\n",
       "      <td>...</td>\n",
       "      <td>...</td>\n",
       "      <td>...</td>\n",
       "      <td>...</td>\n",
       "      <td>...</td>\n",
       "      <td>...</td>\n",
       "      <td>...</td>\n",
       "      <td>...</td>\n",
       "      <td>...</td>\n",
       "      <td>...</td>\n",
       "    </tr>\n",
       "    <tr>\n",
       "      <th>860</th>\n",
       "      <td>860</td>\n",
       "      <td>-0.338124</td>\n",
       "      <td>-0.255031</td>\n",
       "      <td>2</td>\n",
       "      <td>2</td>\n",
       "      <td>2</td>\n",
       "      <td>yes</td>\n",
       "      <td>yes</td>\n",
       "      <td>no</td>\n",
       "      <td>yes</td>\n",
       "      <td>no</td>\n",
       "      <td>1</td>\n",
       "      <td>no</td>\n",
       "    </tr>\n",
       "    <tr>\n",
       "      <th>775</th>\n",
       "      <td>775</td>\n",
       "      <td>-0.230700</td>\n",
       "      <td>-0.860577</td>\n",
       "      <td>2</td>\n",
       "      <td>3</td>\n",
       "      <td>2</td>\n",
       "      <td>yes</td>\n",
       "      <td>yes</td>\n",
       "      <td>no</td>\n",
       "      <td>no</td>\n",
       "      <td>yes</td>\n",
       "      <td>0</td>\n",
       "      <td>no</td>\n",
       "    </tr>\n",
       "    <tr>\n",
       "      <th>510</th>\n",
       "      <td>510</td>\n",
       "      <td>-0.874335</td>\n",
       "      <td>-1.140411</td>\n",
       "      <td>3</td>\n",
       "      <td>1</td>\n",
       "      <td>2</td>\n",
       "      <td>yes</td>\n",
       "      <td>yes</td>\n",
       "      <td>yes</td>\n",
       "      <td>no</td>\n",
       "      <td>no</td>\n",
       "      <td>2</td>\n",
       "      <td>no</td>\n",
       "    </tr>\n",
       "    <tr>\n",
       "      <th>1116</th>\n",
       "      <td>1116</td>\n",
       "      <td>-0.208037</td>\n",
       "      <td>0.214369</td>\n",
       "      <td>2</td>\n",
       "      <td>1</td>\n",
       "      <td>1</td>\n",
       "      <td>no</td>\n",
       "      <td>no</td>\n",
       "      <td>no</td>\n",
       "      <td>no</td>\n",
       "      <td>no</td>\n",
       "      <td>0</td>\n",
       "      <td>no</td>\n",
       "    </tr>\n",
       "    <tr>\n",
       "      <th>2411</th>\n",
       "      <td>2411</td>\n",
       "      <td>-0.739263</td>\n",
       "      <td>-0.682323</td>\n",
       "      <td>3</td>\n",
       "      <td>1</td>\n",
       "      <td>2</td>\n",
       "      <td>yes</td>\n",
       "      <td>no</td>\n",
       "      <td>no</td>\n",
       "      <td>no</td>\n",
       "      <td>no</td>\n",
       "      <td>0</td>\n",
       "      <td>no</td>\n",
       "    </tr>\n",
       "  </tbody>\n",
       "</table>\n",
       "<p>1782 rows × 13 columns</p>\n",
       "</div>"
      ],
      "text/plain": [
       "      Unnamed: 0     price   lotsize  bedrooms  bathrms  stories driveway  \\\n",
       "855          855 -0.558410 -0.868905         5        2        3      yes   \n",
       "1788        1788 -0.077950  0.037293         5        1        2      yes   \n",
       "153          153 -1.001249 -1.222585         3        1        2       no   \n",
       "1010        1010 -0.295970 -0.206795         2        2        2      yes   \n",
       "2225        2225  0.310045 -0.251496         5        1        4      yes   \n",
       "...          ...       ...       ...       ...      ...      ...      ...   \n",
       "860          860 -0.338124 -0.255031         2        2        2      yes   \n",
       "775          775 -0.230700 -0.860577         2        3        2      yes   \n",
       "510          510 -0.874335 -1.140411         3        1        2      yes   \n",
       "1116        1116 -0.208037  0.214369         2        1        1       no   \n",
       "2411        2411 -0.739263 -0.682323         3        1        2      yes   \n",
       "\n",
       "     recroom fullbase gashw airco  garagepl prefarea  \n",
       "855       no       no    no   yes         0      yes  \n",
       "1788      no       no    no    no         1       no  \n",
       "153       no       no    no    no         1       no  \n",
       "1010      no       no    no   yes         1       no  \n",
       "2225     yes       no    no   yes         2       no  \n",
       "...      ...      ...   ...   ...       ...      ...  \n",
       "860      yes       no   yes    no         1       no  \n",
       "775      yes       no    no   yes         0       no  \n",
       "510      yes      yes    no    no         2       no  \n",
       "1116      no       no    no    no         0       no  \n",
       "2411      no       no    no    no         0       no  \n",
       "\n",
       "[1782 rows x 13 columns]"
      ]
     },
     "execution_count": 13,
     "metadata": {},
     "output_type": "execute_result"
    }
   ],
   "source": [
    "df"
   ]
  },
  {
   "cell_type": "code",
   "execution_count": 14,
   "id": "6f9323dd",
   "metadata": {},
   "outputs": [],
   "source": [
    "category_cols = ['driveway', 'recroom', 'fullbase', 'gashw', 'airco', 'prefarea']"
   ]
  },
  {
   "cell_type": "code",
   "execution_count": 15,
   "id": "98681634",
   "metadata": {},
   "outputs": [],
   "source": [
    "from sklearn.preprocessing import LabelEncoder\n",
    "label_encoder = LabelEncoder()"
   ]
  },
  {
   "cell_type": "code",
   "execution_count": 16,
   "id": "a312a718",
   "metadata": {},
   "outputs": [],
   "source": [
    "for cate in category_cols:\n",
    "    df[cate] = label_encoder.fit_transform(df[cate])"
   ]
  },
  {
   "cell_type": "code",
   "execution_count": 17,
   "id": "86315f36",
   "metadata": {
    "scrolled": true
   },
   "outputs": [
    {
     "data": {
      "text/html": [
       "<div>\n",
       "<style scoped>\n",
       "    .dataframe tbody tr th:only-of-type {\n",
       "        vertical-align: middle;\n",
       "    }\n",
       "\n",
       "    .dataframe tbody tr th {\n",
       "        vertical-align: top;\n",
       "    }\n",
       "\n",
       "    .dataframe thead th {\n",
       "        text-align: right;\n",
       "    }\n",
       "</style>\n",
       "<table border=\"1\" class=\"dataframe\">\n",
       "  <thead>\n",
       "    <tr style=\"text-align: right;\">\n",
       "      <th></th>\n",
       "      <th>Unnamed: 0</th>\n",
       "      <th>price</th>\n",
       "      <th>lotsize</th>\n",
       "      <th>bedrooms</th>\n",
       "      <th>bathrms</th>\n",
       "      <th>stories</th>\n",
       "      <th>driveway</th>\n",
       "      <th>recroom</th>\n",
       "      <th>fullbase</th>\n",
       "      <th>gashw</th>\n",
       "      <th>airco</th>\n",
       "      <th>garagepl</th>\n",
       "      <th>prefarea</th>\n",
       "    </tr>\n",
       "  </thead>\n",
       "  <tbody>\n",
       "    <tr>\n",
       "      <th>855</th>\n",
       "      <td>855</td>\n",
       "      <td>-0.558410</td>\n",
       "      <td>-0.868905</td>\n",
       "      <td>5</td>\n",
       "      <td>2</td>\n",
       "      <td>3</td>\n",
       "      <td>1</td>\n",
       "      <td>0</td>\n",
       "      <td>0</td>\n",
       "      <td>0</td>\n",
       "      <td>1</td>\n",
       "      <td>0</td>\n",
       "      <td>1</td>\n",
       "    </tr>\n",
       "    <tr>\n",
       "      <th>1788</th>\n",
       "      <td>1788</td>\n",
       "      <td>-0.077950</td>\n",
       "      <td>0.037293</td>\n",
       "      <td>5</td>\n",
       "      <td>1</td>\n",
       "      <td>2</td>\n",
       "      <td>1</td>\n",
       "      <td>0</td>\n",
       "      <td>0</td>\n",
       "      <td>0</td>\n",
       "      <td>0</td>\n",
       "      <td>1</td>\n",
       "      <td>0</td>\n",
       "    </tr>\n",
       "    <tr>\n",
       "      <th>153</th>\n",
       "      <td>153</td>\n",
       "      <td>-1.001249</td>\n",
       "      <td>-1.222585</td>\n",
       "      <td>3</td>\n",
       "      <td>1</td>\n",
       "      <td>2</td>\n",
       "      <td>0</td>\n",
       "      <td>0</td>\n",
       "      <td>0</td>\n",
       "      <td>0</td>\n",
       "      <td>0</td>\n",
       "      <td>1</td>\n",
       "      <td>0</td>\n",
       "    </tr>\n",
       "    <tr>\n",
       "      <th>1010</th>\n",
       "      <td>1010</td>\n",
       "      <td>-0.295970</td>\n",
       "      <td>-0.206795</td>\n",
       "      <td>2</td>\n",
       "      <td>2</td>\n",
       "      <td>2</td>\n",
       "      <td>1</td>\n",
       "      <td>0</td>\n",
       "      <td>0</td>\n",
       "      <td>0</td>\n",
       "      <td>1</td>\n",
       "      <td>1</td>\n",
       "      <td>0</td>\n",
       "    </tr>\n",
       "    <tr>\n",
       "      <th>2225</th>\n",
       "      <td>2225</td>\n",
       "      <td>0.310045</td>\n",
       "      <td>-0.251496</td>\n",
       "      <td>5</td>\n",
       "      <td>1</td>\n",
       "      <td>4</td>\n",
       "      <td>1</td>\n",
       "      <td>1</td>\n",
       "      <td>0</td>\n",
       "      <td>0</td>\n",
       "      <td>1</td>\n",
       "      <td>2</td>\n",
       "      <td>0</td>\n",
       "    </tr>\n",
       "    <tr>\n",
       "      <th>...</th>\n",
       "      <td>...</td>\n",
       "      <td>...</td>\n",
       "      <td>...</td>\n",
       "      <td>...</td>\n",
       "      <td>...</td>\n",
       "      <td>...</td>\n",
       "      <td>...</td>\n",
       "      <td>...</td>\n",
       "      <td>...</td>\n",
       "      <td>...</td>\n",
       "      <td>...</td>\n",
       "      <td>...</td>\n",
       "      <td>...</td>\n",
       "    </tr>\n",
       "    <tr>\n",
       "      <th>860</th>\n",
       "      <td>860</td>\n",
       "      <td>-0.338124</td>\n",
       "      <td>-0.255031</td>\n",
       "      <td>2</td>\n",
       "      <td>2</td>\n",
       "      <td>2</td>\n",
       "      <td>1</td>\n",
       "      <td>1</td>\n",
       "      <td>0</td>\n",
       "      <td>1</td>\n",
       "      <td>0</td>\n",
       "      <td>1</td>\n",
       "      <td>0</td>\n",
       "    </tr>\n",
       "    <tr>\n",
       "      <th>775</th>\n",
       "      <td>775</td>\n",
       "      <td>-0.230700</td>\n",
       "      <td>-0.860577</td>\n",
       "      <td>2</td>\n",
       "      <td>3</td>\n",
       "      <td>2</td>\n",
       "      <td>1</td>\n",
       "      <td>1</td>\n",
       "      <td>0</td>\n",
       "      <td>0</td>\n",
       "      <td>1</td>\n",
       "      <td>0</td>\n",
       "      <td>0</td>\n",
       "    </tr>\n",
       "    <tr>\n",
       "      <th>510</th>\n",
       "      <td>510</td>\n",
       "      <td>-0.874335</td>\n",
       "      <td>-1.140411</td>\n",
       "      <td>3</td>\n",
       "      <td>1</td>\n",
       "      <td>2</td>\n",
       "      <td>1</td>\n",
       "      <td>1</td>\n",
       "      <td>1</td>\n",
       "      <td>0</td>\n",
       "      <td>0</td>\n",
       "      <td>2</td>\n",
       "      <td>0</td>\n",
       "    </tr>\n",
       "    <tr>\n",
       "      <th>1116</th>\n",
       "      <td>1116</td>\n",
       "      <td>-0.208037</td>\n",
       "      <td>0.214369</td>\n",
       "      <td>2</td>\n",
       "      <td>1</td>\n",
       "      <td>1</td>\n",
       "      <td>0</td>\n",
       "      <td>0</td>\n",
       "      <td>0</td>\n",
       "      <td>0</td>\n",
       "      <td>0</td>\n",
       "      <td>0</td>\n",
       "      <td>0</td>\n",
       "    </tr>\n",
       "    <tr>\n",
       "      <th>2411</th>\n",
       "      <td>2411</td>\n",
       "      <td>-0.739263</td>\n",
       "      <td>-0.682323</td>\n",
       "      <td>3</td>\n",
       "      <td>1</td>\n",
       "      <td>2</td>\n",
       "      <td>1</td>\n",
       "      <td>0</td>\n",
       "      <td>0</td>\n",
       "      <td>0</td>\n",
       "      <td>0</td>\n",
       "      <td>0</td>\n",
       "      <td>0</td>\n",
       "    </tr>\n",
       "  </tbody>\n",
       "</table>\n",
       "<p>1782 rows × 13 columns</p>\n",
       "</div>"
      ],
      "text/plain": [
       "      Unnamed: 0     price   lotsize  bedrooms  bathrms  stories  driveway  \\\n",
       "855          855 -0.558410 -0.868905         5        2        3         1   \n",
       "1788        1788 -0.077950  0.037293         5        1        2         1   \n",
       "153          153 -1.001249 -1.222585         3        1        2         0   \n",
       "1010        1010 -0.295970 -0.206795         2        2        2         1   \n",
       "2225        2225  0.310045 -0.251496         5        1        4         1   \n",
       "...          ...       ...       ...       ...      ...      ...       ...   \n",
       "860          860 -0.338124 -0.255031         2        2        2         1   \n",
       "775          775 -0.230700 -0.860577         2        3        2         1   \n",
       "510          510 -0.874335 -1.140411         3        1        2         1   \n",
       "1116        1116 -0.208037  0.214369         2        1        1         0   \n",
       "2411        2411 -0.739263 -0.682323         3        1        2         1   \n",
       "\n",
       "      recroom  fullbase  gashw  airco  garagepl  prefarea  \n",
       "855         0         0      0      1         0         1  \n",
       "1788        0         0      0      0         1         0  \n",
       "153         0         0      0      0         1         0  \n",
       "1010        0         0      0      1         1         0  \n",
       "2225        1         0      0      1         2         0  \n",
       "...       ...       ...    ...    ...       ...       ...  \n",
       "860         1         0      1      0         1         0  \n",
       "775         1         0      0      1         0         0  \n",
       "510         1         1      0      0         2         0  \n",
       "1116        0         0      0      0         0         0  \n",
       "2411        0         0      0      0         0         0  \n",
       "\n",
       "[1782 rows x 13 columns]"
      ]
     },
     "execution_count": 17,
     "metadata": {},
     "output_type": "execute_result"
    }
   ],
   "source": [
    "df"
   ]
  },
  {
   "cell_type": "code",
   "execution_count": 18,
   "id": "30b3431a",
   "metadata": {},
   "outputs": [],
   "source": [
    "columns = list(df.columns.values)"
   ]
  },
  {
   "cell_type": "code",
   "execution_count": 19,
   "id": "29a0e96a",
   "metadata": {
    "scrolled": false
   },
   "outputs": [
    {
     "data": {
      "text/plain": [
       "['Unnamed: 0',\n",
       " 'price',\n",
       " 'lotsize',\n",
       " 'bedrooms',\n",
       " 'bathrms',\n",
       " 'stories',\n",
       " 'driveway',\n",
       " 'recroom',\n",
       " 'fullbase',\n",
       " 'gashw',\n",
       " 'airco',\n",
       " 'garagepl',\n",
       " 'prefarea']"
      ]
     },
     "execution_count": 19,
     "metadata": {},
     "output_type": "execute_result"
    }
   ],
   "source": [
    "columns"
   ]
  },
  {
   "cell_type": "code",
   "execution_count": 20,
   "id": "4dc73273",
   "metadata": {},
   "outputs": [],
   "source": [
    "wholeRDD = sc.parallelize(df.values.tolist(), num_of_partition)"
   ]
  },
  {
   "cell_type": "code",
   "execution_count": 21,
   "id": "14c65966",
   "metadata": {
    "scrolled": true
   },
   "outputs": [
    {
     "name": "stderr",
     "output_type": "stream",
     "text": [
      "[Stage 0:>                                                          (0 + 0) / 1]\r"
     ]
    },
    {
     "name": "stdout",
     "output_type": "stream",
     "text": [
      "23/01/02 07:18:42 WARN YarnScheduler: Initial job has not accepted any resources; check your cluster UI to ensure that workers are registered and have sufficient resources\n"
     ]
    },
    {
     "name": "stderr",
     "output_type": "stream",
     "text": [
      "                                                                                \r"
     ]
    },
    {
     "data": {
      "text/plain": [
       "[[855.0,\n",
       "  -0.5584100716254294,\n",
       "  -0.8689047364116417,\n",
       "  5.0,\n",
       "  2.0,\n",
       "  3.0,\n",
       "  1.0,\n",
       "  0.0,\n",
       "  0.0,\n",
       "  0.0,\n",
       "  1.0,\n",
       "  0.0,\n",
       "  1.0],\n",
       " [1788.0,\n",
       "  -0.07794978073488291,\n",
       "  0.037293014306491956,\n",
       "  5.0,\n",
       "  1.0,\n",
       "  2.0,\n",
       "  1.0,\n",
       "  0.0,\n",
       "  0.0,\n",
       "  0.0,\n",
       "  0.0,\n",
       "  1.0,\n",
       "  0.0],\n",
       " [153.0,\n",
       "  -1.0012494152103955,\n",
       "  -1.2225850375588492,\n",
       "  3.0,\n",
       "  1.0,\n",
       "  2.0,\n",
       "  0.0,\n",
       "  0.0,\n",
       "  0.0,\n",
       "  0.0,\n",
       "  0.0,\n",
       "  1.0,\n",
       "  0.0],\n",
       " [1010.0,\n",
       "  -0.2959699693371026,\n",
       "  -0.20679510112317784,\n",
       "  2.0,\n",
       "  2.0,\n",
       "  2.0,\n",
       "  1.0,\n",
       "  0.0,\n",
       "  0.0,\n",
       "  0.0,\n",
       "  1.0,\n",
       "  1.0,\n",
       "  0.0],\n",
       " [2225.0,\n",
       "  0.31004456738050185,\n",
       "  -0.251496143182876,\n",
       "  5.0,\n",
       "  1.0,\n",
       "  4.0,\n",
       "  1.0,\n",
       "  1.0,\n",
       "  0.0,\n",
       "  0.0,\n",
       "  1.0,\n",
       "  2.0,\n",
       "  0.0]]"
      ]
     },
     "execution_count": 21,
     "metadata": {},
     "output_type": "execute_result"
    }
   ],
   "source": [
    "wholeRDD.take(5)"
   ]
  },
  {
   "cell_type": "code",
   "execution_count": 22,
   "id": "4b9f9177",
   "metadata": {
    "scrolled": true
   },
   "outputs": [
    {
     "name": "stdout",
     "output_type": "stream",
     "text": [
      "['id', 'price', 'lotsize', 'bedrooms', 'bathrms', 'stories', 'driveway', 'recroom', 'fullbase', 'gashw', 'airco', 'garagepl', 'prefarea']\n"
     ]
    }
   ],
   "source": [
    "columns[0] = 'id'\n",
    "print(columns)"
   ]
  },
  {
   "cell_type": "code",
   "execution_count": 23,
   "id": "12bb3d0d",
   "metadata": {
    "scrolled": true
   },
   "outputs": [
    {
     "name": "stdout",
     "output_type": "stream",
     "text": [
      "{'id': 0, 'price': 1, 'lotsize': 2, 'bedrooms': 3, 'bathrms': 4, 'stories': 5, 'driveway': 6, 'recroom': 7, 'fullbase': 8, 'gashw': 9, 'airco': 10, 'garagepl': 11, 'prefarea': 12}\n"
     ]
    }
   ],
   "source": [
    "c = {name: idx  for idx, name in enumerate(columns)}\n",
    "print(c)"
   ]
  },
  {
   "cell_type": "code",
   "execution_count": 24,
   "id": "e9c7ad79",
   "metadata": {
    "scrolled": true
   },
   "outputs": [
    {
     "data": {
      "text/plain": [
       "{'id': 0,\n",
       " 'price': 1,\n",
       " 'lotsize': 2,\n",
       " 'bedrooms': 3,\n",
       " 'bathrms': 4,\n",
       " 'stories': 5,\n",
       " 'driveway': 6,\n",
       " 'recroom': 7,\n",
       " 'fullbase': 8,\n",
       " 'gashw': 9,\n",
       " 'airco': 10,\n",
       " 'garagepl': 11,\n",
       " 'prefarea': 12}"
      ]
     },
     "execution_count": 24,
     "metadata": {},
     "output_type": "execute_result"
    }
   ],
   "source": [
    "c"
   ]
  },
  {
   "cell_type": "code",
   "execution_count": 25,
   "id": "b6655e7b",
   "metadata": {
    "scrolled": true
   },
   "outputs": [
    {
     "name": "stderr",
     "output_type": "stream",
     "text": [
      "[Stage 1:=============================>                             (1 + 1) / 2]\r"
     ]
    },
    {
     "name": "stdout",
     "output_type": "stream",
     "text": [
      "Number of training item =  1782\n",
      "Number of columns =  13\n"
     ]
    },
    {
     "name": "stderr",
     "output_type": "stream",
     "text": [
      "                                                                                \r"
     ]
    }
   ],
   "source": [
    "print(\"Number of training item = \", wholeRDD.count())\n",
    "print(\"Number of columns = \", len(columns))"
   ]
  },
  {
   "cell_type": "code",
   "execution_count": 26,
   "id": "9f2e69a7",
   "metadata": {},
   "outputs": [],
   "source": [
    "feature_num = len(columns) - 2 # except id and price columns\n",
    "feature_num = feature_num + 1 # bias"
   ]
  },
  {
   "cell_type": "code",
   "execution_count": 27,
   "id": "5edcf5ca",
   "metadata": {},
   "outputs": [],
   "source": [
    "def parseData(data):\n",
    "    try:\n",
    "        t = float(data)        \n",
    "        return t\n",
    "    except:\n",
    "        return data\n",
    "    \n",
    "\n",
    "def cleanData(line):\n",
    "    new_line = list(line)\n",
    "    for idx, value in enumerate(new_line):\n",
    "        if value == '':\n",
    "            new_line[idx] = None\n",
    "        \n",
    "        if new_line[idx] != None:\n",
    "            new_line[idx] = parseData(new_line[idx])\n",
    "    return tuple(new_line)\n",
    "            \n",
    "\n",
    "wholeRDD = wholeRDD.map(lambda line: cleanData(line))"
   ]
  },
  {
   "cell_type": "code",
   "execution_count": 28,
   "id": "a9595016",
   "metadata": {
    "scrolled": true
   },
   "outputs": [
    {
     "name": "stderr",
     "output_type": "stream",
     "text": [
      "                                                                                \r"
     ]
    },
    {
     "data": {
      "text/plain": [
       "[(855.0,\n",
       "  -0.5584100716254294,\n",
       "  -0.8689047364116417,\n",
       "  5.0,\n",
       "  2.0,\n",
       "  3.0,\n",
       "  1.0,\n",
       "  0.0,\n",
       "  0.0,\n",
       "  0.0,\n",
       "  1.0,\n",
       "  0.0,\n",
       "  1.0),\n",
       " (1788.0,\n",
       "  -0.07794978073488291,\n",
       "  0.037293014306491956,\n",
       "  5.0,\n",
       "  1.0,\n",
       "  2.0,\n",
       "  1.0,\n",
       "  0.0,\n",
       "  0.0,\n",
       "  0.0,\n",
       "  0.0,\n",
       "  1.0,\n",
       "  0.0),\n",
       " (153.0,\n",
       "  -1.0012494152103955,\n",
       "  -1.2225850375588492,\n",
       "  3.0,\n",
       "  1.0,\n",
       "  2.0,\n",
       "  0.0,\n",
       "  0.0,\n",
       "  0.0,\n",
       "  0.0,\n",
       "  0.0,\n",
       "  1.0,\n",
       "  0.0),\n",
       " (1010.0,\n",
       "  -0.2959699693371026,\n",
       "  -0.20679510112317784,\n",
       "  2.0,\n",
       "  2.0,\n",
       "  2.0,\n",
       "  1.0,\n",
       "  0.0,\n",
       "  0.0,\n",
       "  0.0,\n",
       "  1.0,\n",
       "  1.0,\n",
       "  0.0),\n",
       " (2225.0,\n",
       "  0.31004456738050185,\n",
       "  -0.251496143182876,\n",
       "  5.0,\n",
       "  1.0,\n",
       "  4.0,\n",
       "  1.0,\n",
       "  1.0,\n",
       "  0.0,\n",
       "  0.0,\n",
       "  1.0,\n",
       "  2.0,\n",
       "  0.0)]"
      ]
     },
     "execution_count": 28,
     "metadata": {},
     "output_type": "execute_result"
    }
   ],
   "source": [
    "wholeRDD.take(5)"
   ]
  },
  {
   "cell_type": "code",
   "execution_count": 29,
   "id": "4987a4b4",
   "metadata": {},
   "outputs": [],
   "source": [
    "def checkNone(line):\n",
    "    for i in line:\n",
    "        if i == None:\n",
    "            return False\n",
    "    \n",
    "    return True"
   ]
  },
  {
   "cell_type": "code",
   "execution_count": 30,
   "id": "87192983",
   "metadata": {
    "scrolled": false
   },
   "outputs": [],
   "source": [
    "wholeRDD = wholeRDD.filter(lambda line: checkNone(line))"
   ]
  },
  {
   "cell_type": "code",
   "execution_count": 31,
   "id": "3d081a9d",
   "metadata": {},
   "outputs": [],
   "source": [
    "def addBias(line):\n",
    "    new_line = list(line)\n",
    "    \n",
    "    # add bias 1\n",
    "    new_line.append(1)\n",
    "    \n",
    "    # Remove id\n",
    "    new_line = new_line[1:]\n",
    "    \n",
    "    # Add 1 col for different of label and predicted values\n",
    "    new_line.append(1)\n",
    "    \n",
    "    return tuple(new_line)"
   ]
  },
  {
   "cell_type": "code",
   "execution_count": 32,
   "id": "61c11dd0",
   "metadata": {},
   "outputs": [],
   "source": [
    "# Add bias as new column\n",
    "wholeRDD = wholeRDD.map(lambda line:addBias(line))"
   ]
  },
  {
   "cell_type": "code",
   "execution_count": 33,
   "id": "ee5322fc",
   "metadata": {
    "scrolled": true
   },
   "outputs": [
    {
     "data": {
      "text/plain": [
       "[(-0.5584100716254294,\n",
       "  -0.8689047364116417,\n",
       "  5.0,\n",
       "  2.0,\n",
       "  3.0,\n",
       "  1.0,\n",
       "  0.0,\n",
       "  0.0,\n",
       "  0.0,\n",
       "  1.0,\n",
       "  0.0,\n",
       "  1.0,\n",
       "  1,\n",
       "  1),\n",
       " (-0.07794978073488291,\n",
       "  0.037293014306491956,\n",
       "  5.0,\n",
       "  1.0,\n",
       "  2.0,\n",
       "  1.0,\n",
       "  0.0,\n",
       "  0.0,\n",
       "  0.0,\n",
       "  0.0,\n",
       "  1.0,\n",
       "  0.0,\n",
       "  1,\n",
       "  1),\n",
       " (-1.0012494152103955,\n",
       "  -1.2225850375588492,\n",
       "  3.0,\n",
       "  1.0,\n",
       "  2.0,\n",
       "  0.0,\n",
       "  0.0,\n",
       "  0.0,\n",
       "  0.0,\n",
       "  0.0,\n",
       "  1.0,\n",
       "  0.0,\n",
       "  1,\n",
       "  1),\n",
       " (-0.2959699693371026,\n",
       "  -0.20679510112317784,\n",
       "  2.0,\n",
       "  2.0,\n",
       "  2.0,\n",
       "  1.0,\n",
       "  0.0,\n",
       "  0.0,\n",
       "  0.0,\n",
       "  1.0,\n",
       "  1.0,\n",
       "  0.0,\n",
       "  1,\n",
       "  1),\n",
       " (0.31004456738050185,\n",
       "  -0.251496143182876,\n",
       "  5.0,\n",
       "  1.0,\n",
       "  4.0,\n",
       "  1.0,\n",
       "  1.0,\n",
       "  0.0,\n",
       "  0.0,\n",
       "  1.0,\n",
       "  2.0,\n",
       "  0.0,\n",
       "  1,\n",
       "  1)]"
      ]
     },
     "execution_count": 33,
     "metadata": {},
     "output_type": "execute_result"
    }
   ],
   "source": [
    "wholeRDD.take(5)"
   ]
  },
  {
   "cell_type": "code",
   "execution_count": 34,
   "id": "00426a33",
   "metadata": {},
   "outputs": [],
   "source": [
    "def dot_product_2_vec(vec1, vec2):\n",
    "    summ = 0\n",
    "    \n",
    "    assert len(vec1) == len(vec2)\n",
    "    for i in range(len(vec1)):\n",
    "        summ = summ + vec1[i] * vec2[i]\n",
    "    \n",
    "    return summ\n",
    "\n",
    "def add_new_diff(line, value):\n",
    "    new_line = list(line)\n",
    "    new_line[len(new_line)-1] = value\n",
    "    return tuple(new_line)\n",
    "    \n",
    "def dot_product_diff_mat_vec(rdd , vec):\n",
    "    return rdd.map(lambda line: add_new_diff(line, dot_product_2_vec(line[1:-1] , vec) - line[0]))"
   ]
  },
  {
   "cell_type": "code",
   "execution_count": 35,
   "id": "92fadc59",
   "metadata": {},
   "outputs": [],
   "source": [
    "def find_grad(rdd, idx_weight):\n",
    "    return rdd.map(lambda line: line[idx_weight] * line[-1]).reduce(lambda a,b : a + b)"
   ]
  },
  {
   "cell_type": "code",
   "execution_count": 36,
   "id": "d0da6dd2",
   "metadata": {
    "scrolled": true
   },
   "outputs": [
    {
     "name": "stdout",
     "output_type": "stream",
     "text": [
      "1782\n"
     ]
    },
    {
     "name": "stderr",
     "output_type": "stream",
     "text": [
      "                                                                                \r"
     ]
    },
    {
     "name": "stdout",
     "output_type": "stream",
     "text": [
      "[Loss 0/150] 11.169561456408477\n"
     ]
    },
    {
     "name": "stderr",
     "output_type": "stream",
     "text": [
      "                                                                                \r"
     ]
    },
    {
     "name": "stdout",
     "output_type": "stream",
     "text": [
      "23/01/02 07:19:13 WARN AccumulatorContext: Attempted to access garbage collected accumulator 277\n",
      "23/01/02 07:19:13 WARN AccumulatorContext: Attempted to access garbage collected accumulator 277\n",
      "23/01/02 07:19:13 WARN AccumulatorContext: Attempted to access garbage collected accumulator 278\n",
      "23/01/02 07:19:13 WARN AccumulatorContext: Attempted to access garbage collected accumulator 278\n",
      "23/01/02 07:19:13 WARN AccumulatorContext: Attempted to access garbage collected accumulator 284\n",
      "23/01/02 07:19:13 WARN AccumulatorContext: Attempted to access garbage collected accumulator 284\n"
     ]
    },
    {
     "name": "stderr",
     "output_type": "stream",
     "text": [
      "                                                                                \r"
     ]
    },
    {
     "name": "stdout",
     "output_type": "stream",
     "text": [
      "[Loss 1/150] 2.272878407425721\n",
      "[Loss 2/150] 1.4286847386591415\n"
     ]
    },
    {
     "name": "stderr",
     "output_type": "stream",
     "text": [
      "                                                                                \r"
     ]
    },
    {
     "name": "stdout",
     "output_type": "stream",
     "text": [
      "[Loss 3/150] 1.2226275717348065\n",
      "[Loss 4/150] 1.0768500251825233\n",
      "[Loss 5/150] 0.9810712845396615\n",
      "[Loss 6/150] 0.9119863759549895\n",
      "[Loss 7/150] 0.8584763744603429\n",
      "[Loss 8/150] 0.8143825153411067\n",
      "[Loss 9/150] 0.776348341040149\n",
      "[Loss 10/150] 0.7425120949973588\n",
      "[Loss 11/150] 0.7118144122917446\n",
      "[Loss 12/150] 0.6836265427427745\n",
      "[Loss 13/150] 0.6575522150771069\n",
      "[Loss 14/150] 0.6333224527230911\n",
      "[Loss 15/150] 0.6107399049997871\n",
      "[Loss 16/150] 0.589649381710937\n"
     ]
    },
    {
     "name": "stderr",
     "output_type": "stream",
     "text": [
      "                                                                                \r"
     ]
    },
    {
     "name": "stdout",
     "output_type": "stream",
     "text": [
      "[Loss 17/150] 0.5699221618890344\n"
     ]
    },
    {
     "name": "stderr",
     "output_type": "stream",
     "text": [
      "                                                                                \r"
     ]
    },
    {
     "name": "stdout",
     "output_type": "stream",
     "text": [
      "[Loss 18/150] 0.551447497032775\n",
      "[Loss 19/150] 0.534127854411546\n",
      "[Loss 20/150] 0.5178761034761746\n",
      "[Loss 21/150] 0.5026137198412404\n",
      "[Loss 22/150] 0.4882695347683284\n",
      "[Loss 23/150] 0.47477879120436245\n",
      "[Loss 24/150] 0.4620823856024496\n",
      "[Loss 25/150] 0.45012623371504\n",
      "[Loss 26/150] 0.4388607274858971\n",
      "[Loss 27/150] 0.428240264169633\n"
     ]
    },
    {
     "name": "stderr",
     "output_type": "stream",
     "text": [
      "                                                                                \r"
     ]
    },
    {
     "name": "stdout",
     "output_type": "stream",
     "text": [
      "[Loss 28/150] 0.4182228355568295\n",
      "[Loss 29/150] 0.40876966851100105\n",
      "[Loss 30/150] 0.3998449097929905\n",
      "[Loss 31/150] 0.3914153492320882\n",
      "[Loss 32/150] 0.38345017609128745\n",
      "[Loss 33/150] 0.3759207641284741\n",
      "[Loss 34/150] 0.368800481435924\n",
      "[Loss 35/150] 0.36206452166523617\n",
      "[Loss 36/150] 0.3556897537170231\n",
      "[Loss 37/150] 0.3496545873942733\n"
     ]
    },
    {
     "name": "stderr",
     "output_type": "stream",
     "text": [
      "                                                                                \r"
     ]
    },
    {
     "name": "stdout",
     "output_type": "stream",
     "text": [
      "[Loss 38/150] 0.3439388528860901\n",
      "[Loss 39/150] 0.3385236922668555\n",
      "[Loss 40/150] 0.3333914614685966\n",
      "[Loss 41/150] 0.32852564141617285\n",
      "[Loss 42/150] 0.32391075721076007\n",
      "[Loss 43/150] 0.3195323044119756\n",
      "[Loss 44/150] 0.31537668160734705\n",
      "[Loss 45/150] 0.3114311285739058\n",
      "[Loss 46/150] 0.30768366943395364\n",
      "[Loss 47/150] 0.3041230602887603\n",
      "[Loss 48/150] 0.3007387408825588\n",
      "[Loss 49/150] 0.29752078990709174\n",
      "[Loss 50/150] 0.29445988360581965\n",
      "[Loss 51/150] 0.29154725737832826\n",
      "[Loss 52/150] 0.2887746701207354\n",
      "[Loss 53/150] 0.2861343710679658\n",
      "[Loss 54/150] 0.28361906892957695\n",
      "[Loss 55/150] 0.2812219031330285\n",
      "[Loss 56/150] 0.278936417007456\n",
      "[Loss 57/150] 0.27675653275771733\n",
      "[Loss 58/150] 0.27467652809297555\n",
      "[Loss 59/150] 0.272691014386816\n",
      "[Loss 60/150] 0.27079491625709395\n",
      "[Loss 61/150] 0.26898345246356686\n",
      "[Loss 62/150] 0.26725211803013976\n",
      "[Loss 63/150] 0.2655966675063403\n",
      "[Loss 64/150] 0.2640130992896102\n",
      "[Loss 65/150] 0.2624976409362402\n",
      "[Loss 66/150] 0.26104673539440737\n",
      "[Loss 67/150] 0.25965702809784325\n",
      "[Loss 68/150] 0.2583253548632639\n",
      "[Loss 69/150] 0.2570487305388701\n",
      "[Loss 70/150] 0.25582433835503976\n",
      "[Loss 71/150] 0.2546495199318024\n",
      "[Loss 72/150] 0.25352176590088765\n",
      "[Loss 73/150] 0.252438707103036\n",
      "[Loss 74/150] 0.2513981063239964\n",
      "[Loss 75/150] 0.2503978505350587\n",
      "[Loss 76/150] 0.2494359436063014\n"
     ]
    },
    {
     "name": "stderr",
     "output_type": "stream",
     "text": [
      "                                                                                \r"
     ]
    },
    {
     "name": "stdout",
     "output_type": "stream",
     "text": [
      "[Loss 77/150] 0.2485104994628297\n",
      "[Loss 78/150] 0.24761973565624526\n",
      "[Loss 79/150] 0.24676196732540367\n",
      "[Loss 80/150] 0.24593560152220856\n",
      "[Loss 81/150] 0.24513913187975062\n",
      "[Loss 82/150] 0.2443711336015695\n",
      "[Loss 83/150] 0.243630258752167\n",
      "[Loss 84/150] 0.24291523183016903\n",
      "[Loss 85/150] 0.24222484560671995\n",
      "[Loss 86/150] 0.2415579572127828\n"
     ]
    },
    {
     "name": "stderr",
     "output_type": "stream",
     "text": [
      "                                                                                \r"
     ]
    },
    {
     "name": "stdout",
     "output_type": "stream",
     "text": [
      "[Loss 87/150] 0.24091348446006744\n",
      "[Loss 88/150] 0.2402904023812475\n",
      "[Loss 89/150] 0.2396877399760434\n"
     ]
    },
    {
     "name": "stderr",
     "output_type": "stream",
     "text": [
      "                                                                                \r"
     ]
    },
    {
     "name": "stdout",
     "output_type": "stream",
     "text": [
      "[Loss 90/150] 0.2391045771505855\n"
     ]
    },
    {
     "name": "stderr",
     "output_type": "stream",
     "text": [
      "                                                                                \r"
     ]
    },
    {
     "name": "stdout",
     "output_type": "stream",
     "text": [
      "[Loss 91/150] 0.23854004183824837\n",
      "[Loss 92/150] 0.23799330729089857\n",
      "[Loss 93/150] 0.23746358953016933\n",
      "[Loss 94/150] 0.23695014494903813\n",
      "[Loss 95/150] 0.23645226805457298\n",
      "[Loss 96/150] 0.23596928934328476\n",
      "[Loss 97/150] 0.23550057330105492\n",
      "[Loss 98/150] 0.23504551652009675\n",
      "[Loss 99/150] 0.2346035459258861\n",
      "[Loss 100/150] 0.23417411710741476\n",
      "[Loss 101/150] 0.23375671274455231\n",
      "[Loss 102/150] 0.23335084112666257\n"
     ]
    },
    {
     "name": "stderr",
     "output_type": "stream",
     "text": [
      "                                                                                \r"
     ]
    },
    {
     "name": "stdout",
     "output_type": "stream",
     "text": [
      "[Loss 103/150] 0.23295603475699503\n",
      "[Loss 104/150] 0.23257184903770173\n",
      "[Loss 105/150] 0.23219786103065024\n",
      "[Loss 106/150] 0.23183366828949478\n",
      "[Loss 107/150] 0.23147888775874564\n",
      "[Loss 108/150] 0.23113315473584578\n",
      "[Loss 109/150] 0.23079612189249443\n",
      "[Loss 110/150] 0.23046745835169896\n",
      "[Loss 111/150] 0.23014684881724487\n",
      "[Loss 112/150] 0.22983399275247257\n"
     ]
    },
    {
     "name": "stderr",
     "output_type": "stream",
     "text": [
      "                                                                                \r"
     ]
    },
    {
     "name": "stdout",
     "output_type": "stream",
     "text": [
      "[Loss 113/150] 0.22952860360544994\n"
     ]
    },
    {
     "name": "stderr",
     "output_type": "stream",
     "text": [
      "                                                                                \r"
     ]
    },
    {
     "name": "stdout",
     "output_type": "stream",
     "text": [
      "[Loss 114/150] 0.22923040807779463\n",
      "[Loss 115/150] 0.22893914543457305\n",
      "[Loss 116/150] 0.22865456685286065\n",
      "[Loss 117/150] 0.22837643480668815\n",
      "[Loss 118/150] 0.22810452248624385\n",
      "[Loss 119/150] 0.22783861324932544\n",
      "[Loss 120/150] 0.227578500103154\n",
      "[Loss 121/150] 0.22732398521479077\n",
      "[Loss 122/150] 0.22707487944847976\n",
      "[Loss 123/150] 0.22683100192836478\n",
      "[Loss 124/150] 0.22659217962510236\n",
      "[Loss 125/150] 0.22635824696499596\n",
      "[Loss 126/150] 0.22612904546035184\n",
      "[Loss 127/150] 0.2259044233598306\n",
      "[Loss 128/150] 0.22568423531765638\n",
      "[Loss 129/150] 0.22546834208059416\n",
      "[Loss 130/150] 0.22525661019168888\n"
     ]
    },
    {
     "name": "stderr",
     "output_type": "stream",
     "text": [
      "                                                                                \r"
     ]
    },
    {
     "name": "stdout",
     "output_type": "stream",
     "text": [
      "[Loss 131/150] 0.22504891170980612\n",
      "[Loss 132/150] 0.22484512394407694\n",
      "[Loss 133/150] 0.2246451292024083\n",
      "[Loss 134/150] 0.22444881455325416\n",
      "[Loss 135/150] 0.22425607159991057\n",
      "[Loss 136/150] 0.22406679626662\n"
     ]
    },
    {
     "name": "stderr",
     "output_type": "stream",
     "text": [
      "                                                                                \r"
     ]
    },
    {
     "name": "stdout",
     "output_type": "stream",
     "text": [
      "[Loss 137/150] 0.22388088859583255\n"
     ]
    },
    {
     "name": "stderr",
     "output_type": "stream",
     "text": [
      "                                                                                \r"
     ]
    },
    {
     "name": "stdout",
     "output_type": "stream",
     "text": [
      "[Loss 138/150] 0.22369825255599515\n",
      "[Loss 139/150] 0.2235187958592823\n"
     ]
    },
    {
     "name": "stderr",
     "output_type": "stream",
     "text": [
      "                                                                                \r"
     ]
    },
    {
     "name": "stdout",
     "output_type": "stream",
     "text": [
      "[Loss 140/150] 0.22334242978871807\n",
      "[Loss 141/150] 0.22316906903416756\n",
      "[Loss 142/150] 0.2229986315367076\n"
     ]
    },
    {
     "name": "stderr",
     "output_type": "stream",
     "text": [
      "                                                                                \r"
     ]
    },
    {
     "name": "stdout",
     "output_type": "stream",
     "text": [
      "[Loss 143/150] 0.22283103834091805\n"
     ]
    },
    {
     "name": "stderr",
     "output_type": "stream",
     "text": [
      "                                                                                \r"
     ]
    },
    {
     "name": "stdout",
     "output_type": "stream",
     "text": [
      "[Loss 144/150] 0.22266621345465382\n"
     ]
    },
    {
     "name": "stderr",
     "output_type": "stream",
     "text": [
      "                                                                                \r"
     ]
    },
    {
     "name": "stdout",
     "output_type": "stream",
     "text": [
      "[Loss 145/150] 0.22250408371589459\n",
      "[Loss 146/150] 0.22234457866628157\n",
      "[Loss 147/150] 0.22218763043097947\n"
     ]
    },
    {
     "name": "stderr",
     "output_type": "stream",
     "text": [
      "                                                                                \r"
     ]
    },
    {
     "name": "stdout",
     "output_type": "stream",
     "text": [
      "[Loss 148/150] 0.22203317360452046\n"
     ]
    },
    {
     "name": "stderr",
     "output_type": "stream",
     "text": [
      "                                                                                \r"
     ]
    },
    {
     "name": "stdout",
     "output_type": "stream",
     "text": [
      "[Loss 149/150] 0.22188114514230983\n"
     ]
    },
    {
     "name": "stderr",
     "output_type": "stream",
     "text": [
      "                                                                                \r"
     ]
    }
   ],
   "source": [
    "iterations = 150\n",
    "costs = [0 for i in range(iterations)]\n",
    "learning_rate = 0.1\n",
    "\n",
    "init_weight = np.random.normal(0, 1, feature_num).tolist()\n",
    "assert len(init_weight) == feature_num\n",
    "\n",
    "training_num = wholeRDD.count()\n",
    "\n",
    "print(training_num)\n",
    "best_loss = math.inf\n",
    "\n",
    "train_rdd = wholeRDD\n",
    "for i in range(iterations):\n",
    "\n",
    "    train_rdd = dot_product_diff_mat_vec(train_rdd, init_weight)\n",
    "    \n",
    "    # compute loss\n",
    "    cost_value = train_rdd.map(lambda x : x[-1] * x[-1]).reduce(lambda a, b: a + b) * (1 / training_num) * (1/2)\n",
    "   \n",
    "    print(\"[Loss {}/{}] {}\".format(i, iterations, cost_value))\n",
    "\n",
    "    costs[i] = cost_value\n",
    "        \n",
    "    # update weights\n",
    "    for idx in range(len(init_weight)):\n",
    "        init_weight[idx] = init_weight[idx] - learning_rate * (1 / training_num )* find_grad(train_rdd, idx + 1)\n",
    "        \n",
    "    if costs[i] < best_loss:\n",
    "        best_loss = costs[i]"
   ]
  },
  {
   "cell_type": "code",
   "execution_count": 37,
   "id": "9338624c",
   "metadata": {},
   "outputs": [],
   "source": [
    "def predict(df_t, weight):\n",
    "    \n",
    "    df_test = df_t.copy()\n",
    "    \n",
    "    # preprocess\n",
    "    df_test[['lotsize']] = featureScaler.transform(df_test[['lotsize']])\n",
    "    \n",
    "    for cate in category_cols:\n",
    "        df_test[cate] = label_encoder.transform(df_test[cate])\n",
    "        \n",
    "    size = len(df_test)\n",
    "    \n",
    "    # predict\n",
    "    df_test[\"bias\"] = [1 for i in range(size)]\n",
    "    \n",
    "    print(df_test.columns)\n",
    "    assert len(df_test.columns) == len(weight) + 2\n",
    "    \n",
    "    # predict\n",
    "    df_test['predict_price'] = df_test.apply(lambda line: dot_product_2_vec(line[2:] , weight), axis=1)\n",
    "    \n",
    "    # rescale price to origin\n",
    "    df_test['predict_price_normalized'] = priceScaler.inverse_transform([df_test['predict_price']])[0]\n",
    "    return df_test"
   ]
  },
  {
   "cell_type": "code",
   "execution_count": 38,
   "id": "7d0d4678",
   "metadata": {
    "scrolled": false
   },
   "outputs": [
    {
     "name": "stdout",
     "output_type": "stream",
     "text": [
      "Index(['Unnamed: 0', 'price', 'lotsize', 'bedrooms', 'bathrms', 'stories',\n",
      "       'driveway', 'recroom', 'fullbase', 'gashw', 'airco', 'garagepl',\n",
      "       'prefarea', 'bias'],\n",
      "      dtype='object')\n"
     ]
    }
   ],
   "source": [
    "df_test_result = predict(test_df, init_weight)"
   ]
  },
  {
   "cell_type": "code",
   "execution_count": 39,
   "id": "72f709d2",
   "metadata": {},
   "outputs": [],
   "source": [
    "df_test_result[['price_scaled']] = priceScaler.transform(df_test_result[['price']])"
   ]
  },
  {
   "cell_type": "code",
   "execution_count": 40,
   "id": "e18cfbf5",
   "metadata": {},
   "outputs": [
    {
     "data": {
      "text/html": [
       "<div>\n",
       "<style scoped>\n",
       "    .dataframe tbody tr th:only-of-type {\n",
       "        vertical-align: middle;\n",
       "    }\n",
       "\n",
       "    .dataframe tbody tr th {\n",
       "        vertical-align: top;\n",
       "    }\n",
       "\n",
       "    .dataframe thead th {\n",
       "        text-align: right;\n",
       "    }\n",
       "</style>\n",
       "<table border=\"1\" class=\"dataframe\">\n",
       "  <thead>\n",
       "    <tr style=\"text-align: right;\">\n",
       "      <th></th>\n",
       "      <th>Unnamed: 0</th>\n",
       "      <th>price</th>\n",
       "      <th>lotsize</th>\n",
       "      <th>bedrooms</th>\n",
       "      <th>bathrms</th>\n",
       "      <th>stories</th>\n",
       "      <th>driveway</th>\n",
       "      <th>recroom</th>\n",
       "      <th>fullbase</th>\n",
       "      <th>gashw</th>\n",
       "      <th>airco</th>\n",
       "      <th>garagepl</th>\n",
       "      <th>prefarea</th>\n",
       "      <th>bias</th>\n",
       "      <th>predict_price</th>\n",
       "      <th>predict_price_normalized</th>\n",
       "      <th>price_scaled</th>\n",
       "    </tr>\n",
       "  </thead>\n",
       "  <tbody>\n",
       "    <tr>\n",
       "      <th>833</th>\n",
       "      <td>833</td>\n",
       "      <td>328200.0</td>\n",
       "      <td>-0.267758</td>\n",
       "      <td>2</td>\n",
       "      <td>2</td>\n",
       "      <td>2</td>\n",
       "      <td>1</td>\n",
       "      <td>0</td>\n",
       "      <td>0</td>\n",
       "      <td>0</td>\n",
       "      <td>0</td>\n",
       "      <td>2</td>\n",
       "      <td>0</td>\n",
       "      <td>1</td>\n",
       "      <td>-0.365739</td>\n",
       "      <td>182207.518952</td>\n",
       "      <td>0.295993</td>\n",
       "    </tr>\n",
       "    <tr>\n",
       "      <th>1396</th>\n",
       "      <td>1396</td>\n",
       "      <td>400400.0</td>\n",
       "      <td>0.372119</td>\n",
       "      <td>5</td>\n",
       "      <td>4</td>\n",
       "      <td>3</td>\n",
       "      <td>1</td>\n",
       "      <td>0</td>\n",
       "      <td>0</td>\n",
       "      <td>1</td>\n",
       "      <td>0</td>\n",
       "      <td>1</td>\n",
       "      <td>0</td>\n",
       "      <td>1</td>\n",
       "      <td>1.311432</td>\n",
       "      <td>552227.910374</td>\n",
       "      <td>0.623250</td>\n",
       "    </tr>\n",
       "    <tr>\n",
       "      <th>1089</th>\n",
       "      <td>1089</td>\n",
       "      <td>339800.0</td>\n",
       "      <td>-0.158087</td>\n",
       "      <td>5</td>\n",
       "      <td>1</td>\n",
       "      <td>1</td>\n",
       "      <td>0</td>\n",
       "      <td>0</td>\n",
       "      <td>1</td>\n",
       "      <td>0</td>\n",
       "      <td>0</td>\n",
       "      <td>0</td>\n",
       "      <td>0</td>\n",
       "      <td>1</td>\n",
       "      <td>0.164379</td>\n",
       "      <td>299162.971476</td>\n",
       "      <td>0.348572</td>\n",
       "    </tr>\n",
       "    <tr>\n",
       "      <th>1475</th>\n",
       "      <td>1475</td>\n",
       "      <td>232900.0</td>\n",
       "      <td>0.053712</td>\n",
       "      <td>4</td>\n",
       "      <td>2</td>\n",
       "      <td>2</td>\n",
       "      <td>1</td>\n",
       "      <td>0</td>\n",
       "      <td>0</td>\n",
       "      <td>0</td>\n",
       "      <td>1</td>\n",
       "      <td>0</td>\n",
       "      <td>0</td>\n",
       "      <td>1</td>\n",
       "      <td>0.047706</td>\n",
       "      <td>273422.408119</td>\n",
       "      <td>-0.135968</td>\n",
       "    </tr>\n",
       "    <tr>\n",
       "      <th>1923</th>\n",
       "      <td>1923</td>\n",
       "      <td>263500.0</td>\n",
       "      <td>-0.265323</td>\n",
       "      <td>1</td>\n",
       "      <td>1</td>\n",
       "      <td>2</td>\n",
       "      <td>1</td>\n",
       "      <td>0</td>\n",
       "      <td>0</td>\n",
       "      <td>0</td>\n",
       "      <td>0</td>\n",
       "      <td>2</td>\n",
       "      <td>0</td>\n",
       "      <td>1</td>\n",
       "      <td>-0.613477</td>\n",
       "      <td>127551.138689</td>\n",
       "      <td>0.002731</td>\n",
       "    </tr>\n",
       "    <tr>\n",
       "      <th>...</th>\n",
       "      <td>...</td>\n",
       "      <td>...</td>\n",
       "      <td>...</td>\n",
       "      <td>...</td>\n",
       "      <td>...</td>\n",
       "      <td>...</td>\n",
       "      <td>...</td>\n",
       "      <td>...</td>\n",
       "      <td>...</td>\n",
       "      <td>...</td>\n",
       "      <td>...</td>\n",
       "      <td>...</td>\n",
       "      <td>...</td>\n",
       "      <td>...</td>\n",
       "      <td>...</td>\n",
       "      <td>...</td>\n",
       "      <td>...</td>\n",
       "    </tr>\n",
       "    <tr>\n",
       "      <th>490</th>\n",
       "      <td>490</td>\n",
       "      <td>50000.0</td>\n",
       "      <td>-0.488514</td>\n",
       "      <td>3</td>\n",
       "      <td>1</td>\n",
       "      <td>1</td>\n",
       "      <td>1</td>\n",
       "      <td>0</td>\n",
       "      <td>0</td>\n",
       "      <td>0</td>\n",
       "      <td>0</td>\n",
       "      <td>0</td>\n",
       "      <td>0</td>\n",
       "      <td>1</td>\n",
       "      <td>-0.626932</td>\n",
       "      <td>124582.477887</td>\n",
       "      <td>-0.964988</td>\n",
       "    </tr>\n",
       "    <tr>\n",
       "      <th>1993</th>\n",
       "      <td>1993</td>\n",
       "      <td>218500.0</td>\n",
       "      <td>0.028966</td>\n",
       "      <td>2</td>\n",
       "      <td>1</td>\n",
       "      <td>2</td>\n",
       "      <td>1</td>\n",
       "      <td>1</td>\n",
       "      <td>1</td>\n",
       "      <td>0</td>\n",
       "      <td>0</td>\n",
       "      <td>0</td>\n",
       "      <td>1</td>\n",
       "      <td>1</td>\n",
       "      <td>-0.218875</td>\n",
       "      <td>214608.834554</td>\n",
       "      <td>-0.201238</td>\n",
       "    </tr>\n",
       "    <tr>\n",
       "      <th>1443</th>\n",
       "      <td>1443</td>\n",
       "      <td>219300.0</td>\n",
       "      <td>0.487917</td>\n",
       "      <td>1</td>\n",
       "      <td>7</td>\n",
       "      <td>2</td>\n",
       "      <td>0</td>\n",
       "      <td>0</td>\n",
       "      <td>0</td>\n",
       "      <td>0</td>\n",
       "      <td>0</td>\n",
       "      <td>0</td>\n",
       "      <td>0</td>\n",
       "      <td>1</td>\n",
       "      <td>1.525679</td>\n",
       "      <td>599495.318191</td>\n",
       "      <td>-0.197612</td>\n",
       "    </tr>\n",
       "    <tr>\n",
       "      <th>1908</th>\n",
       "      <td>1908</td>\n",
       "      <td>208000.0</td>\n",
       "      <td>-0.493070</td>\n",
       "      <td>2</td>\n",
       "      <td>1</td>\n",
       "      <td>3</td>\n",
       "      <td>1</td>\n",
       "      <td>0</td>\n",
       "      <td>1</td>\n",
       "      <td>0</td>\n",
       "      <td>1</td>\n",
       "      <td>2</td>\n",
       "      <td>0</td>\n",
       "      <td>1</td>\n",
       "      <td>-0.471500</td>\n",
       "      <td>158874.296075</td>\n",
       "      <td>-0.248830</td>\n",
       "    </tr>\n",
       "    <tr>\n",
       "      <th>1440</th>\n",
       "      <td>1440</td>\n",
       "      <td>451500.0</td>\n",
       "      <td>0.603323</td>\n",
       "      <td>6</td>\n",
       "      <td>1</td>\n",
       "      <td>1</td>\n",
       "      <td>1</td>\n",
       "      <td>0</td>\n",
       "      <td>0</td>\n",
       "      <td>0</td>\n",
       "      <td>0</td>\n",
       "      <td>1</td>\n",
       "      <td>0</td>\n",
       "      <td>1</td>\n",
       "      <td>0.096154</td>\n",
       "      <td>284111.013673</td>\n",
       "      <td>0.854868</td>\n",
       "    </tr>\n",
       "  </tbody>\n",
       "</table>\n",
       "<p>764 rows × 17 columns</p>\n",
       "</div>"
      ],
      "text/plain": [
       "      Unnamed: 0     price   lotsize  bedrooms  bathrms  stories  driveway  \\\n",
       "833          833  328200.0 -0.267758         2        2        2         1   \n",
       "1396        1396  400400.0  0.372119         5        4        3         1   \n",
       "1089        1089  339800.0 -0.158087         5        1        1         0   \n",
       "1475        1475  232900.0  0.053712         4        2        2         1   \n",
       "1923        1923  263500.0 -0.265323         1        1        2         1   \n",
       "...          ...       ...       ...       ...      ...      ...       ...   \n",
       "490          490   50000.0 -0.488514         3        1        1         1   \n",
       "1993        1993  218500.0  0.028966         2        1        2         1   \n",
       "1443        1443  219300.0  0.487917         1        7        2         0   \n",
       "1908        1908  208000.0 -0.493070         2        1        3         1   \n",
       "1440        1440  451500.0  0.603323         6        1        1         1   \n",
       "\n",
       "      recroom  fullbase  gashw  airco  garagepl  prefarea  bias  \\\n",
       "833         0         0      0      0         2         0     1   \n",
       "1396        0         0      1      0         1         0     1   \n",
       "1089        0         1      0      0         0         0     1   \n",
       "1475        0         0      0      1         0         0     1   \n",
       "1923        0         0      0      0         2         0     1   \n",
       "...       ...       ...    ...    ...       ...       ...   ...   \n",
       "490         0         0      0      0         0         0     1   \n",
       "1993        1         1      0      0         0         1     1   \n",
       "1443        0         0      0      0         0         0     1   \n",
       "1908        0         1      0      1         2         0     1   \n",
       "1440        0         0      0      0         1         0     1   \n",
       "\n",
       "      predict_price  predict_price_normalized  price_scaled  \n",
       "833       -0.365739             182207.518952      0.295993  \n",
       "1396       1.311432             552227.910374      0.623250  \n",
       "1089       0.164379             299162.971476      0.348572  \n",
       "1475       0.047706             273422.408119     -0.135968  \n",
       "1923      -0.613477             127551.138689      0.002731  \n",
       "...             ...                       ...           ...  \n",
       "490       -0.626932             124582.477887     -0.964988  \n",
       "1993      -0.218875             214608.834554     -0.201238  \n",
       "1443       1.525679             599495.318191     -0.197612  \n",
       "1908      -0.471500             158874.296075     -0.248830  \n",
       "1440       0.096154             284111.013673      0.854868  \n",
       "\n",
       "[764 rows x 17 columns]"
      ]
     },
     "execution_count": 40,
     "metadata": {},
     "output_type": "execute_result"
    }
   ],
   "source": [
    "df_test_result"
   ]
  },
  {
   "cell_type": "code",
   "execution_count": 41,
   "id": "2284fd7f",
   "metadata": {},
   "outputs": [],
   "source": [
    "def calRMSE(vec1, vec2, n):\n",
    "    summ = 0\n",
    "    for i in range(n):\n",
    "        summ += (vec1[i] - vec2[i])**2\n",
    "    return summ * 1/(2*n)      "
   ]
  },
  {
   "cell_type": "code",
   "execution_count": 42,
   "id": "3519b554",
   "metadata": {},
   "outputs": [
    {
     "name": "stdout",
     "output_type": "stream",
     "text": [
      "Evaluation on RMSE (normalized form) =  11397614271.35817\n",
      "Evaluation on RMSE (scaled form) =  0.23416243433690245\n"
     ]
    }
   ],
   "source": [
    "n = len(df_test_result)\n",
    "print(\"Evaluation on RMSE (normalized form) = \", calRMSE(df_test_result['price'].tolist(), df_test_result['predict_price_normalized'].tolist(), n) )\n",
    "print(\"Evaluation on RMSE (scaled form) = \", calRMSE(df_test_result['predict_price'].tolist(), df_test_result['price_scaled'].tolist(), n) )"
   ]
  },
  {
   "cell_type": "markdown",
   "id": "db1cb732",
   "metadata": {},
   "source": [
    "RMSE of orignal form (normalized form) is obviously high because price is large too, which make our gradients and errors big too. To prevent this, I scaled data with StandardScaler with mean 0 and std 1. \n",
    "\n",
    "The result is column 'predict_price_normalized'"
   ]
  }
 ],
 "metadata": {
  "kernelspec": {
   "display_name": "Python 3 (ipykernel)",
   "language": "python",
   "name": "python3"
  },
  "language_info": {
   "codemirror_mode": {
    "name": "ipython",
    "version": 3
   },
   "file_extension": ".py",
   "mimetype": "text/x-python",
   "name": "python",
   "nbconvert_exporter": "python",
   "pygments_lexer": "ipython3",
   "version": "3.7.15"
  }
 },
 "nbformat": 4,
 "nbformat_minor": 5
}
